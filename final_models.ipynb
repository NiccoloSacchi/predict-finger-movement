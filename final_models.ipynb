{
 "cells": [
  {
   "cell_type": "code",
   "execution_count": 1,
   "metadata": {
    "collapsed": false
   },
   "outputs": [],
   "source": [
    "import dlc_bci as bci\n",
    "\n",
    "import os\n",
    "\n",
    "import torch\n",
    "import numpy as np\n",
    "from matplotlib.pylab import plt\n",
    "\n",
    "from models import *\n",
    "from callbacks import keep_best_model, store_best_model\n",
    "\n",
    "from types import SimpleNamespace \n",
    "\n",
    "import torch \n",
    "from torch import optim\n",
    "from torch import nn\n",
    "\n",
    "device = torch.device(\"cuda:1\" if torch.cuda.is_available() else \"cpu\")\n",
    "\n",
    "%matplotlib inline\n",
    "%load_ext autoreload\n",
    "%autoreload 2"
   ]
  },
  {
   "cell_type": "code",
   "execution_count": null,
   "metadata": {
    "collapsed": true
   },
   "outputs": [],
   "source": [
    "# seed not working ...\n",
    "torch.manual_seed(1)\n",
    "model2 = CNN_1D_MaxPool(**params)\n",
    "model2.to(device)\n",
    "\n",
    "torch.manual_seed(1)\n",
    "model1 = CNN_1D_MaxPool(**params)\n",
    "model1.to(device)\n",
    "\n",
    "p1 = model1.parameters()\n",
    "p2 = model2.parameters()\n",
    "for p in p1:\n",
    "    print((p == next(p2)).all())\n",
    "model1(X_tr[:1]), model2(X_tr[:1])"
   ]
  },
  {
   "cell_type": "code",
   "execution_count": null,
   "metadata": {
    "collapsed": true
   },
   "outputs": [],
   "source": [
    "grid_search_on=[\n",
    "        (\"nb_layers\", list(range(1, 7))),\n",
    "        (\"nb_hidden\", [np.asscalar(n) for n in np.arange(40, 201, 40)]),\n",
    "        (\"activation\", [nn.ReLU, nn.Tanh, nn.ELU]),\n",
    "        (\"weight_decay\", [0] + [np.asscalar(wd) for wd in np.logspace(-6, -2, 5, base=np.e)]),\n",
    "        (\"dropout\", [np.asscalar(d) for d in np.linspace(0, 0.30, 4)]),\n",
    "        (\"optimizer\", [optim.Adam, optim.Adadelta, optim.Adamax]),\n",
    "        (\"nb_layers\", list(range(1, 7)))\n",
    "    ]"
   ]
  },
  {
   "cell_type": "markdown",
   "metadata": {},
   "source": [
    "### Load data"
   ]
  },
  {
   "cell_type": "code",
   "execution_count": 2,
   "metadata": {
    "collapsed": false
   },
   "outputs": [
    {
     "name": "stdout",
     "output_type": "stream",
     "text": [
      "<class 'torch.Tensor'> torch.Size([316, 28, 50])\n",
      "<class 'torch.Tensor'> torch.Size([316])\n",
      "<class 'torch.Tensor'> torch.Size([100, 28, 50])\n",
      "<class 'torch.Tensor'> torch.Size([100])\n"
     ]
    }
   ],
   "source": [
    "one_khz=False\n",
    "\n",
    "train = SimpleNamespace()\n",
    "train.X, train.y = bci.load(root='./data_bci', one_khz=one_khz)\n",
    "print(str(type(train.X)), train.X.size())\n",
    "print(str(type(train.y)), train.y.size())\n",
    "\n",
    "test = SimpleNamespace()\n",
    "test.X, test.y = bci.load(root='./data_bci', train=False, one_khz=one_khz)\n",
    "print(str(type(test.X)), test.X.size())\n",
    "print(str(type(test.y)), test.y.size())"
   ]
  },
  {
   "cell_type": "code",
   "execution_count": 6,
   "metadata": {
    "collapsed": true
   },
   "outputs": [],
   "source": [
    "def load_best_params_and_scores(model):\n",
    "    model_path =  model().dir_path\n",
    "    \n",
    "    # load best params\n",
    "    params = torch.load(model_path + \"/cross_validation\" + \"/best_params_\")\n",
    "\n",
    "    # load cross validation scores\n",
    "    scores = torch.load(model_path + \"/cross_validation/scores/nb_layers\")\n",
    "    crossval_scores = scores[\"va_scores\"][params[\"nb_layers\"]-1]\n",
    "\n",
    "    return params, crossval_scores"
   ]
  },
  {
   "cell_type": "markdown",
   "metadata": {},
   "source": [
    "### Train the model on the best parameters and compute the test accuracy"
   ]
  },
  {
   "cell_type": "code",
   "execution_count": 100,
   "metadata": {
    "collapsed": true
   },
   "outputs": [],
   "source": [
    "cross_val_scores = {}"
   ]
  },
  {
   "cell_type": "markdown",
   "metadata": {},
   "source": [
    "- `CNN2D_MaxPool`"
   ]
  },
  {
   "cell_type": "code",
   "execution_count": 101,
   "metadata": {
    "collapsed": false
   },
   "outputs": [
    {
     "data": {
      "text/plain": [
       "({'activation': torch.nn.modules.activation.ELU,\n",
       "  'dropout': 0.0,\n",
       "  'nb_hidden': 80,\n",
       "  'nb_layers': 3,\n",
       "  'optimizer': torch.optim.adadelta.Adadelta,\n",
       "  'weight_decay': 0.0024787521766663594},\n",
       " [0.71875,\n",
       "  0.7301587301587301,\n",
       "  0.8095238095238095,\n",
       "  0.7619047619047619,\n",
       "  0.7936507936507936])"
      ]
     },
     "execution_count": 101,
     "metadata": {},
     "output_type": "execute_result"
    }
   ],
   "source": [
    "params, crossval_scores = load_best_params_and_scores(CNN2D_MaxPool)\n",
    "cross_val_scores[\"2D CNN\"] = crossval_scores\n",
    "\n",
    "params, crossval_scores"
   ]
  },
  {
   "cell_type": "code",
   "execution_count": 39,
   "metadata": {
    "collapsed": false,
    "scrolled": true
   },
   "outputs": [
    {
     "name": "stderr",
     "output_type": "stream",
     "text": [
      "/cvlabdata1/home/sacchi/others/predict-finger-movement/modelWrapper.py:126: UserWarning: invalid index of a 0-dim tensor. This will be an error in PyTorch 0.5. Use tensor.item() to convert a 0-dim tensor to a Python number\n",
      "  sum_loss_train += loss.data[0].item()\n",
      "/cvlabdata1/home/sacchi/others/predict-finger-movement/modelWrapper.py:135: UserWarning: invalid index of a 0-dim tensor. This will be an error in PyTorch 0.5. Use tensor.item() to convert a 0-dim tensor to a Python number\n",
      "  test_loss = self.criterion(self(X_test), y_test).data[0] if compute_test_err else None\n"
     ]
    },
    {
     "name": "stdout",
     "output_type": "stream",
     "text": [
      "Test score: 0.71\n"
     ]
    }
   ],
   "source": [
    "X_tr, y_tr = CNN2D_MaxPool.prepare_data(train)\n",
    "X_tr, y_tr = X_tr.to(device), y_tr.to(device)\n",
    "\n",
    "X_te, y_te = CNN2D_MaxPool.prepare_data(test)\n",
    "X_te, y_te = X_te.to(device), y_te.to(device)\n",
    "\n",
    "model = CNN2D_MaxPool(**params)\n",
    "model.to(device)\n",
    "\n",
    "model.fit(X_tr, y_tr, X_te, y_te, epochs=30, callbacks=[keep_best_model], verbose=False)\n",
    "print(\"Test score:\", model.score(X_te, y_te))"
   ]
  },
  {
   "cell_type": "markdown",
   "metadata": {},
   "source": [
    "- `CNN_1D_MaxPool`"
   ]
  },
  {
   "cell_type": "code",
   "execution_count": 102,
   "metadata": {
    "collapsed": false
   },
   "outputs": [
    {
     "data": {
      "text/plain": [
       "({'activation': torch.nn.modules.activation.ELU,\n",
       "  'dropout': 0.0,\n",
       "  'nb_hidden': 40,\n",
       "  'nb_layers': 1,\n",
       "  'optimizer': torch.optim.adam.Adam,\n",
       "  'weight_decay': 0.1353352832366127},\n",
       " [0.84375,\n",
       "  0.7619047619047619,\n",
       "  0.8412698412698413,\n",
       "  0.7142857142857143,\n",
       "  0.746031746031746])"
      ]
     },
     "execution_count": 102,
     "metadata": {},
     "output_type": "execute_result"
    }
   ],
   "source": [
    "params, crossval_scores = load_best_params_and_scores(CNN_1D_MaxPool)\n",
    "cross_val_scores[\"1D CNN\"] = crossval_scores\n",
    "\n",
    "params, crossval_scores"
   ]
  },
  {
   "cell_type": "code",
   "execution_count": 41,
   "metadata": {
    "collapsed": false,
    "scrolled": false
   },
   "outputs": [
    {
     "name": "stderr",
     "output_type": "stream",
     "text": [
      "/cvlabdata1/home/sacchi/others/predict-finger-movement/modelWrapper.py:126: UserWarning: invalid index of a 0-dim tensor. This will be an error in PyTorch 0.5. Use tensor.item() to convert a 0-dim tensor to a Python number\n",
      "  sum_loss_train += loss.data[0].item()\n",
      "/cvlabdata1/home/sacchi/others/predict-finger-movement/modelWrapper.py:135: UserWarning: invalid index of a 0-dim tensor. This will be an error in PyTorch 0.5. Use tensor.item() to convert a 0-dim tensor to a Python number\n",
      "  test_loss = self.criterion(self(X_test), y_test).data[0] if compute_test_err else None\n"
     ]
    },
    {
     "name": "stdout",
     "output_type": "stream",
     "text": [
      "Test score: 0.78\n"
     ]
    }
   ],
   "source": [
    "X_tr, y_tr = CNN_1D_MaxPool.prepare_data(train)\n",
    "X_tr, y_tr = X_tr.to(device), y_tr.to(device)\n",
    "\n",
    "X_te, y_te = CNN_1D_MaxPool.prepare_data(test)\n",
    "X_te, y_te = X_te.to(device), y_te.to(device)\n",
    "\n",
    "model = CNN_1D_MaxPool(**params)\n",
    "model.to(device)\n",
    "\n",
    "model.fit(X_tr, y_tr, X_te, y_te, epochs=50, callbacks=[keep_best_model], verbose=False)\n",
    "print(\"Test score:\", model.score(X_te, y_te))"
   ]
  },
  {
   "cell_type": "markdown",
   "metadata": {},
   "source": [
    "- `CNN_1D_BatchNorm`"
   ]
  },
  {
   "cell_type": "code",
   "execution_count": 103,
   "metadata": {
    "collapsed": false
   },
   "outputs": [
    {
     "data": {
      "text/plain": [
       "({'activation': torch.nn.modules.activation.Tanh,\n",
       "  'dropout': 0.19999999999999998,\n",
       "  'nb_hidden': 80,\n",
       "  'nb_layers': 1,\n",
       "  'optimizer': torch.optim.adam.Adam,\n",
       "  'weight_decay': 0.018315638888734186},\n",
       " [0.84375,\n",
       "  0.7142857142857143,\n",
       "  0.8571428571428571,\n",
       "  0.8571428571428571,\n",
       "  0.7301587301587301])"
      ]
     },
     "execution_count": 103,
     "metadata": {},
     "output_type": "execute_result"
    }
   ],
   "source": [
    "params, crossval_scores = load_best_params_and_scores(CNN_1D_BatchNorm)\n",
    "cross_val_scores[\"1D CNN + Batch norm\"] = crossval_scores\n",
    "\n",
    "params, crossval_scores"
   ]
  },
  {
   "cell_type": "code",
   "execution_count": 43,
   "metadata": {
    "collapsed": false
   },
   "outputs": [
    {
     "name": "stderr",
     "output_type": "stream",
     "text": [
      "/cvlabdata1/home/sacchi/others/predict-finger-movement/modelWrapper.py:126: UserWarning: invalid index of a 0-dim tensor. This will be an error in PyTorch 0.5. Use tensor.item() to convert a 0-dim tensor to a Python number\n",
      "  sum_loss_train += loss.data[0].item()\n",
      "/cvlabdata1/home/sacchi/others/predict-finger-movement/modelWrapper.py:135: UserWarning: invalid index of a 0-dim tensor. This will be an error in PyTorch 0.5. Use tensor.item() to convert a 0-dim tensor to a Python number\n",
      "  test_loss = self.criterion(self(X_test), y_test).data[0] if compute_test_err else None\n"
     ]
    },
    {
     "name": "stdout",
     "output_type": "stream",
     "text": [
      "Test score: 0.7\n"
     ]
    }
   ],
   "source": [
    "X_tr, y_tr = CNN_1D_BatchNorm.prepare_data(train)\n",
    "X_tr, y_tr = X_tr.to(device), y_tr.to(device)\n",
    "\n",
    "X_te, y_te = CNN_1D_BatchNorm.prepare_data(test)\n",
    "X_te, y_te = X_te.to(device), y_te.to(device)\n",
    "\n",
    "model = CNN_1D_BatchNorm(**params)\n",
    "model.to(device)\n",
    "\n",
    "model.fit(X_tr, y_tr, X_te, y_te, epochs=100, callbacks=[keep_best_model], verbose=False)\n",
    "print(\"Test score:\", model.score(X_te, y_te))"
   ]
  },
  {
   "cell_type": "markdown",
   "metadata": {},
   "source": [
    "- `CNN_1D_BatchNorm_Dial`"
   ]
  },
  {
   "cell_type": "code",
   "execution_count": 104,
   "metadata": {
    "collapsed": false
   },
   "outputs": [
    {
     "data": {
      "text/plain": [
       "({'activation': torch.nn.modules.activation.Tanh,\n",
       "  'dropout': 0.3,\n",
       "  'nb_hidden': 40,\n",
       "  'nb_layers': 4,\n",
       "  'optimizer': torch.optim.adamax.Adamax,\n",
       "  'weight_decay': 0.04978706836786395},\n",
       " [0.84375,\n",
       "  0.7301587301587301,\n",
       "  0.8253968253968254,\n",
       "  0.8571428571428571,\n",
       "  0.8571428571428571])"
      ]
     },
     "execution_count": 104,
     "metadata": {},
     "output_type": "execute_result"
    }
   ],
   "source": [
    "params, crossval_scores = load_best_params_and_scores(CNN_1D_BatchNorm_Dial)\n",
    "cross_val_scores[\"1D CNN dialated + Batch norm\"] = crossval_scores\n",
    "\n",
    "params, crossval_scores"
   ]
  },
  {
   "cell_type": "code",
   "execution_count": 45,
   "metadata": {
    "collapsed": false
   },
   "outputs": [
    {
     "name": "stderr",
     "output_type": "stream",
     "text": [
      "/cvlabdata1/home/sacchi/others/predict-finger-movement/modelWrapper.py:126: UserWarning: invalid index of a 0-dim tensor. This will be an error in PyTorch 0.5. Use tensor.item() to convert a 0-dim tensor to a Python number\n",
      "  sum_loss_train += loss.data[0].item()\n",
      "/cvlabdata1/home/sacchi/others/predict-finger-movement/modelWrapper.py:135: UserWarning: invalid index of a 0-dim tensor. This will be an error in PyTorch 0.5. Use tensor.item() to convert a 0-dim tensor to a Python number\n",
      "  test_loss = self.criterion(self(X_test), y_test).data[0] if compute_test_err else None\n"
     ]
    },
    {
     "name": "stdout",
     "output_type": "stream",
     "text": [
      "Test score: 0.79\n"
     ]
    }
   ],
   "source": [
    "X_tr, y_tr = CNN_1D_BatchNorm_Dial.prepare_data(train)\n",
    "X_tr, y_tr = X_tr.to(device), y_tr.to(device)\n",
    "\n",
    "X_te, y_te = CNN_1D_BatchNorm_Dial.prepare_data(test)\n",
    "X_te, y_te = X_te.to(device), y_te.to(device)\n",
    "\n",
    "model = CNN_1D_BatchNorm_Dial(**params)\n",
    "model.to(device)\n",
    "\n",
    "model.fit(X_tr, y_tr, X_te, y_te, epochs=60, callbacks=[keep_best_model], verbose=False)\n",
    "print(\"Test score:\", model.score(X_te, y_te))"
   ]
  },
  {
   "cell_type": "markdown",
   "metadata": {},
   "source": [
    "- `CNN_1D_Residual`"
   ]
  },
  {
   "cell_type": "code",
   "execution_count": 105,
   "metadata": {
    "collapsed": false
   },
   "outputs": [
    {
     "data": {
      "text/plain": [
       "({'activation': torch.nn.modules.activation.Tanh,\n",
       "  'dropout': 0.19999999999999998,\n",
       "  'nb_hidden': 200,\n",
       "  'nb_layers': 3,\n",
       "  'optimizer': torch.optim.adadelta.Adadelta,\n",
       "  'weight_decay': 0.018315638888734186},\n",
       " [0.859375,\n",
       "  0.6984126984126984,\n",
       "  0.7777777777777778,\n",
       "  0.7619047619047619,\n",
       "  0.6984126984126984])"
      ]
     },
     "execution_count": 105,
     "metadata": {},
     "output_type": "execute_result"
    }
   ],
   "source": [
    "params, crossval_scores = load_best_params_and_scores(CNN_1D_Residual)\n",
    "cross_val_scores[\"1D CNN residual\"] = crossval_scores\n",
    "\n",
    "params, crossval_scores"
   ]
  },
  {
   "cell_type": "code",
   "execution_count": 47,
   "metadata": {
    "collapsed": false
   },
   "outputs": [
    {
     "name": "stderr",
     "output_type": "stream",
     "text": [
      "/cvlabdata1/home/sacchi/others/predict-finger-movement/modelWrapper.py:126: UserWarning: invalid index of a 0-dim tensor. This will be an error in PyTorch 0.5. Use tensor.item() to convert a 0-dim tensor to a Python number\n",
      "  sum_loss_train += loss.data[0].item()\n",
      "/cvlabdata1/home/sacchi/others/predict-finger-movement/modelWrapper.py:135: UserWarning: invalid index of a 0-dim tensor. This will be an error in PyTorch 0.5. Use tensor.item() to convert a 0-dim tensor to a Python number\n",
      "  test_loss = self.criterion(self(X_test), y_test).data[0] if compute_test_err else None\n"
     ]
    },
    {
     "name": "stdout",
     "output_type": "stream",
     "text": [
      "Test score: 0.64\n"
     ]
    }
   ],
   "source": [
    "X_tr, y_tr = CNN_1D_Residual.prepare_data(train)\n",
    "X_tr, y_tr = X_tr.to(device), y_tr.to(device)\n",
    "\n",
    "X_te, y_te = CNN_1D_Residual.prepare_data(test)\n",
    "X_te, y_te = X_te.to(device), y_te.to(device)\n",
    "\n",
    "model = CNN_1D_Residual(**params)\n",
    "model.to(device)\n",
    "\n",
    "model.fit(X_tr, y_tr, X_te, y_te, epochs=50, callbacks=[keep_best_model], verbose=False)\n",
    "print(\"Test score:\", model.score(X_te, y_te))"
   ]
  },
  {
   "cell_type": "markdown",
   "metadata": {},
   "source": [
    "### Boxplot with the scores obtained with cross validation"
   ]
  },
  {
   "cell_type": "code",
   "execution_count": 88,
   "metadata": {
    "collapsed": false
   },
   "outputs": [
    {
     "name": "stdout",
     "output_type": "stream",
     "text": [
      "2D CNN. Accuracy: 0.762797619048 +- 0.0350472317453\n",
      "1D CNN. Accuracy: 0.781448412698 +- 0.0521674490824\n",
      "1D CNN + Batch norm. Accuracy: 0.800496031746 +- 0.0642933686409\n",
      "1D CNN dialated + Batch norm. Accuracy: 0.822718253968 +- 0.0477218632104\n",
      "1D CNN residual. Accuracy: 0.759176587302 +- 0.0596282978407\n"
     ]
    }
   ],
   "source": [
    "for model_name in cross_val_scores:\n",
    "    print(model_name + \". Accuracy:\", np.mean(cross_val_scores[model_name]), \"+-\",  np.std(cross_val_scores[model_name]))"
   ]
  },
  {
   "cell_type": "code",
   "execution_count": 89,
   "metadata": {
    "collapsed": false
   },
   "outputs": [
    {
     "data": {
      "image/png": "[encoded data removed]",
      "text/plain": [
       "<Figure size 648x504 with 1 Axes>"
      ]
     },
     "metadata": {},
     "output_type": "display_data"
    }
   ],
   "source": [
    "plt.figure(figsize=(9, 7))\n",
    "ax = plt.axes()\n",
    "plt.grid()\n",
    "\n",
    "model_names = []\n",
    "model_scores = []\n",
    "for model_name in cross_val_scores:\n",
    "    model_names.append(model_name)\n",
    "    model_scores.append(cross_val_scores[model_name])\n",
    "\n",
    "ax.boxplot(model_scores, patch_artist=True)\n",
    "ax.set_ylabel(\"Accuracy\")\n",
    "ax.set_xlabel(\"Model\")\n",
    "_ = ax.set_xticklabels(model_names, rotation=45)\n",
    "ax.set_ylim(0.6, 1)\n",
    "\n",
    "plt.savefig(\"img/cross_val_scores\")"
   ]
  },
  {
   "cell_type": "markdown",
   "metadata": {},
   "source": [
    "### Plot the train and test losses for `CNN_1D_BatchNorm_Dial`"
   ]
  },
  {
   "cell_type": "code",
   "execution_count": 13,
   "metadata": {
    "collapsed": false
   },
   "outputs": [
    {
     "name": "stderr",
     "output_type": "stream",
     "text": [
      "/cvlabdata1/home/sacchi/others/predict-finger-movement/modelWrapper.py:126: UserWarning: invalid index of a 0-dim tensor. This will be an error in PyTorch 0.5. Use tensor.item() to convert a 0-dim tensor to a Python number\n",
      "  sum_loss_train += loss.data[0].item()\n"
     ]
    },
    {
     "name": "stdout",
     "output_type": "stream",
     "text": [
      "Test score: 0.76\n"
     ]
    }
   ],
   "source": [
    "params, crossval_scores = load_best_params_and_scores(CNN_1D_BatchNorm_Dial)\n",
    "\n",
    "X_tr, y_tr = CNN_1D_BatchNorm_Dial.prepare_data(train)\n",
    "X_tr, y_tr = X_tr.to(device), y_tr.to(device)\n",
    "\n",
    "X_te, y_te = CNN_1D_BatchNorm_Dial.prepare_data(test)\n",
    "X_te, y_te = X_te.to(device), y_te.to(device)\n",
    "\n",
    "model = CNN_1D_BatchNorm_Dial(**params)\n",
    "model.to(device)\n",
    "\n",
    "model.fit(X_tr, y_tr, X_te, y_te, epochs=60, callbacks=[keep_best_model], verbose=False)\n",
    "print(\"Test score:\", model.score(X_te, y_te))"
   ]
  },
  {
   "cell_type": "code",
   "execution_count": 14,
   "metadata": {
    "collapsed": false
   },
   "outputs": [
    {
     "data": {
      "image/png": "[encoded data removed]",
      "text/plain": [
       "<Figure size 432x288 with 1 Axes>"
      ]
     },
     "metadata": {},
     "output_type": "display_data"
    }
   ],
   "source": [
    "epochs = list(range(len(model.history.test_losses)))\n",
    "plt.plot(epochs, model.history.test_losses, label='Test loss')\n",
    "plt.plot(epochs, model.history.train_losses, label='Train loss')\n",
    "plt.grid()\n",
    "plt.xlabel(\"epochs\")\n",
    "plt.ylabel(\"loss\")\n",
    "plt.legend()\n",
    "\n",
    "plt.savefig(\"img/train_test_losses\")"
   ]
  },
  {
   "cell_type": "markdown",
   "metadata": {},
   "source": [
    "### Show train loss with different oprìtimizers"
   ]
  },
  {
   "cell_type": "code",
   "execution_count": 7,
   "metadata": {
    "collapsed": false
   },
   "outputs": [
    {
     "data": {
      "text/plain": [
       "{'activation': torch.nn.modules.activation.Tanh,\n",
       " 'dropout': 0.3,\n",
       " 'nb_hidden': 40,\n",
       " 'nb_layers': 4,\n",
       " 'optimizer': torch.optim.adamax.Adamax,\n",
       " 'weight_decay': 0.04978706836786395}"
      ]
     },
     "execution_count": 7,
     "metadata": {},
     "output_type": "execute_result"
    }
   ],
   "source": [
    "params, crossval_scores = load_best_params_and_scores(CNN_1D_BatchNorm_Dial)\n",
    "\n",
    "X_tr, y_tr = CNN_1D_BatchNorm_Dial.prepare_data(train)\n",
    "X_tr, y_tr = X_tr.to(device), y_tr.to(device)\n",
    "\n",
    "X_te, y_te = CNN_1D_BatchNorm_Dial.prepare_data(test)\n",
    "X_te, y_te = X_te.to(device), y_te.to(device)\n",
    "params"
   ]
  },
  {
   "cell_type": "code",
   "execution_count": 8,
   "metadata": {
    "collapsed": false
   },
   "outputs": [
    {
     "name": "stdout",
     "output_type": "stream",
     "text": [
      "Training with Adam...\n"
     ]
    },
    {
     "name": "stderr",
     "output_type": "stream",
     "text": [
      "/cvlabdata1/home/sacchi/others/predict-finger-movement/modelWrapper.py:126: UserWarning: invalid index of a 0-dim tensor. This will be an error in PyTorch 0.5. Use tensor.item() to convert a 0-dim tensor to a Python number\n",
      "  sum_loss_train += loss.data[0].item()\n"
     ]
    },
    {
     "name": "stdout",
     "output_type": "stream",
     "text": [
      "Training with Adadelta...\n",
      "Training with Adamax...\n"
     ]
    }
   ],
   "source": [
    "train_losses = {}\n",
    "\n",
    "print(\"Training with Adam...\")\n",
    "params['optimizer'] = optim.Adam\n",
    "model = CNN_1D_BatchNorm_Dial(**params)\n",
    "model.to(device)\n",
    "model.fit(X_tr, y_tr, epochs=60, verbose=False)\n",
    "train_losses[\"Adam\"] = model.history.train_losses\n",
    "\n",
    "print(\"Training with Adadelta...\")\n",
    "params['optimizer'] = optim.Adadelta\n",
    "model = CNN_1D_BatchNorm_Dial(**params)\n",
    "model.to(device)\n",
    "model.fit(X_tr, y_tr, epochs=60, verbose=False)\n",
    "train_losses[\"Adadelta\"] = model.history.train_losses\n",
    "\n",
    "print(\"Training with Adamax...\")\n",
    "params['optimizer'] = optim.Adamax\n",
    "model = CNN_1D_BatchNorm_Dial(**params)\n",
    "model.to(device)\n",
    "model.fit(X_tr, y_tr, epochs=60, verbose=False)\n",
    "train_losses[\"Adamax\"] = model.history.train_losses"
   ]
  },
  {
   "cell_type": "code",
   "execution_count": 12,
   "metadata": {
    "collapsed": false
   },
   "outputs": [
    {
     "data": {
      "image/png": "[encoded data removed]",
      "text/plain": [
       "<Figure size 432x288 with 1 Axes>"
      ]
     },
     "metadata": {},
     "output_type": "display_data"
    }
   ],
   "source": [
    "epochs = list(range(len(train_losses[\"Adam\"])))\n",
    "plt.plot(epochs, train_losses[\"Adam\"], label='Adam')\n",
    "plt.plot(epochs, train_losses[\"Adadelta\"], label='Adadelta')\n",
    "plt.plot(epochs, train_losses[\"Adamax\"], label='Adamax')\n",
    "plt.grid()\n",
    "plt.xlabel(\"epochs\")\n",
    "plt.ylabel(\"loss\")\n",
    "plt.legend()\n",
    "\n",
    "plt.savefig(\"img/optimizers\")"
   ]
  }
 ],
 "metadata": {
  "kernelspec": {
   "display_name": "Python 3",
   "language": "python",
   "name": "python3"
  },
  "language_info": {
   "codemirror_mode": {
    "name": "ipython",
    "version": 3
   },
   "file_extension": ".py",
   "mimetype": "text/x-python",
   "name": "python",
   "nbconvert_exporter": "python",
   "pygments_lexer": "ipython3",
   "version": "3.6.5"
  }
 },
 "nbformat": 4,
 "nbformat_minor": 2
}
