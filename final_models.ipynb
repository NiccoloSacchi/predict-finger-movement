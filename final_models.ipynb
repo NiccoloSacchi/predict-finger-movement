{
 "cells": [
  {
   "cell_type": "code",
   "execution_count": 1,
   "metadata": {
    "collapsed": false
   },
   "outputs": [],
   "source": [
    "import dlc_bci as bci\n",
    "\n",
    "import os\n",
    "\n",
    "import torch\n",
    "import numpy as np\n",
    "\n",
    "from models import *\n",
    "from callbacks import keep_best_model, store_best_model\n",
    "\n",
    "from types import SimpleNamespace \n",
    "\n",
    "import torch \n",
    "from torch import optim\n",
    "from torch import nn\n",
    "\n",
    "device = torch.device(\"cuda:1\" if torch.cuda.is_available() else \"cpu\")\n",
    "\n",
    "%matplotlib inline\n",
    "%load_ext autoreload\n",
    "%autoreload 2"
   ]
  },
  {
   "cell_type": "code",
   "execution_count": 34,
   "metadata": {
    "collapsed": false
   },
   "outputs": [
    {
     "data": {
      "text/plain": [
       "[('nb_layers', [1, 2, 3, 4, 5, 6]),\n",
       " ('nb_hidden', [40, 80, 120, 160, 200]),\n",
       " ('activation',\n",
       "  [torch.nn.modules.activation.ReLU,\n",
       "   torch.nn.modules.activation.Tanh,\n",
       "   torch.nn.modules.activation.ELU]),\n",
       " ('weight_decay',\n",
       "  [0,\n",
       "   0.0024787521766663594,\n",
       "   0.006737946999085469,\n",
       "   0.018315638888734186,\n",
       "   0.04978706836786395,\n",
       "   0.1353352832366127]),\n",
       " ('dropout', [0.0, 0.09999999999999999, 0.19999999999999998, 0.3]),\n",
       " ('optimizer',\n",
       "  [torch.optim.adam.Adam,\n",
       "   torch.optim.adadelta.Adadelta,\n",
       "   torch.optim.adamax.Adamax]),\n",
       " ('nb_layers', [1, 2, 3, 4, 5, 6])]"
      ]
     },
     "execution_count": 34,
     "metadata": {},
     "output_type": "execute_result"
    }
   ],
   "source": [
    "grid_search_on=[\n",
    "        (\"nb_layers\", list(range(1, 7))),\n",
    "        (\"nb_hidden\", [np.asscalar(n) for n in np.arange(40, 201, 40)]),\n",
    "        (\"activation\", [nn.ReLU, nn.Tanh, nn.ELU]),\n",
    "        (\"weight_decay\", [0] + [np.asscalar(wd) for wd in np.logspace(-6, -2, 5, base=np.e)]),\n",
    "        (\"dropout\", [np.asscalar(d) for d in np.linspace(0, 0.30, 4)]),\n",
    "        (\"optimizer\", [optim.Adam, optim.Adadelta, optim.Adamax]),\n",
    "        (\"nb_layers\", list(range(1, 7)))\n",
    "    ]"
   ]
  },
  {
   "cell_type": "markdown",
   "metadata": {},
   "source": [
    "### Load"
   ]
  },
  {
   "cell_type": "code",
   "execution_count": 2,
   "metadata": {
    "collapsed": false
   },
   "outputs": [
    {
     "name": "stdout",
     "output_type": "stream",
     "text": [
      "<class 'torch.Tensor'> torch.Size([316, 28, 50])\n",
      "<class 'torch.Tensor'> torch.Size([316])\n",
      "<class 'torch.Tensor'> torch.Size([100, 28, 50])\n",
      "<class 'torch.Tensor'> torch.Size([100])\n"
     ]
    }
   ],
   "source": [
    "one_khz=False\n",
    "\n",
    "train = SimpleNamespace()\n",
    "train.X, train.y = bci.load(root='./data_bci', one_khz=one_khz)\n",
    "print(str(type(train.X)), train.X.size())\n",
    "print(str(type(train.y)), train.y.size())\n",
    "\n",
    "test = SimpleNamespace()\n",
    "test.X, test.y = bci.load(root='./data_bci', train=False, one_khz=one_khz)\n",
    "print(str(type(test.X)), test.X.size())\n",
    "print(str(type(test.y)), test.y.size())"
   ]
  },
  {
   "cell_type": "markdown",
   "metadata": {},
   "source": [
    "- `CNN2D_MaxPool`"
   ]
  },
  {
   "cell_type": "code",
   "execution_count": 3,
   "metadata": {
    "collapsed": true
   },
   "outputs": [],
   "source": [
    "X_tr, y_tr = CNN2D_MaxPool.prepare_data(train)\n",
    "X_tr, y_tr = X_tr.to(device), y_tr.to(device)\n",
    "\n",
    "X_te, y_te = CNN2D_MaxPool.prepare_data(test)\n",
    "X_te, y_te = X_te.to(device), y_te.to(device)"
   ]
  },
  {
   "cell_type": "code",
   "execution_count": 5,
   "metadata": {
    "collapsed": false,
    "scrolled": true
   },
   "outputs": [
    {
     "name": "stderr",
     "output_type": "stream",
     "text": [
      "/cvlabdata1/home/sacchi/others/predict-finger-movement/modelWrapper.py:124: UserWarning: invalid index of a 0-dim tensor. This will be an error in PyTorch 0.5. Use tensor.item() to convert a 0-dim tensor to a Python number\n",
      "  sum_loss_train += loss.data[0].item()\n",
      "/cvlabdata1/home/sacchi/others/predict-finger-movement/modelWrapper.py:131: UserWarning: invalid index of a 0-dim tensor. This will be an error in PyTorch 0.5. Use tensor.item() to convert a 0-dim tensor to a Python number\n",
      "  test_loss = self.criterion(self(X_test), y_test).data[0] if compute_test_err else None\n"
     ]
    },
    {
     "data": {
      "text/plain": [
       "0.77"
      ]
     },
     "execution_count": 5,
     "metadata": {},
     "output_type": "execute_result"
    }
   ],
   "source": [
    "# torch.manual_seed(1)\n",
    "# torch.cuda.manual_seed_all(1)\n",
    "\n",
    "params = {\n",
    "    \"nb_layers\": 3,\n",
    "    \"nb_hidden\": 80,\n",
    "    \"activation\": nn.ReLU,\n",
    "    \"weight_decay\": 0.0024787521766663594,\n",
    "    \"dropout\": 0.0,\n",
    "    \"optimizer\": optim.Adam,\n",
    "}\n",
    "model = CNN2D_MaxPool(**params)\n",
    "model.to(device)\n",
    "\n",
    "model.fit(X_tr, y_tr, X_te, y_te, epochs=100, callbacks=[keep_best_model], verbose=False)\n",
    "print(\"Test score:\", model.score(X_te, y_te))"
   ]
  },
  {
   "cell_type": "markdown",
   "metadata": {},
   "source": [
    "- `CNN_1D_MaxPool`"
   ]
  },
  {
   "cell_type": "code",
   "execution_count": 64,
   "metadata": {
    "collapsed": true
   },
   "outputs": [],
   "source": [
    "p1 = model1.parameters()\n",
    "p2 = model2.parameters()"
   ]
  },
  {
   "cell_type": "code",
   "execution_count": 65,
   "metadata": {
    "collapsed": false
   },
   "outputs": [
    {
     "name": "stdout",
     "output_type": "stream",
     "text": [
      "tensor(1, dtype=torch.uint8, device='cuda:1')\n",
      "tensor(1, dtype=torch.uint8, device='cuda:1')\n",
      "tensor(1, dtype=torch.uint8, device='cuda:1')\n",
      "tensor(1, dtype=torch.uint8, device='cuda:1')\n",
      "tensor(1, dtype=torch.uint8, device='cuda:1')\n",
      "tensor(1, dtype=torch.uint8, device='cuda:1')\n",
      "tensor(1, dtype=torch.uint8, device='cuda:1')\n",
      "tensor(1, dtype=torch.uint8, device='cuda:1')\n",
      "tensor(1, dtype=torch.uint8, device='cuda:1')\n",
      "tensor(1, dtype=torch.uint8, device='cuda:1')\n",
      "tensor(1, dtype=torch.uint8, device='cuda:1')\n",
      "tensor(1, dtype=torch.uint8, device='cuda:1')\n",
      "tensor(1, dtype=torch.uint8, device='cuda:1')\n",
      "tensor(1, dtype=torch.uint8, device='cuda:1')\n",
      "tensor(1, dtype=torch.uint8, device='cuda:1')\n",
      "tensor(1, dtype=torch.uint8, device='cuda:1')\n"
     ]
    }
   ],
   "source": [
    "for p in p1:\n",
    "    print((p == next(p2)).all())"
   ]
  },
  {
   "cell_type": "code",
   "execution_count": null,
   "metadata": {
    "collapsed": true
   },
   "outputs": [],
   "source": [
    "torch.manual_seed(1)\n",
    "model1 = CNN_1D_MaxPool(**params)\n",
    "model1.to(device)"
   ]
  },
  {
   "cell_type": "code",
   "execution_count": null,
   "metadata": {
    "collapsed": true
   },
   "outputs": [],
   "source": [
    "torch.manual_seed(1)\n",
    "model2 = CNN_1D_MaxPool(**params)\n",
    "model2.to(device)"
   ]
  },
  {
   "cell_type": "code",
   "execution_count": 28,
   "metadata": {
    "collapsed": true
   },
   "outputs": [],
   "source": [
    "X_tr, y_tr = CNN_1D_MaxPool.prepare_data(train)\n",
    "X_tr, y_tr = X_tr.to(device), y_tr.to(device)\n",
    "\n",
    "X_te, y_te = CNN_1D_MaxPool.prepare_data(test)\n",
    "X_te, y_te = X_te.to(device), y_te.to(device)"
   ]
  },
  {
   "cell_type": "code",
   "execution_count": 35,
   "metadata": {
    "collapsed": false,
    "scrolled": false
   },
   "outputs": [
    {
     "name": "stderr",
     "output_type": "stream",
     "text": [
      "/cvlabdata1/home/sacchi/others/predict-finger-movement/modelWrapper.py:124: UserWarning: invalid index of a 0-dim tensor. This will be an error in PyTorch 0.5. Use tensor.item() to convert a 0-dim tensor to a Python number\n",
      "  sum_loss_train += loss.data[0].item()\n",
      "/cvlabdata1/home/sacchi/others/predict-finger-movement/modelWrapper.py:131: UserWarning: invalid index of a 0-dim tensor. This will be an error in PyTorch 0.5. Use tensor.item() to convert a 0-dim tensor to a Python number\n",
      "  test_loss = self.criterion(self(X_test), y_test).data[0] if compute_test_err else None\n"
     ]
    },
    {
     "name": "stdout",
     "output_type": "stream",
     "text": [
      "Epoch 0: Train loss: 11.283170342445374. Train accuracy 49.68%. Test accuracy 51.00%\n",
      "Epoch 1: Train loss: 11.096117436885834. Train accuracy 57.28%. Test accuracy 54.00%\n",
      "Epoch 2: Train loss: 11.18070363998413. Train accuracy 49.68%. Test accuracy 51.00%\n",
      "Epoch 3: Train loss: 11.138029992580414. Train accuracy 51.90%. Test accuracy 51.00%\n",
      "Epoch 4: Train loss: 11.002616167068481. Train accuracy 57.59%. Test accuracy 61.00%\n",
      "Epoch 5: Train loss: 11.042902708053589. Train accuracy 58.86%. Test accuracy 55.00%\n",
      "Epoch 6: Train loss: 10.859645187854767. Train accuracy 63.29%. Test accuracy 59.00%\n",
      "Epoch 7: Train loss: 10.904100835323334. Train accuracy 64.24%. Test accuracy 58.00%\n",
      "Epoch 8: Train loss: 10.316790997982025. Train accuracy 70.89%. Test accuracy 57.00%\n",
      "Epoch 9: Train loss: 8.793445199728012. Train accuracy 66.77%. Test accuracy 60.00%\n",
      "Epoch 10: Train loss: 11.095050156116486. Train accuracy 63.29%. Test accuracy 59.00%\n",
      "Epoch 11: Train loss: 8.754759848117828. Train accuracy 71.84%. Test accuracy 67.00%\n",
      "Epoch 12: Train loss: 9.344594329595566. Train accuracy 71.20%. Test accuracy 66.00%\n",
      "Epoch 13: Train loss: 8.817027121782303. Train accuracy 81.65%. Test accuracy 79.00%\n",
      "Epoch 14: Train loss: 7.969798386096954. Train accuracy 80.38%. Test accuracy 78.00%\n",
      "Epoch 15: Train loss: 7.825838476419449. Train accuracy 80.70%. Test accuracy 78.00%\n",
      "Epoch 16: Train loss: 6.618949800729752. Train accuracy 83.23%. Test accuracy 69.00%\n",
      "Epoch 17: Train loss: 8.125344961881638. Train accuracy 82.28%. Test accuracy 77.00%\n",
      "Epoch 18: Train loss: 7.125471144914627. Train accuracy 78.48%. Test accuracy 78.00%\n",
      "Epoch 19: Train loss: 7.226737022399902. Train accuracy 81.65%. Test accuracy 77.00%\n",
      "Epoch 20: Train loss: 6.795202702283859. Train accuracy 81.65%. Test accuracy 76.00%\n",
      "Epoch 21: Train loss: 6.511716768145561. Train accuracy 87.03%. Test accuracy 79.00%\n",
      "Epoch 22: Train loss: 6.1140022575855255. Train accuracy 85.44%. Test accuracy 77.00%\n",
      "Epoch 23: Train loss: 5.831936225295067. Train accuracy 86.39%. Test accuracy 72.00%\n",
      "Epoch 24: Train loss: 5.49509634077549. Train accuracy 83.54%. Test accuracy 77.00%\n",
      "Epoch 25: Train loss: 6.416137874126434. Train accuracy 84.18%. Test accuracy 79.00%\n",
      "Epoch 26: Train loss: 5.898410782217979. Train accuracy 87.34%. Test accuracy 72.00%\n",
      "Epoch 27: Train loss: 5.242838591337204. Train accuracy 88.92%. Test accuracy 76.00%\n",
      "Epoch 28: Train loss: 6.110895857214928. Train accuracy 85.44%. Test accuracy 76.00%\n",
      "Epoch 29: Train loss: 6.48260423541069. Train accuracy 87.34%. Test accuracy 74.00%\n",
      "Epoch 30: Train loss: 5.003198906779289. Train accuracy 76.90%. Test accuracy 71.00%\n",
      "Epoch 31: Train loss: 5.719498515129089. Train accuracy 87.97%. Test accuracy 75.00%\n",
      "Epoch 32: Train loss: 5.088455840945244. Train accuracy 90.51%. Test accuracy 77.00%\n",
      "Epoch 33: Train loss: 4.5603053867816925. Train accuracy 87.34%. Test accuracy 73.00%\n",
      "Epoch 34: Train loss: 5.020515158772469. Train accuracy 88.61%. Test accuracy 75.00%\n",
      "Epoch 35: Train loss: 4.422562211751938. Train accuracy 90.51%. Test accuracy 79.00%\n",
      "Epoch 36: Train loss: 3.9261741414666176. Train accuracy 91.77%. Test accuracy 69.00%\n",
      "Epoch 37: Train loss: 4.6633632481098175. Train accuracy 87.03%. Test accuracy 69.00%\n",
      "Epoch 38: Train loss: 5.430243976414204. Train accuracy 88.29%. Test accuracy 75.00%\n",
      "Epoch 39: Train loss: 4.8510269820690155. Train accuracy 91.46%. Test accuracy 69.00%\n",
      "Epoch 40: Train loss: 4.590039290487766. Train accuracy 87.03%. Test accuracy 73.00%\n",
      "Epoch 41: Train loss: 4.6674440279603004. Train accuracy 88.61%. Test accuracy 73.00%\n",
      "Epoch 42: Train loss: 4.859955906867981. Train accuracy 91.14%. Test accuracy 73.00%\n",
      "Epoch 43: Train loss: 3.2723102644085884. Train accuracy 92.41%. Test accuracy 73.00%\n",
      "Epoch 44: Train loss: 3.433967351913452. Train accuracy 92.41%. Test accuracy 73.00%\n",
      "Epoch 45: Train loss: 3.322987463325262. Train accuracy 94.62%. Test accuracy 72.00%\n",
      "Epoch 46: Train loss: 2.570370739325881. Train accuracy 93.67%. Test accuracy 74.00%\n",
      "Epoch 47: Train loss: 2.670729197561741. Train accuracy 93.04%. Test accuracy 72.00%\n",
      "Epoch 48: Train loss: 2.9046856239438057. Train accuracy 89.56%. Test accuracy 77.00%\n",
      "Epoch 49: Train loss: 4.166286274790764. Train accuracy 93.35%. Test accuracy 77.00%\n",
      "Epoch 50: Train loss: 3.1305293887853622. Train accuracy 94.30%. Test accuracy 73.00%\n",
      "Epoch 51: Train loss: 4.115689225494862. Train accuracy 92.72%. Test accuracy 69.00%\n",
      "Epoch 52: Train loss: 3.525076352059841. Train accuracy 93.35%. Test accuracy 67.00%\n",
      "Epoch 53: Train loss: 3.293400354683399. Train accuracy 94.30%. Test accuracy 64.00%\n",
      "Epoch 54: Train loss: 4.322046548128128. Train accuracy 91.14%. Test accuracy 73.00%\n",
      "Epoch 55: Train loss: 4.165741339325905. Train accuracy 91.77%. Test accuracy 67.00%\n",
      "Epoch 56: Train loss: 2.85578715801239. Train accuracy 93.67%. Test accuracy 68.00%\n",
      "Epoch 57: Train loss: 3.0338079184293747. Train accuracy 92.41%. Test accuracy 76.00%\n",
      "Epoch 58: Train loss: 3.2243314534425735. Train accuracy 95.25%. Test accuracy 75.00%\n",
      "Epoch 59: Train loss: 2.4537758380174637. Train accuracy 96.20%. Test accuracy 73.00%\n",
      "Epoch 60: Train loss: 1.5502281412482262. Train accuracy 94.62%. Test accuracy 78.00%\n",
      "Epoch 61: Train loss: 2.3237476404756308. Train accuracy 95.25%. Test accuracy 74.00%\n",
      "Epoch 62: Train loss: 2.372741447761655. Train accuracy 93.99%. Test accuracy 78.00%\n",
      "Epoch 63: Train loss: 3.918111577630043. Train accuracy 91.77%. Test accuracy 66.00%\n",
      "Epoch 64: Train loss: 3.34273973852396. Train accuracy 95.57%. Test accuracy 74.00%\n",
      "Epoch 65: Train loss: 1.7875017495825887. Train accuracy 97.47%. Test accuracy 78.00%\n",
      "Epoch 66: Train loss: 1.3282031286507845. Train accuracy 98.42%. Test accuracy 75.00%\n",
      "Epoch 67: Train loss: 1.573214964941144. Train accuracy 98.42%. Test accuracy 72.00%\n",
      "Epoch 68: Train loss: 1.2819808050990105. Train accuracy 98.73%. Test accuracy 76.00%\n",
      "Epoch 69: Train loss: 1.1152669759467244. Train accuracy 98.42%. Test accuracy 76.00%\n",
      "Epoch 70: Train loss: 1.429757196456194. Train accuracy 96.52%. Test accuracy 73.00%\n",
      "Epoch 71: Train loss: 1.65604043379426. Train accuracy 96.20%. Test accuracy 74.00%\n",
      "Epoch 72: Train loss: 3.9256340712308884. Train accuracy 96.52%. Test accuracy 77.00%\n",
      "Epoch 73: Train loss: 2.0465331226587296. Train accuracy 97.15%. Test accuracy 73.00%\n",
      "Epoch 74: Train loss: 1.7021855069324374. Train accuracy 99.05%. Test accuracy 72.00%\n",
      "Epoch 75: Train loss: 1.2683322802186012. Train accuracy 95.25%. Test accuracy 70.00%\n",
      "Epoch 76: Train loss: 1.9996716938912868. Train accuracy 93.99%. Test accuracy 70.00%\n",
      "Epoch 77: Train loss: 1.8208740632981062. Train accuracy 98.42%. Test accuracy 76.00%\n",
      "Epoch 78: Train loss: 1.3695875089615583. Train accuracy 99.68%. Test accuracy 73.00%\n",
      "Epoch 79: Train loss: 0.8093433803878725. Train accuracy 98.42%. Test accuracy 75.00%\n",
      "Epoch 80: Train loss: 2.082075069192797. Train accuracy 96.20%. Test accuracy 72.00%\n",
      "Epoch 81: Train loss: 2.7283335770480335. Train accuracy 95.57%. Test accuracy 71.00%\n",
      "Epoch 82: Train loss: 3.4768324196338654. Train accuracy 91.77%. Test accuracy 66.00%\n",
      "Epoch 83: Train loss: 2.5512672141194344. Train accuracy 96.52%. Test accuracy 71.00%\n",
      "Epoch 84: Train loss: 1.7727752067148685. Train accuracy 98.42%. Test accuracy 79.00%\n",
      "Epoch 85: Train loss: 1.2902331273071468. Train accuracy 98.10%. Test accuracy 74.00%\n",
      "Epoch 86: Train loss: 1.8719598725438118. Train accuracy 97.78%. Test accuracy 80.00%\n",
      "Epoch 87: Train loss: 2.821854431182146. Train accuracy 91.77%. Test accuracy 67.00%\n",
      "Epoch 88: Train loss: 3.2908942475914955. Train accuracy 96.84%. Test accuracy 72.00%\n",
      "Epoch 89: Train loss: 1.2963486220687628. Train accuracy 98.73%. Test accuracy 74.00%\n",
      "Epoch 90: Train loss: 0.8510906114242971. Train accuracy 98.10%. Test accuracy 69.00%\n",
      "Epoch 91: Train loss: 1.1090476787649095. Train accuracy 97.78%. Test accuracy 66.00%\n",
      "Epoch 92: Train loss: 1.7136185425333679. Train accuracy 98.73%. Test accuracy 78.00%\n",
      "Epoch 93: Train loss: 1.3725771512836218. Train accuracy 97.15%. Test accuracy 74.00%\n",
      "Epoch 94: Train loss: 1.418135143816471. Train accuracy 99.37%. Test accuracy 79.00%\n",
      "Epoch 95: Train loss: 0.3883562390692532. Train accuracy 99.37%. Test accuracy 74.00%\n",
      "Epoch 96: Train loss: 0.18678971531335264. Train accuracy 100.00%. Test accuracy 77.00%\n",
      "Epoch 97: Train loss: 0.09821396332699805. Train accuracy 100.00%. Test accuracy 79.00%\n",
      "Epoch 98: Train loss: 0.06873637954413425. Train accuracy 100.00%. Test accuracy 78.00%\n",
      "Epoch 99: Train loss: 0.024733993675909005. Train accuracy 100.00%. Test accuracy 80.00%\n",
      "Test score: 0.8\n"
     ]
    }
   ],
   "source": [
    "params = {\n",
    "    \"nb_layers\": 2,\n",
    "    \"nb_hidden\": 40,\n",
    "    \"activation\": nn.ReLU,\n",
    "    \"weight_decay\": 0, #0.0024787521766663594\n",
    "    \"dropout\": 0.01,\n",
    "    \"optimizer\": optim.Adam,\n",
    "}\n",
    "model = CNN_1D_MaxPool(**params)\n",
    "model.to(device)\n",
    "\n",
    "model.fit(X_tr, y_tr, X_te, y_te, epochs=100, callbacks=[keep_best_model], verbose=True)\n",
    "print(\"Test score:\", model.score(X_te, y_te))"
   ]
  },
  {
   "cell_type": "markdown",
   "metadata": {},
   "source": [
    "- `CNN_1D_BatchNorm`"
   ]
  },
  {
   "cell_type": "code",
   "execution_count": 9,
   "metadata": {
    "collapsed": true
   },
   "outputs": [],
   "source": [
    "X_tr, y_tr = CNN_1D_BatchNorm.prepare_data(train)\n",
    "X_tr, y_tr = X_tr.to(device), y_tr.to(device)\n",
    "\n",
    "X_te, y_te = CNN_1D_BatchNorm.prepare_data(test)\n",
    "X_te, y_te = X_te.to(device), y_te.to(device)"
   ]
  },
  {
   "cell_type": "code",
   "execution_count": 23,
   "metadata": {
    "collapsed": false
   },
   "outputs": [
    {
     "name": "stderr",
     "output_type": "stream",
     "text": [
      "/cvlabdata1/home/sacchi/others/predict-finger-movement/modelWrapper.py:124: UserWarning: invalid index of a 0-dim tensor. This will be an error in PyTorch 0.5. Use tensor.item() to convert a 0-dim tensor to a Python number\n",
      "  sum_loss_train += loss.data[0].item()\n",
      "/cvlabdata1/home/sacchi/others/predict-finger-movement/modelWrapper.py:131: UserWarning: invalid index of a 0-dim tensor. This will be an error in PyTorch 0.5. Use tensor.item() to convert a 0-dim tensor to a Python number\n",
      "  test_loss = self.criterion(self(X_test), y_test).data[0] if compute_test_err else None\n"
     ]
    },
    {
     "name": "stdout",
     "output_type": "stream",
     "text": [
      "Test score: 0.78\n"
     ]
    }
   ],
   "source": [
    "params = {\n",
    "    \"nb_layers\": 3,\n",
    "    \"nb_hidden\": 40,\n",
    "    \"activation\": nn.Tanh,\n",
    "    \"weight_decay\": 0.007, #0.006737946999085469\n",
    "    \"dropout\": 0.01,\n",
    "    \"optimizer\": optim.Adam,\n",
    "}\n",
    "model = CNN_1D_BatchNorm(**params)\n",
    "model.to(device)\n",
    "\n",
    "model.fit(X_tr, y_tr, X_te, y_te, epochs=100, callbacks=[keep_best_model], verbose=False)\n",
    "print(\"Test score:\", model.score(X_te, y_te))"
   ]
  },
  {
   "cell_type": "markdown",
   "metadata": {},
   "source": [
    "- `CNN_1D_BatchNorm_Dial`"
   ]
  },
  {
   "cell_type": "code",
   "execution_count": 14,
   "metadata": {
    "collapsed": true
   },
   "outputs": [],
   "source": [
    "X_tr, y_tr = CNN_1D_BatchNorm_Dial.prepare_data(train)\n",
    "X_tr, y_tr = X_tr.to(device), y_tr.to(device)\n",
    "\n",
    "X_te, y_te = CNN_1D_BatchNorm_Dial.prepare_data(test)\n",
    "X_te, y_te = X_te.to(device), y_te.to(device)"
   ]
  },
  {
   "cell_type": "code",
   "execution_count": 19,
   "metadata": {
    "collapsed": false
   },
   "outputs": [
    {
     "name": "stderr",
     "output_type": "stream",
     "text": [
      "/cvlabdata1/home/sacchi/others/predict-finger-movement/modelWrapper.py:124: UserWarning: invalid index of a 0-dim tensor. This will be an error in PyTorch 0.5. Use tensor.item() to convert a 0-dim tensor to a Python number\n",
      "  sum_loss_train += loss.data[0].item()\n",
      "/cvlabdata1/home/sacchi/others/predict-finger-movement/modelWrapper.py:131: UserWarning: invalid index of a 0-dim tensor. This will be an error in PyTorch 0.5. Use tensor.item() to convert a 0-dim tensor to a Python number\n",
      "  test_loss = self.criterion(self(X_test), y_test).data[0] if compute_test_err else None\n"
     ]
    },
    {
     "name": "stdout",
     "output_type": "stream",
     "text": [
      "Test score: 0.79\n"
     ]
    }
   ],
   "source": [
    "params = {\n",
    "    \"nb_layers\": 1,\n",
    "    \"nb_hidden\": 40,\n",
    "    \"activation\": nn.Tanh,\n",
    "    \"weight_decay\": 0.13, #0.1353352832366127\n",
    "    \"dropout\": 0.2,\n",
    "    \"optimizer\": optim.Adamax,\n",
    "}\n",
    "model = CNN_1D_BatchNorm_Dial(**params)\n",
    "model.to(device)\n",
    "\n",
    "model.fit(X_tr, y_tr, X_te, y_te, epochs=100, callbacks=[keep_best_model], verbose=False)\n",
    "print(\"Test score:\", model.score(X_te, y_te))"
   ]
  },
  {
   "cell_type": "markdown",
   "metadata": {},
   "source": [
    "- `CNN_1D_Residual`"
   ]
  },
  {
   "cell_type": "code",
   "execution_count": null,
   "metadata": {
    "collapsed": true
   },
   "outputs": [],
   "source": [
    "X_tr, y_tr = CNN_1D_Residual.prepare_data(train)\n",
    "X_tr, y_tr = X_tr.to(device), y_tr.to(device)\n",
    "\n",
    "X_te, y_te = CNN_1D_Residual.prepare_data(test)\n",
    "X_te, y_te = X_te.to(device), y_te.to(device)"
   ]
  },
  {
   "cell_type": "code",
   "execution_count": 22,
   "metadata": {
    "collapsed": false
   },
   "outputs": [
    {
     "name": "stderr",
     "output_type": "stream",
     "text": [
      "/cvlabdata1/home/sacchi/others/predict-finger-movement/modelWrapper.py:124: UserWarning: invalid index of a 0-dim tensor. This will be an error in PyTorch 0.5. Use tensor.item() to convert a 0-dim tensor to a Python number\n",
      "  sum_loss_train += loss.data[0].item()\n",
      "/cvlabdata1/home/sacchi/others/predict-finger-movement/modelWrapper.py:131: UserWarning: invalid index of a 0-dim tensor. This will be an error in PyTorch 0.5. Use tensor.item() to convert a 0-dim tensor to a Python number\n",
      "  test_loss = self.criterion(self(X_test), y_test).data[0] if compute_test_err else None\n"
     ]
    },
    {
     "name": "stdout",
     "output_type": "stream",
     "text": [
      "Test score: 0.75\n"
     ]
    }
   ],
   "source": [
    "params = {\n",
    "    \"nb_layers\": 2,\n",
    "    \"nb_hidden\": 80,\n",
    "    \"activation\": nn.Tanh,\n",
    "    \"weight_decay\": 0.0025,\n",
    "    \"dropout\": 0.01,\n",
    "    \"optimizer\": optim.Adadelta,\n",
    "}\n",
    "model = CNN_1D_Residual(**params)\n",
    "model.to(device)\n",
    "\n",
    "model.fit(X_tr, y_tr, X_te, y_te, epochs=100, callbacks=[keep_best_model], verbose=False)\n",
    "print(\"Test score:\", model.score(X_te, y_te))"
   ]
  }
 ],
 "metadata": {
  "kernelspec": {
   "display_name": "Python 3",
   "language": "python",
   "name": "python3"
  },
  "language_info": {
   "codemirror_mode": {
    "name": "ipython",
    "version": 3
   },
   "file_extension": ".py",
   "mimetype": "text/x-python",
   "name": "python",
   "nbconvert_exporter": "python",
   "pygments_lexer": "ipython3",
   "version": "3.6.5"
  }
 },
 "nbformat": 4,
 "nbformat_minor": 2
}
