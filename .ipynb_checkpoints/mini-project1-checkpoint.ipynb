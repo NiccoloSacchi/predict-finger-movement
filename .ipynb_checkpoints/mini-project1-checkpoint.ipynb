{
 "cells": [
  {
   "cell_type": "markdown",
   "metadata": {},
   "source": [
    "[optimizations](http://ruder.io/optimizing-gradient-descent/)\n",
    "\n",
    "Choosing a proper learning rate can be difficult. A learning rate that is too small leads to painfully slow convergence, while a learning rate that is too large can hinder convergence and cause the loss function to fluctuate around the minimum or even to diverge. the same learning rate applies to all parameter updates. If our data is sparse and our features have very different frequencies, we might not want to update all of them to the same extent, but perform a larger update for rarely occurring features.\n",
    "\n",
    "SGD has trouble navigating ravines, i.e. areas where the surface curves much more steeply in one dimension than in another. In these scenarios, SGD oscillates.\n",
    "\n",
    "Momentum is a method that helps accelerate SGD in the relevant direction and dampens oscillations.\n",
    "\n",
    "Adagrad: adapts the learning rate to the parameters (uses a different learning rate for every parameter), performing larger updates for infrequent and smaller updates for frequent parameters, well-suited for dealing with sparse data. Adagrad's main weakness is its accumulation of the squared gradients in the denominator: Since every added term is positive, the accumulated sum keeps growing during training. This in turn causes the learning rate to shrink and eventually become infinitesimally small.\n",
    "\n",
    "algorithms that are infeasible to compute in practice for high-dimensional data sets, e.g. second-order methods such as Newton's method."
   ]
  },
  {
   "cell_type": "markdown",
   "metadata": {},
   "source": [
    "<center> \n",
    "    <h1>Mini-project1</h1>\n",
    "    <h2>Predict the laterality of upcoming finger movements</h2>\n",
    "</center>"
   ]
  },
  {
   "cell_type": "markdown",
   "metadata": {},
   "source": [
    "#### Imports"
   ]
  },
  {
   "cell_type": "code",
   "execution_count": 1,
   "metadata": {},
   "outputs": [],
   "source": [
    "import math\n",
    "import numpy as np\n",
    "import matplotlib.pylab as plt\n",
    "import dlc_bci as bci\n",
    "from types import SimpleNamespace \n",
    "\n",
    "from sklearn.model_selection import cross_validate\n",
    "from sklearn.preprocessing import StandardScaler\n",
    "from sklearn.decomposition import PCA\n",
    "\n",
    "# baselines\n",
    "from sklearn.linear_model import LogisticRegression\n",
    "from sklearn.ensemble import RandomForestClassifier\n",
    "from sklearn.neighbors import KNeighborsClassifier\n",
    "from sklearn.svm import SVC\n",
    "from sklearn.discriminant_analysis import LinearDiscriminantAnalysis\n",
    "\n",
    "import torch \n",
    "from torch import nn\n",
    "from torch import Tensor\n",
    "from torch.autograd import Variable\n",
    "from torch.optim import Adam\n",
    "from torch import optim\n",
    "import torch.nn.functional as F\n",
    "\n",
    "# from helpers import *\n",
    "from modelWrapper import *\n",
    "from callbacks import keep_best_model, store_best_model\n",
    "\n",
    "%matplotlib inline\n",
    "%load_ext autoreload\n",
    "%autoreload 2"
   ]
  },
  {
   "cell_type": "markdown",
   "metadata": {},
   "source": [
    "## Download/load the dataset"
   ]
  },
  {
   "cell_type": "code",
   "execution_count": 2,
   "metadata": {},
   "outputs": [
    {
     "name": "stdout",
     "output_type": "stream",
     "text": [
      "<class 'torch.FloatTensor'> torch.Size([316, 28, 50])\n",
      "<class 'torch.LongTensor'> torch.Size([316])\n",
      "<class 'torch.FloatTensor'> torch.Size([100, 28, 50])\n",
      "<class 'torch.LongTensor'> torch.Size([100])\n"
     ]
    }
   ],
   "source": [
    "one_khz=False\n",
    "\n",
    "train = SimpleNamespace()\n",
    "train.X, train.y = bci.load(root='./data_bci', one_khz=one_khz)\n",
    "print(str(type(train.X)), train.X.size())\n",
    "print(str(type(train.y)), train.y.size())\n",
    "\n",
    "test = SimpleNamespace()\n",
    "test.X, test.y = bci.load(root='./data_bci', train=False, one_khz=one_khz)\n",
    "print(str(type(test.X)), test.X.size())\n",
    "print(str(type(test.y)), test.y.size())"
   ]
  },
  {
   "cell_type": "code",
   "execution_count": 12,
   "metadata": {},
   "outputs": [
    {
     "data": {
      "image/png": "[encoded data removed]",
      "text/plain": [
       "<matplotlib.figure.Figure at 0x7f31fe2ddc50>"
      ]
     },
     "metadata": {},
     "output_type": "display_data"
    }
   ],
   "source": [
    "i = 1\n",
    "plt.imshow(train.X[i])\n",
    "plt.show()"
   ]
  },
  {
   "cell_type": "markdown",
   "metadata": {},
   "source": [
    "## Baselines:"
   ]
  },
  {
   "cell_type": "markdown",
   "metadata": {},
   "source": [
    "### Random Forest"
   ]
  },
  {
   "cell_type": "markdown",
   "metadata": {},
   "source": [
    "- Preprocess data"
   ]
  },
  {
   "cell_type": "code",
   "execution_count": 192,
   "metadata": {},
   "outputs": [
    {
     "data": {
      "text/plain": [
       "((316, 1400), (316,), (100, 1400), (100,))"
      ]
     },
     "execution_count": 192,
     "metadata": {},
     "output_type": "execute_result"
    }
   ],
   "source": [
    "# flatten the X (no standardization for random forest) \n",
    "X_tr, y_tr = train.X.view(train.X.shape[0], -1).clone().numpy(), train.y.numpy() \n",
    "X_te, y_te = test.X.view(test.X.shape[0], -1).clone().numpy(), test.y.numpy() \n",
    "X_tr.shape, y_tr.shape, X_te.shape, y_te.shape"
   ]
  },
  {
   "cell_type": "markdown",
   "metadata": {},
   "source": [
    "- Tune and compute test accuracy."
   ]
  },
  {
   "cell_type": "code",
   "execution_count": 193,
   "metadata": {},
   "outputs": [
    {
     "name": "stdout",
     "output_type": "stream",
     "text": [
      "Best depth: 5\n",
      "Test score: 0.58\n"
     ]
    },
    {
     "data": {
      "image/png": "[encoded data removed]",
      "text/plain": [
       "<matplotlib.figure.Figure at 0x7f085eb60dd8>"
      ]
     },
     "metadata": {},
     "output_type": "display_data"
    }
   ],
   "source": [
    "depths = np.arange(5, 100, 10) # grid search on a parameter of the model\n",
    "\n",
    "# here we store all the scores obtained with the different depths\n",
    "randForest = {\n",
    "    \"tr_scores\": [],\n",
    "    \"va_scores\": []\n",
    "}\n",
    "\n",
    "for depth in depths:\n",
    "    result = cross_validate(\n",
    "        RandomForestClassifier(n_estimators=100, max_depth=depth, n_jobs=-1, random_state=1), \n",
    "        X_tr, y_tr, cv=5, return_train_score=True)\n",
    "    \n",
    "    randForest[\"tr_scores\"].append(np.mean(result[\"train_score\"]))\n",
    "    randForest[\"va_scores\"].append(np.mean(result[\"test_score\"]))\n",
    "    \n",
    "plot_scores(depths, \"depth\", randForest[\"tr_scores\"], randForest[\"va_scores\"], ylog_scale=False)\n",
    "\n",
    "best_depth = depths[np.argmax(randForest[\"va_scores\"])]\n",
    "print('Best depth:', best_depth)\n",
    "print('Test score:',\n",
    "      RandomForestClassifier(n_estimators=100, max_depth=depth, n_jobs=-1, random_state=1)\n",
    "      .fit(X_tr, y_tr)\n",
    "      .score(X_te, y_te))"
   ]
  },
  {
   "cell_type": "markdown",
   "metadata": {},
   "source": [
    "### Logistic regression"
   ]
  },
  {
   "cell_type": "markdown",
   "metadata": {},
   "source": [
    "- Preprocess data"
   ]
  },
  {
   "cell_type": "code",
   "execution_count": 194,
   "metadata": {},
   "outputs": [
    {
     "data": {
      "text/plain": [
       "((316, 1400), (316,), (100, 1400), (100,))"
      ]
     },
     "execution_count": 194,
     "metadata": {},
     "output_type": "execute_result"
    }
   ],
   "source": [
    "# flatten and normalize the X\n",
    "X_tr, y_tr = train.X.view(train.X.shape[0], -1).clone().numpy(), train.y.numpy() \n",
    "X_te, y_te = test.X.view(test.X.shape[0], -1).clone().numpy(), test.y.numpy() \n",
    "\n",
    "scaler = StandardScaler()\n",
    "scaler.fit(X_tr)\n",
    "X_tr = scaler.transform(X_tr)\n",
    "X_te = scaler.transform(X_te)\n",
    "X_tr.shape, y_tr.shape, X_te.shape, y_te.shape"
   ]
  },
  {
   "cell_type": "markdown",
   "metadata": {},
   "source": [
    "- Tune and compute test accuracy."
   ]
  },
  {
   "cell_type": "code",
   "execution_count": 195,
   "metadata": {},
   "outputs": [
    {
     "name": "stdout",
     "output_type": "stream",
     "text": [
      "Best lambda: 0.215443469003\n",
      "Test score: 0.7\n"
     ]
    },
    {
     "data": {
      "image/png": "[encoded data removed]",
      "text/plain": [
       "<matplotlib.figure.Figure at 0x7f085ea2f128>"
      ]
     },
     "metadata": {},
     "output_type": "display_data"
    }
   ],
   "source": [
    "lambdas = np.logspace(-6, 6, 10) # grid search on a parameter of the model\n",
    "\n",
    "# here we store all the scores obtained with the different lambdas\n",
    "logreg = {\n",
    "    \"tr_scores\": [],\n",
    "    \"va_scores\": []\n",
    "}\n",
    "\n",
    "# tune the model on the train set \n",
    "for lambda_ in lambdas:\n",
    "    result = cross_validate(LogisticRegression(C=lambda_), X_tr, y_tr, cv=5, return_train_score=True)\n",
    "    \n",
    "    logreg[\"tr_scores\"].append(np.mean(result[\"train_score\"]))\n",
    "    logreg[\"va_scores\"].append(np.mean(result[\"test_score\"]))\n",
    "    \n",
    "plot_scores(lambdas, \"1/lambda\", logreg[\"tr_scores\"], logreg[\"va_scores\"], ylog_scale=True)\n",
    "\n",
    "# select the best lambdas and estimate the accuracy on the test set\n",
    "best_lambda = lambdas[np.argmax(logreg[\"va_scores\"])]\n",
    "print('Best lambda:', best_lambda)\n",
    "print('Test score:', \n",
    "      LogisticRegression(C=best_lambda)\n",
    "      .fit(X_tr, y_tr)\n",
    "      .score(X_te, y_te))"
   ]
  },
  {
   "cell_type": "markdown",
   "metadata": {},
   "source": [
    "## Support vector machine"
   ]
  },
  {
   "cell_type": "markdown",
   "metadata": {},
   "source": [
    "- Preprocess data"
   ]
  },
  {
   "cell_type": "code",
   "execution_count": 9,
   "metadata": {},
   "outputs": [
    {
     "data": {
      "text/plain": [
       "((316, 1400), (316,), (100, 1400), (100,))"
      ]
     },
     "execution_count": 9,
     "metadata": {},
     "output_type": "execute_result"
    }
   ],
   "source": [
    "# flatten and normalize the X\n",
    "X_tr, y_tr = train.X.view(train.X.shape[0], -1).clone().numpy(), train.y.numpy() \n",
    "X_te, y_te = test.X.view(test.X.shape[0], -1).clone().numpy(), test.y.numpy() \n",
    "\n",
    "scaler = StandardScaler()\n",
    "scaler.fit(X_tr)\n",
    "X_tr = scaler.transform(X_tr)\n",
    "X_te = scaler.transform(X_te)\n",
    "X_tr.shape, y_tr.shape, X_te.shape, y_te.shape"
   ]
  },
  {
   "cell_type": "markdown",
   "metadata": {},
   "source": [
    "- Tune and compute test accuracy."
   ]
  },
  {
   "cell_type": "code",
   "execution_count": null,
   "metadata": {},
   "outputs": [],
   "source": [
    "lambdas = np.logspace(-6, 6, 10) # grid search on a parameter of the model\n",
    "\n",
    "# here we store all the scores obtained with the different lambdas\n",
    "logreg = {\n",
    "    \"tr_scores\": [],\n",
    "    \"va_scores\": []\n",
    "}\n",
    "\n",
    "# tune the model on the train set \n",
    "for lambda_ in lambdas:\n",
    "    result = cross_validate(SVC(C=lambda_), X_tr, y_tr, cv=5, return_train_score=True)\n",
    "    \n",
    "    logreg[\"tr_scores\"].append(np.mean(result[\"train_score\"]))\n",
    "    logreg[\"va_scores\"].append(np.mean(result[\"test_score\"]))\n",
    "    \n",
    "plot_scores(lambdas, \"1/lambda\", logreg[\"tr_scores\"], logreg[\"va_scores\"], ylog_scale=True)\n",
    "\n",
    "# select the best lambdas and estimate the accuracy on the test set\n",
    "best_lambda = lambdas[np.argmax(logreg[\"va_scores\"])]\n",
    "print('Best lambda:', best_lambda)\n",
    "print('Test score:', \n",
    "      SVC(C=best_lambda)\n",
    "      .fit(X_tr, y_tr)\n",
    "      .score(X_te, y_te))"
   ]
  },
  {
   "cell_type": "markdown",
   "metadata": {},
   "source": [
    "### LinearDiscriminantAnalysis"
   ]
  },
  {
   "cell_type": "markdown",
   "metadata": {},
   "source": [
    "- Preprocess data"
   ]
  },
  {
   "cell_type": "code",
   "execution_count": null,
   "metadata": {},
   "outputs": [],
   "source": [
    "# flatten and normalize the X\n",
    "X_tr, y_tr = train.X.view(train.X.shape[0], -1).clone().numpy(), train.y.numpy() \n",
    "X_te, y_te = test.X.view(test.X.shape[0], -1).clone().numpy(), test.y.numpy() \n",
    "\n",
    "scaler = StandardScaler()\n",
    "scaler.fit(X_tr)\n",
    "X_tr = scaler.transform(X_tr)\n",
    "X_te = scaler.transform(X_te)\n",
    "X_tr.shape, y_tr.shape, X_te.shape, y_te.shape"
   ]
  },
  {
   "cell_type": "markdown",
   "metadata": {},
   "source": [
    "- Tune and compute test accuracy."
   ]
  },
  {
   "cell_type": "code",
   "execution_count": null,
   "metadata": {},
   "outputs": [],
   "source": [
    "tols = np.logspace(-6, 1, 10) # grid search on a parameter of the model\n",
    "\n",
    "# here we store all the scores obtained with the different lambdas\n",
    "logreg = {\n",
    "    \"tr_scores\": [],\n",
    "    \"va_scores\": []\n",
    "}\n",
    "\n",
    "# tune the model on the train set \n",
    "for tol in tols:\n",
    "    result = cross_validate(LinearDiscriminantAnalysis(tol=tol), X_tr, y_tr, cv=5, return_train_score=True)\n",
    "    \n",
    "    logreg[\"tr_scores\"].append(np.mean(result[\"train_score\"]))\n",
    "    logreg[\"va_scores\"].append(np.mean(result[\"test_score\"]))\n",
    "    \n",
    "plot_scores(tols, \"tol\", logreg[\"tr_scores\"], logreg[\"va_scores\"], ylog_scale=True)\n",
    "\n",
    "# select the best lambdas and estimate the accuracy on the test set\n",
    "best_tol = tols[np.argmax(logreg[\"va_scores\"])]\n",
    "print('Best tol:', best_tol)\n",
    "print('Test score:', \n",
    "      LinearDiscriminantAnalysis(tol=best_tol)\n",
    "      .fit(X_tr, y_tr)\n",
    "      .score(X_te, y_te))"
   ]
  },
  {
   "cell_type": "markdown",
   "metadata": {},
   "source": [
    "### K-Nearest Neighbors"
   ]
  },
  {
   "cell_type": "markdown",
   "metadata": {},
   "source": [
    "- Preprocess data"
   ]
  },
  {
   "cell_type": "code",
   "execution_count": 11,
   "metadata": {},
   "outputs": [
    {
     "data": {
      "text/plain": [
       "((316, 20), (316,), (100, 20), (100,))"
      ]
     },
     "execution_count": 11,
     "metadata": {},
     "output_type": "execute_result"
    }
   ],
   "source": [
    "# flatten, normalize the X and apply PCA to reduce dimensions (reduce curse of dimensionality effect)\n",
    "X_tr, y_tr = train.X.view(train.X.shape[0], -1).clone().numpy(), train.y.numpy() \n",
    "X_te, y_te = test.X.view(test.X.shape[0], -1).clone().numpy(), test.y.numpy() \n",
    "\n",
    "scaler = StandardScaler()\n",
    "scaler.fit(X_tr)\n",
    "X_tr_scaled = scaler.transform(X_tr)\n",
    "X_te_scaled = scaler.transform(X_te)\n",
    "\n",
    "pca = PCA(n_components=0.95)\n",
    "pca.fit(X_tr_scaled)\n",
    "X_tr = pca.transform(X_tr)\n",
    "X_te = pca.transform(X_te)\n",
    "\n",
    "X_tr.shape, y_tr.shape, X_te.shape, y_te.shape"
   ]
  },
  {
   "cell_type": "markdown",
   "metadata": {},
   "source": [
    "- Tune and compute test accuracy."
   ]
  },
  {
   "cell_type": "code",
   "execution_count": 12,
   "metadata": {},
   "outputs": [
    {
     "name": "stdout",
     "output_type": "stream",
     "text": [
      "Best k: 8\n",
      "Test score: 0.54\n"
     ]
    },
    {
     "data": {
      "image/png": "[encoded data removed]",
      "text/plain": [
       "<matplotlib.figure.Figure at 0x7fd6f0546470>"
      ]
     },
     "metadata": {},
     "output_type": "display_data"
    }
   ],
   "source": [
    "Ks = np.arange(1, 10, 1) # grid search on a parameter of the model\n",
    "\n",
    "# here we store all the scores obtained with the different number of neighbors\n",
    "nearestNeig = {\n",
    "    \"tr_scores\": [],\n",
    "    \"va_scores\": []\n",
    "}\n",
    "\n",
    "for k in Ks:\n",
    "    result = cross_validate(\n",
    "        KNeighborsClassifier(n_neighbors=k), \n",
    "        X_tr, y_tr, cv=5, return_train_score=True)\n",
    "    \n",
    "    nearestNeig[\"tr_scores\"].append(np.mean(result[\"train_score\"]))\n",
    "    nearestNeig[\"va_scores\"].append(np.mean(result[\"test_score\"]))\n",
    "    \n",
    "plot_scores(Ks, \"# Neighbors\", nearestNeig[\"tr_scores\"], nearestNeig[\"va_scores\"], ylog_scale=False)\n",
    "\n",
    "best_k = Ks[np.argmax(nearestNeig[\"va_scores\"])]\n",
    "print('Best k:', best_k)\n",
    "print('Test score:', \n",
    "      KNeighborsClassifier(n_neighbors=k)\n",
    "      .fit(X_tr, y_tr)\n",
    "      .score(X_te, y_te))"
   ]
  },
  {
   "cell_type": "markdown",
   "metadata": {},
   "source": [
    "## Deep networks"
   ]
  },
  {
   "cell_type": "markdown",
   "metadata": {},
   "source": [
    "### CNN: 2D convolutional layers"
   ]
  },
  {
   "cell_type": "code",
   "execution_count": 26,
   "metadata": {},
   "outputs": [
    {
     "data": {
      "text/plain": [
       "(torch.Size([316, 1, 28, 50]),\n",
       " torch.Size([316]),\n",
       " torch.Size([100, 1, 28, 50]),\n",
       " torch.Size([100]))"
      ]
     },
     "execution_count": 26,
     "metadata": {},
     "output_type": "execute_result"
    }
   ],
   "source": [
    "# add a channel to store the pixels image (so to apply the 2D convolutional layer)\n",
    "X_tr, y_tr = Variable(train.X.clone().unsqueeze(1)), Variable(train.y)\n",
    "X_te, y_te = Variable(test.X.clone().unsqueeze(1)), Variable(test.y)\n",
    "\n",
    "X_tr.shape, y_tr.shape, X_te.shape, y_te.shape"
   ]
  },
  {
   "cell_type": "code",
   "execution_count": 20,
   "metadata": {},
   "outputs": [],
   "source": [
    "class CNN2D(modelWrapper):\n",
    "    def __init__(self, nb_hidden=50, activation = nn.ReLU):\n",
    "        super(CNN2D, self).__init__()    \n",
    "        \n",
    "        self.nb_hidden = nb_hidden\n",
    "        self.activation = activation\n",
    "        \n",
    "        self.activation = activation\n",
    "        self.features = nn.Sequential(\n",
    "            nn.Conv2d(1, 32, kernel_size=(3, 7), padding=(1, 3)),\n",
    "            nn.MaxPool2d(2),\n",
    "            self.activation(),\n",
    "            \n",
    "            nn.Conv2d(32, 64, kernel_size=3, padding=1),\n",
    "            nn.MaxPool2d((2, 5)),\n",
    "            self.activation(),\n",
    "            \n",
    "            nn.Conv2d(64, 32, kernel_size=5, padding=2),\n",
    "            nn.MaxPool2d(2, padding=(1, 1)),\n",
    "            self.activation(),\n",
    "        )\n",
    "        \n",
    "        self.num_features = 384\n",
    "        self.classifier = nn.Sequential(\n",
    "            nn.Linear(self.num_features, nb_hidden),\n",
    "            self.activation(),\n",
    "            nn.Linear(nb_hidden, 2)\n",
    "        )\n",
    "        \n",
    "        self.criterion = nn.CrossEntropyLoss()\n",
    "        self.optimizer = Adam(self.parameters(), lr=0.001)\n",
    "    \n",
    "    def clear(self):\n",
    "        self.__init__(self.nb_hidden, self.activation)"
   ]
  },
  {
   "cell_type": "code",
   "execution_count": 21,
   "metadata": {},
   "outputs": [],
   "source": [
    "model = CNN2D()"
   ]
  },
  {
   "cell_type": "code",
   "execution_count": null,
   "metadata": {},
   "outputs": [],
   "source": [
    "model.fit(X_tr, y_tr, X_test=X_te, y_test=y_te, epochs=1000, callbacks=[keep_best_model])"
   ]
  },
  {
   "cell_type": "code",
   "execution_count": null,
   "metadata": {},
   "outputs": [],
   "source": [
    "cross_validate_n_hidden(CNN2D, X_tr, y_tr)"
   ]
  },
  {
   "cell_type": "markdown",
   "metadata": {
    "collapsed": true
   },
   "source": [
    "### 1D convolution +  dropout"
   ]
  },
  {
   "cell_type": "code",
   "execution_count": 31,
   "metadata": {},
   "outputs": [
    {
     "data": {
      "text/plain": [
       "(torch.Size([316, 28, 50]),\n",
       " torch.Size([316]),\n",
       " torch.Size([100, 28, 50]),\n",
       " torch.Size([100]))"
      ]
     },
     "execution_count": 31,
     "metadata": {},
     "output_type": "execute_result"
    }
   ],
   "source": [
    "X_tr, y_tr = Variable(train.X), Variable(train.y)\n",
    "X_te, y_te = Variable(test.X), Variable(test.y)\n",
    "\n",
    "X_tr.shape, y_tr.shape, X_te.shape, y_te.shape"
   ]
  },
  {
   "cell_type": "code",
   "execution_count": 38,
   "metadata": {},
   "outputs": [],
   "source": [
    "# define the network with two convolutional layers\n",
    "class CNN_1D_Dropout(modelWrapper):\n",
    "    def __init__(self, nb_hidden=50, activation=nn.ReLU):\n",
    "        super(CNN_1D_Dropout, self).__init__()\n",
    "        \n",
    "        self.nb_hidden = nb_hidden\n",
    "        self.activation = activation\n",
    "        \n",
    "        self.dropout = nn.Dropout\n",
    "        \n",
    "        self.features = nn.Sequential(\n",
    "            nn.Conv1d(28, 64, kernel_size=5, padding=2),\n",
    "            self.activation(),\n",
    "            nn.Dropout(0.1),\n",
    "            \n",
    "            nn.Conv1d(64, 64, kernel_size=5, padding=2),\n",
    "            nn.MaxPool1d(2, padding=1),\n",
    "            self.activation(),\n",
    "            nn.Dropout(0.1),\n",
    "            \n",
    "            nn.Conv1d(64, 32, kernel_size=5, padding=2),\n",
    "            nn.MaxPool1d(2, padding=1),\n",
    "            self.activation(),\n",
    "        )\n",
    "        \n",
    "        self.num_features = 448\n",
    "        self.classifier = nn.Sequential(\n",
    "            nn.Linear(self.num_features, nb_hidden),\n",
    "            self.activation(),\n",
    "            nn.Linear(nb_hidden, 2)\n",
    "        )\n",
    "\n",
    "        self.criterion = nn.CrossEntropyLoss()\n",
    "        self.optimizer = Adam(self.parameters(), lr=0.001, weight_decay=0.01)\n",
    "        \n",
    "    def clear(self):\n",
    "        self.__init__(self.nb_hidden, self.activation)"
   ]
  },
  {
   "cell_type": "code",
   "execution_count": 39,
   "metadata": {},
   "outputs": [],
   "source": [
    "model = CNN_1D_Dropout(activation=nn.Tanh)"
   ]
  },
  {
   "cell_type": "code",
   "execution_count": 40,
   "metadata": {},
   "outputs": [
    {
     "name": "stdout",
     "output_type": "stream",
     "text": [
      "Epoch 0: Train loss: 11.41447776556015. Train accuracy 51.90%. Test accuracy 59.00%\n",
      "Epoch 1: Train loss: 11.035064280033112. Train accuracy 61.71%. Test accuracy 52.00%\n",
      "Epoch 2: Train loss: 10.58230322599411. Train accuracy 70.25%. Test accuracy 58.00%\n",
      "Epoch 3: Train loss: 9.699862778186798. Train accuracy 74.05%. Test accuracy 66.00%\n",
      "Epoch 4: Train loss: 9.240520656108856. Train accuracy 74.68%. Test accuracy 73.00%\n",
      "Epoch 5: Train loss: 9.630765914916992. Train accuracy 71.52%. Test accuracy 65.00%\n",
      "Epoch 6: Train loss: 9.29376757144928. Train accuracy 78.80%. Test accuracy 63.00%\n",
      "Epoch 7: Train loss: 8.709371775388718. Train accuracy 76.58%. Test accuracy 63.00%\n",
      "Epoch 8: Train loss: 8.778748869895935. Train accuracy 79.75%. Test accuracy 66.00%\n",
      "Epoch 9: Train loss: 8.33068722486496. Train accuracy 79.43%. Test accuracy 68.00%\n",
      "Epoch 10: Train loss: 8.18165636062622. Train accuracy 79.11%. Test accuracy 67.00%\n",
      "Epoch 11: Train loss: 8.327183455228806. Train accuracy 79.11%. Test accuracy 65.00%\n",
      "Epoch 12: Train loss: 7.515120685100555. Train accuracy 86.08%. Test accuracy 70.00%\n",
      "Epoch 13: Train loss: 7.568652629852295. Train accuracy 81.65%. Test accuracy 66.00%\n",
      "Epoch 14: Train loss: 8.00174766778946. Train accuracy 74.05%. Test accuracy 65.00%\n",
      "Epoch 15: Train loss: 8.950363606214523. Train accuracy 80.38%. Test accuracy 69.00%\n",
      "Epoch 16: Train loss: 7.246097534894943. Train accuracy 78.48%. Test accuracy 67.00%\n",
      "Epoch 17: Train loss: 8.784933269023895. Train accuracy 76.27%. Test accuracy 62.00%\n",
      "Epoch 18: Train loss: 7.673408359289169. Train accuracy 81.96%. Test accuracy 67.00%\n",
      "Epoch 19: Train loss: 7.625480473041534. Train accuracy 81.96%. Test accuracy 74.00%\n",
      "Epoch 20: Train loss: 7.343815356492996. Train accuracy 80.06%. Test accuracy 74.00%\n",
      "Epoch 21: Train loss: 7.138110011816025. Train accuracy 83.54%. Test accuracy 64.00%\n",
      "Epoch 22: Train loss: 6.735333278775215. Train accuracy 84.18%. Test accuracy 69.00%\n",
      "Epoch 23: Train loss: 7.283996164798737. Train accuracy 85.44%. Test accuracy 70.00%\n",
      "Epoch 24: Train loss: 5.957573413848877. Train accuracy 84.81%. Test accuracy 73.00%\n"
     ]
    },
    {
     "data": {
      "text/plain": [
       "CNN_1D_Dropout(\n",
       "  (features): Sequential(\n",
       "    (0): Conv1d(28, 64, kernel_size=(5,), stride=(1,), padding=(2,))\n",
       "    (1): Tanh()\n",
       "    (2): Dropout(p=0.1)\n",
       "    (3): Conv1d(64, 64, kernel_size=(5,), stride=(1,), padding=(2,))\n",
       "    (4): MaxPool1d(kernel_size=2, stride=2, padding=1, dilation=1, ceil_mode=False)\n",
       "    (5): Tanh()\n",
       "    (6): Dropout(p=0.1)\n",
       "    (7): Conv1d(64, 32, kernel_size=(5,), stride=(1,), padding=(2,))\n",
       "    (8): MaxPool1d(kernel_size=2, stride=2, padding=1, dilation=1, ceil_mode=False)\n",
       "    (9): Tanh()\n",
       "  )\n",
       "  (classifier): Sequential(\n",
       "    (0): Linear(in_features=448, out_features=50, bias=True)\n",
       "    (1): Tanh()\n",
       "    (2): Linear(in_features=50, out_features=2, bias=True)\n",
       "  )\n",
       "  (criterion): CrossEntropyLoss(\n",
       "  )\n",
       ")"
      ]
     },
     "execution_count": 40,
     "metadata": {},
     "output_type": "execute_result"
    }
   ],
   "source": [
    "model.fit(X_tr, y_tr, X_test=X_te, y_test=y_te, epochs=25)"
   ]
  },
  {
   "cell_type": "code",
   "execution_count": null,
   "metadata": {},
   "outputs": [],
   "source": [
    "cross_validate_n_hidden(CNN_1D_Dropout, X_tr, y_tr)"
   ]
  },
  {
   "cell_type": "markdown",
   "metadata": {},
   "source": [
    "### 1D convolution + Batch norm"
   ]
  },
  {
   "cell_type": "code",
   "execution_count": 5,
   "metadata": {},
   "outputs": [
    {
     "data": {
      "text/plain": [
       "(torch.Size([316, 28, 50]),\n",
       " torch.Size([316]),\n",
       " torch.Size([100, 28, 50]),\n",
       " torch.Size([100]))"
      ]
     },
     "execution_count": 5,
     "metadata": {},
     "output_type": "execute_result"
    }
   ],
   "source": [
    "X_tr, y_tr = Variable(train.X), Variable(train.y)\n",
    "X_te, y_te = Variable(test.X), Variable(test.y)\n",
    "\n",
    "X_tr.shape, y_tr.shape, X_te.shape, y_te.shape"
   ]
  },
  {
   "cell_type": "code",
   "execution_count": 6,
   "metadata": {},
   "outputs": [],
   "source": [
    "class CNN_1D_BatchNorm(modelWrapper):\n",
    "    def __init__(self, nb_hidden=50, activation=nn.ReLU):\n",
    "        torch.manual_seed(0) \n",
    "        super(CNN_1D_BatchNorm, self).__init__()\n",
    "        \n",
    "        self.activation = activation\n",
    "        \n",
    "        self.features = nn.Sequential(\n",
    "            nn.BatchNorm1d(28),\n",
    "            nn.Conv1d(28, 32, kernel_size=5, padding=2),\n",
    "            self.activation(),\n",
    "            \n",
    "            nn.BatchNorm1d(32),\n",
    "            nn.Conv1d(32, 32, kernel_size=5, padding=2),\n",
    "            self.activation(),\n",
    "            \n",
    "            nn.Dropout(0.1),\n",
    "            \n",
    "            nn.BatchNorm1d(32),\n",
    "            nn.Conv1d(32, 32, kernel_size=5, padding=2),\n",
    "            self.activation(),\n",
    "            \n",
    "            nn.Dropout(0.1),\n",
    "            \n",
    "            nn.BatchNorm1d(32),\n",
    "            nn.Conv1d(32, 32, kernel_size=5, padding=2),\n",
    "            nn.MaxPool1d(2, padding=1),\n",
    "            self.activation(),\n",
    "            \n",
    "            nn.Dropout(0.1),\n",
    "            \n",
    "            nn.BatchNorm1d(32),\n",
    "            nn.Conv1d(32, 32, kernel_size=5, padding=2),\n",
    "            nn.MaxPool1d(2),\n",
    "            self.activation(),\n",
    "            \n",
    "            nn.BatchNorm1d(32),\n",
    "        )\n",
    "        \n",
    "        self.num_features = 32*13\n",
    "        self.classifier = nn.Sequential(\n",
    "            nn.Linear(self.num_features, nb_hidden),\n",
    "            self.activation(),\n",
    "            nn.Linear(nb_hidden, 2)\n",
    "        )\n",
    "        \n",
    "        self.criterion = nn.CrossEntropyLoss()\n",
    "#         self.optimizer = Adam(self.parameters(), lr=0.0001, weight_decay=1e-1)\n",
    "        self.optimizer = optim.Adamax(self.parameters(), lr=0.001, weight_decay=1e-2)"
   ]
  },
  {
   "cell_type": "code",
   "execution_count": 7,
   "metadata": {},
   "outputs": [],
   "source": [
    "model = CNN_1D_BatchNorm(nb_hidden=250, activation=nn.PReLU)"
   ]
  },
  {
   "cell_type": "code",
   "execution_count": null,
   "metadata": {},
   "outputs": [],
   "source": [
    "model.fit(X_tr, y_tr, X_test=X_te, y_test=y_te, epochs=100, batch_size=50, save_best_model=True)"
   ]
  },
  {
   "cell_type": "code",
   "execution_count": 9,
   "metadata": {},
   "outputs": [
    {
     "data": {
      "text/plain": [
       "(0.81, 0.83)"
      ]
     },
     "execution_count": 9,
     "metadata": {},
     "output_type": "execute_result"
    }
   ],
   "source": [
    "n_hidden = [np.asscalar(n) for n in np.arange(40, 201, 40)] # grid search on a parameter of the model\n",
    "\n",
    "# here we store all the scores obtained with the different number of hidden units\n",
    "modelScores = {\n",
    "    \"tr_scores\": [],\n",
    "    \"va_scores\": []\n",
    "}\n",
    "\n",
    "for n in n_hidden:\n",
    "    model = CNN_1D_BatchNorm(nb_hidden=250,(nb_hidden=n)\n",
    "    result = model.cross_validate(X_tr, y_tr, verbose=True, epochs=70)\n",
    "    \n",
    "    modelScores[\"tr_scores\"].append(np.mean(result[\"train_score\"]))\n",
    "    modelScores[\"va_scores\"].append(np.mean(result[\"test_score\"]))\n",
    "    \n",
    "plot_scores(n_hidden, \"#hidden units\", modelScores[\"tr_scores\"], modelScores[\"va_scores\"], log_scale=False)\n",
    "modelScores\n",
    "# best_n = n_hidden[np.argmax(modelScores[\"va_scores\"])]\n",
    "# print('Best #hidden units:', best_n)\n",
    "# print('Test score:',\n",
    "#       CNN_1D_Dropout(n)\n",
    "#       .fit(X_tr, y_tr, epochs=70)\n",
    "#       .score(X_te, y_te))"
   ]
  },
  {
   "cell_type": "markdown",
   "metadata": {},
   "source": [
    "## 1D dialated convolution + Batch norm"
   ]
  },
  {
   "cell_type": "code",
   "execution_count": 35,
   "metadata": {},
   "outputs": [
    {
     "data": {
      "text/plain": [
       "(torch.Size([316, 28, 50]),\n",
       " torch.Size([316]),\n",
       " torch.Size([100, 28, 50]),\n",
       " torch.Size([100]))"
      ]
     },
     "execution_count": 35,
     "metadata": {},
     "output_type": "execute_result"
    }
   ],
   "source": [
    "X_tr, y_tr = Variable(train.X.clone()), Variable(train.y)\n",
    "X_te, y_te = Variable(test.X.clone()), Variable(test.y)\n",
    "\n",
    "X_tr.shape, y_tr.shape, X_te.shape, y_te.shape"
   ]
  },
  {
   "cell_type": "code",
   "execution_count": 172,
   "metadata": {},
   "outputs": [],
   "source": [
    "class CNN_1D_BatchNorm_Dial(modelWrapper):\n",
    "    def __init__(self, nb_hidden=50, activation=nn.ReLU):\n",
    "        torch.manual_seed(0) \n",
    "        super(CNN_1D_BatchNorm_Dial, self).__init__()\n",
    "        \n",
    "        self.activation = activation\n",
    "        self.nb_hidden = nb_hidden\n",
    "        \n",
    "        n_filters = 32\n",
    "        self.features = nn.Sequential(\n",
    "            nn.BatchNorm1d(28),\n",
    "            nn.Conv1d(28, n_filters, kernel_size=3, padding=2, dilation=2),\n",
    "            self.activation(),\n",
    "            \n",
    "            nn.Dropout(p=0.1),\n",
    "            \n",
    "            nn.BatchNorm1d(n_filters),\n",
    "            nn.Conv1d(n_filters, n_filters, kernel_size=3, padding=2, dilation=2),\n",
    "            self.activation(),\n",
    "            \n",
    "            nn.BatchNorm1d(n_filters),\n",
    "            nn.Conv1d(n_filters, n_filters, kernel_size=5, padding=2),\n",
    "            self.activation(),\n",
    "            \n",
    "            nn.Dropout(p=0.1),\n",
    "            \n",
    "            nn.BatchNorm1d(n_filters),\n",
    "            nn.Conv1d(n_filters, n_filters, kernel_size=5, padding=4, dilation=2),\n",
    "            self.activation(),\n",
    "            \n",
    "            nn.Dropout(p=0.1),\n",
    "\n",
    "            nn.BatchNorm1d(n_filters),\n",
    "            nn.Conv1d(n_filters, 16, kernel_size=3, padding=1),\n",
    "            self.activation()\n",
    "        )\n",
    "        \n",
    "        self.num_features = 16*50\n",
    "        \n",
    "        self.classifier = nn.Sequential(\n",
    "            nn.Linear(self.num_features, nb_hidden),\n",
    "            self.activation(),  \n",
    "    \n",
    "            # (1, nb_hidden)\n",
    "            nn.Linear(nb_hidden, 2)\n",
    "        )\n",
    "        \n",
    "        self.criterion = nn.CrossEntropyLoss()\n",
    "        self.optimizer = Adam(self.parameters(), lr=0.001, weight_decay=1e-1)\n",
    "#         self.optimizer = optim.Adagrad(self.parameters())\n",
    "#         self.optimizer = optim.Adamax(self.parameters())\n",
    "#         self.optimizer = optim.ASGD(self.parameters())"
   ]
  },
  {
   "cell_type": "code",
   "execution_count": 179,
   "metadata": {},
   "outputs": [],
   "source": [
    "model = CNN_1D_BatchNorm_Dial(nb_hidden=50, activation=nn.ReLU)"
   ]
  },
  {
   "cell_type": "code",
   "execution_count": 182,
   "metadata": {},
   "outputs": [
    {
     "name": "stdout",
     "output_type": "stream",
     "text": [
      "Epoch 0: Train loss: 0.4014696665108204. Train accuracy 96.84%. Test accuracy 78.00%\n",
      "Epoch 1: Train loss: 0.4478878416121006. Train accuracy 95.25%. Test accuracy 78.00%\n",
      "Epoch 2: Train loss: 0.4421656168997288. Train accuracy 97.78%. Test accuracy 78.00%\n",
      "Epoch 3: Train loss: 0.5841380655765533. Train accuracy 94.30%. Test accuracy 83.00%\n",
      "Epoch 4: Train loss: 0.8554799966514111. Train accuracy 93.99%. Test accuracy 72.00%\n",
      "Epoch 5: Train loss: 0.7371013388037682. Train accuracy 94.30%. Test accuracy 76.00%\n",
      "Epoch 6: Train loss: 0.7103092446923256. Train accuracy 93.04%. Test accuracy 69.00%\n",
      "Epoch 7: Train loss: 0.6791842952370644. Train accuracy 93.35%. Test accuracy 74.00%\n",
      "Epoch 8: Train loss: 0.7118119411170483. Train accuracy 93.99%. Test accuracy 68.00%\n",
      "Epoch 9: Train loss: 0.8483623340725899. Train accuracy 89.87%. Test accuracy 78.00%\n",
      "Epoch 10: Train loss: 0.7330001965165138. Train accuracy 95.89%. Test accuracy 68.00%\n",
      "Epoch 11: Train loss: 0.9778911098837852. Train accuracy 94.62%. Test accuracy 71.00%\n",
      "Epoch 12: Train loss: 0.764783188700676. Train accuracy 93.67%. Test accuracy 77.00%\n",
      "Epoch 13: Train loss: 0.8022929951548576. Train accuracy 93.99%. Test accuracy 76.00%\n",
      "Epoch 14: Train loss: 0.7457943335175514. Train accuracy 95.25%. Test accuracy 77.00%\n",
      "Epoch 15: Train loss: 0.7353012003004551. Train accuracy 94.30%. Test accuracy 77.00%\n",
      "Epoch 16: Train loss: 0.7837948054075241. Train accuracy 94.62%. Test accuracy 74.00%\n",
      "Epoch 17: Train loss: 0.7656443119049072. Train accuracy 93.35%. Test accuracy 78.00%\n",
      "Epoch 18: Train loss: 0.6372103728353977. Train accuracy 97.78%. Test accuracy 73.00%\n",
      "Epoch 19: Train loss: 0.5798203945159912. Train accuracy 97.47%. Test accuracy 77.00%\n",
      "Epoch 20: Train loss: 0.4172235578298569. Train accuracy 94.94%. Test accuracy 77.00%\n",
      "Epoch 21: Train loss: 0.40139859914779663. Train accuracy 98.42%. Test accuracy 80.00%\n",
      "Epoch 22: Train loss: 0.29912005737423897. Train accuracy 97.15%. Test accuracy 76.00%\n",
      "Epoch 23: Train loss: 0.3317418750375509. Train accuracy 97.47%. Test accuracy 77.00%\n",
      "Epoch 24: Train loss: 0.38420376740396023. Train accuracy 98.10%. Test accuracy 78.00%\n"
     ]
    },
    {
     "data": {
      "text/plain": [
       "CNN_1D_BatchNorm(\n",
       "  (features): Sequential(\n",
       "    (0): BatchNorm1d(28, eps=1e-05, momentum=0.1, affine=True)\n",
       "    (1): Conv1d(28, 32, kernel_size=(3,), stride=(1,), padding=(2,), dilation=(2,))\n",
       "    (2): ReLU()\n",
       "    (3): Dropout(p=0.1)\n",
       "    (4): BatchNorm1d(32, eps=1e-05, momentum=0.1, affine=True)\n",
       "    (5): Conv1d(32, 32, kernel_size=(3,), stride=(1,), padding=(2,), dilation=(2,))\n",
       "    (6): ReLU()\n",
       "    (7): BatchNorm1d(32, eps=1e-05, momentum=0.1, affine=True)\n",
       "    (8): Conv1d(32, 32, kernel_size=(5,), stride=(1,), padding=(2,))\n",
       "    (9): ReLU()\n",
       "    (10): Dropout(p=0.1)\n",
       "    (11): BatchNorm1d(32, eps=1e-05, momentum=0.1, affine=True)\n",
       "    (12): Conv1d(32, 32, kernel_size=(5,), stride=(1,), padding=(4,), dilation=(2,))\n",
       "    (13): ReLU()\n",
       "    (14): Dropout(p=0.1)\n",
       "    (15): BatchNorm1d(32, eps=1e-05, momentum=0.1, affine=True)\n",
       "    (16): Conv1d(32, 16, kernel_size=(3,), stride=(1,), padding=(1,))\n",
       "    (17): ReLU()\n",
       "  )\n",
       "  (classifier): Sequential(\n",
       "    (0): Linear(in_features=800, out_features=50, bias=True)\n",
       "    (1): ReLU()\n",
       "    (2): Linear(in_features=50, out_features=2, bias=True)\n",
       "  )\n",
       "  (criterion): CrossEntropyLoss(\n",
       "  )\n",
       ")"
      ]
     },
     "execution_count": 182,
     "metadata": {},
     "output_type": "execute_result"
    }
   ],
   "source": [
    "model.fit(X_tr, y_tr, X_test=X_te, y_test=y_te, epochs=25, batch_size=50)"
   ]
  },
  {
   "cell_type": "markdown",
   "metadata": {},
   "source": [
    "### 1D convolution + Batch norm (bigger)"
   ]
  },
  {
   "cell_type": "code",
   "execution_count": null,
   "metadata": {},
   "outputs": [],
   "source": [
    "X_tr, y_tr = Variable(train.X.clone()), Variable(train.y)\n",
    "X_te, y_te = Variable(test.X.clone()), Variable(test.y)\n",
    "\n",
    "X_tr.shape, y_tr.shape, X_te.shape, y_te.shape"
   ]
  },
  {
   "cell_type": "code",
   "execution_count": 32,
   "metadata": {},
   "outputs": [],
   "source": [
    "class CNN_1D_BatchNorm_Big(modelWrapper):\n",
    "    def __init__(self, nb_hidden=50, activation=nn.ReLU):\n",
    "        self.nb_hidden = nb_hidden\n",
    "        super(CNN_1D_BatchNorm_Big, self).__init__()\n",
    "        \n",
    "        self.activation = activation\n",
    "        \n",
    "        self.features = nn.Sequential(\n",
    "            nn.BatchNorm1d(28),\n",
    "            nn.Conv1d(28, 32, kernel_size=5, padding=2),\n",
    "            self.activation(),\n",
    "            \n",
    "            nn.BatchNorm1d(32),\n",
    "            nn.Conv1d(32, 64, kernel_size=5, padding=2),\n",
    "            self.activation(),\n",
    "            \n",
    "            nn.BatchNorm1d(64),\n",
    "            nn.Conv1d(64, 64, kernel_size=5, padding=2),\n",
    "            nn.MaxPool1d(2, padding=1),\n",
    "            self.activation(),\n",
    "            \n",
    "            nn.BatchNorm1d(64),\n",
    "            nn.Conv1d(64, 32, kernel_size=5, padding=2),\n",
    "            nn.MaxPool1d(2, padding=1),\n",
    "            self.activation(),\n",
    "            \n",
    "            nn.BatchNorm1d(32),\n",
    "            nn.Conv1d(32, 32, kernel_size=5, padding=2),\n",
    "            self.activation(),\n",
    "            \n",
    "            nn.BatchNorm1d(32),\n",
    "            nn.Conv1d(32, 16, kernel_size=5, padding=2),\n",
    "            self.activation(),\n",
    "            \n",
    "            nn.BatchNorm1d(16),\n",
    "        )\n",
    "        \n",
    "        self.num_features = 16*14\n",
    "        self.classifier = nn.Sequential(\n",
    "            nn.Linear(self.num_features, nb_hidden),\n",
    "            self.activation(),\n",
    "            nn.Linear(nb_hidden, 2)\n",
    "        )\n",
    "\n",
    "        self.criterion = nn.CrossEntropyLoss()\n",
    "        self.optimizer = Adam(self.parameters(), lr=0.001, weight_decay=1e-1)"
   ]
  },
  {
   "cell_type": "code",
   "execution_count": 33,
   "metadata": {},
   "outputs": [],
   "source": [
    "model = CNN_1D_BatchNorm_Big(activation=nn.PReLU)"
   ]
  },
  {
   "cell_type": "code",
   "execution_count": null,
   "metadata": {},
   "outputs": [],
   "source": [
    "model.fit(X_tr, y_tr, X_test=X_te, y_test=y_te, epochs=25)"
   ]
  },
  {
   "cell_type": "markdown",
   "metadata": {},
   "source": [
    "### 1D convolution + Batch norm + Residual"
   ]
  },
  {
   "cell_type": "code",
   "execution_count": null,
   "metadata": {},
   "outputs": [],
   "source": [
    "X_tr, y_tr = Variable(train.X.clone()), Variable(train.y)\n",
    "X_te, y_te = Variable(test.X.clone()), Variable(test.y)\n",
    "\n",
    "X_tr.shape, y_tr.shape, X_te.shape, y_te.shape"
   ]
  },
  {
   "cell_type": "code",
   "execution_count": 138,
   "metadata": {},
   "outputs": [],
   "source": [
    "class residual_block(nn.Module):\n",
    "    def __init__(self, activation=nn.ReLU):\n",
    "        super(residual_block, self).__init__()\n",
    "        self.activation = activation\n",
    "        \n",
    "        num_filters = 32\n",
    "        self.features = nn.Sequential(\n",
    "            nn.BatchNorm1d(num_filters),\n",
    "            nn.Conv1d(num_filters, num_filters, kernel_size=3, padding=2, dilation=2),\n",
    "            self.activation(),\n",
    "            \n",
    "            nn.BatchNorm1d(num_filters),\n",
    "            nn.Conv1d(num_filters, num_filters, kernel_size=3, padding=1),\n",
    "            self.activation(),\n",
    "            \n",
    "            nn.BatchNorm1d(num_filters),\n",
    "            nn.Conv1d(num_filters, num_filters, kernel_size=3, padding=1),\n",
    "            self.activation(),\n",
    "        )\n",
    "    \n",
    "    def forward(self, x):        \n",
    "        return x+self.features(x)\n",
    "\n",
    "class aggregated_residual_blocks(nn.Module):\n",
    "    def __init__(self, n_residual_blocks=2, activation=nn.ReLU):\n",
    "        super(aggregated_residual_blocks, self).__init__()\n",
    "        self.activation = activation\n",
    "        \n",
    "        self.residual_blocks = nn.ModuleList()\n",
    "        for i in range(n_residual_blocks):\n",
    "            self.residual_blocks.append(residual_block(activation=activation))\n",
    "    \n",
    "    def forward(self, x):\n",
    "        out = []\n",
    "        \n",
    "        for block in self.residual_blocks:\n",
    "            out.append(block(x))\n",
    "            \n",
    "        return sum(out)+x\n",
    "    \n",
    "class CNN_1D_BatchNorm_Residual(modelWrapper):\n",
    "    def __init__(self, nb_hidden=50, n_aggregated_residual_blocks=2, n_residual_blocks=2, activation=nn.ReLU):\n",
    "        # n_aggregated_residual_blocks: number of aggregated residual blocks (aggregated_residual_blocks)\n",
    "        # n_residual_blocks: number of residual blocks per aggregated residual block\n",
    "        \n",
    "        super(CNN_1D_BatchNorm_Residual, self).__init__()\n",
    "        \n",
    "        self.activation = activation\n",
    "        \n",
    "        self.features = [\n",
    "            nn.BatchNorm1d(28),\n",
    "            nn.Conv1d(28, 32, kernel_size=3, padding=2, dilation=2),\n",
    "            self.activation()\n",
    "        ]\n",
    "        for i in range(n_aggregated_residual_blocks):\n",
    "            self.features.append(aggregated_residual_blocks(n_residual_blocks))\n",
    "            self.features.append(nn.Dropout(0.15))\n",
    "        \n",
    "        self.features += [            \n",
    "            nn.BatchNorm1d(32),\n",
    "            nn.Conv1d(32, 16, kernel_size=3, padding=1),\n",
    "            nn.Dropout(0.1),\n",
    "            nn.MaxPool1d(2),\n",
    "            self.activation(),\n",
    "        ]\n",
    "        self.features = nn.Sequential(*self.features)\n",
    "        \n",
    "        self.num_features = 16*25\n",
    "        \n",
    "        self.classifier = nn.Sequential(\n",
    "            nn.Linear(self.num_features, nb_hidden),\n",
    "            self.activation(),\n",
    "            nn.Linear(nb_hidden, 2)\n",
    "        )\n",
    "        \n",
    "        self.criterion = nn.CrossEntropyLoss()\n",
    "        self.optimizer = torch.optim.Adamax(self.parameters())\n",
    "#         self.optimizer = Adam(self.parameters(), lr=0.001)"
   ]
  },
  {
   "cell_type": "code",
   "execution_count": 139,
   "metadata": {},
   "outputs": [],
   "source": [
    "# model = CNN_1D_BatchNorm_Residual(n_aggregated_residual_blocks=2, n_residual_blocks=5, activation=nn.ReLU)\n",
    "model = CNN_1D_BatchNorm_Residual(n_aggregated_residual_blocks=3, n_residual_blocks=1, activation=nn.ReLU)"
   ]
  },
  {
   "cell_type": "code",
   "execution_count": 140,
   "metadata": {
    "scrolled": false
   },
   "outputs": [
    {
     "name": "stdout",
     "output_type": "stream",
     "text": [
      "Epoch 0: Train loss: 11.243237972259521. Train accuracy 51.90%. Test accuracy 46.00%\n",
      "Epoch 1: Train loss: 11.041338443756104. Train accuracy 57.59%. Test accuracy 59.00%\n",
      "Epoch 2: Train loss: 10.867946028709412. Train accuracy 69.30%. Test accuracy 55.00%\n",
      "Epoch 3: Train loss: 10.594859302043915. Train accuracy 68.99%. Test accuracy 62.00%\n",
      "Epoch 4: Train loss: 9.839361727237701. Train accuracy 72.78%. Test accuracy 67.00%\n",
      "Epoch 5: Train loss: 8.814906239509583. Train accuracy 76.27%. Test accuracy 74.00%\n",
      "Epoch 6: Train loss: 7.4753225445747375. Train accuracy 82.91%. Test accuracy 76.00%\n",
      "Epoch 7: Train loss: 6.616357833147049. Train accuracy 83.23%. Test accuracy 73.00%\n",
      "Epoch 8: Train loss: 5.707961589097977. Train accuracy 85.13%. Test accuracy 76.00%\n",
      "Epoch 9: Train loss: 4.751588121056557. Train accuracy 88.92%. Test accuracy 68.00%\n",
      "Epoch 10: Train loss: 4.25025101006031. Train accuracy 89.56%. Test accuracy 76.00%\n",
      "Epoch 11: Train loss: 3.1224499940872192. Train accuracy 82.91%. Test accuracy 73.00%\n",
      "Epoch 12: Train loss: 3.19545878469944. Train accuracy 80.06%. Test accuracy 70.00%\n",
      "Epoch 13: Train loss: 3.7053719758987427. Train accuracy 89.56%. Test accuracy 74.00%\n",
      "Epoch 14: Train loss: 2.6492408215999603. Train accuracy 87.03%. Test accuracy 74.00%\n",
      "Epoch 15: Train loss: 2.3530716374516487. Train accuracy 89.56%. Test accuracy 76.00%\n",
      "Epoch 16: Train loss: 2.9540945142507553. Train accuracy 90.19%. Test accuracy 71.00%\n",
      "Epoch 17: Train loss: 3.0725568551570177. Train accuracy 91.77%. Test accuracy 74.00%\n",
      "Epoch 18: Train loss: 1.5874352790415287. Train accuracy 94.30%. Test accuracy 75.00%\n",
      "Epoch 19: Train loss: 1.0968046337366104. Train accuracy 95.25%. Test accuracy 73.00%\n",
      "Epoch 20: Train loss: 0.7900709239766002. Train accuracy 95.57%. Test accuracy 73.00%\n",
      "Epoch 21: Train loss: 0.7211486222222447. Train accuracy 97.15%. Test accuracy 73.00%\n",
      "Epoch 22: Train loss: 0.4390001422725618. Train accuracy 96.52%. Test accuracy 74.00%\n",
      "Epoch 23: Train loss: 0.3051479705609381. Train accuracy 96.52%. Test accuracy 72.00%\n",
      "Epoch 24: Train loss: 0.22712554945610464. Train accuracy 96.52%. Test accuracy 70.00%\n"
     ]
    },
    {
     "data": {
      "text/plain": [
       "CNN_1D_BatchNorm_Residual(\n",
       "  (features): Sequential(\n",
       "    (0): BatchNorm1d(28, eps=1e-05, momentum=0.1, affine=True)\n",
       "    (1): Conv1d(28, 32, kernel_size=(3,), stride=(1,), padding=(2,), dilation=(2,))\n",
       "    (2): ReLU()\n",
       "    (3): aggregated_residual_blocks(\n",
       "      (residual_blocks): ModuleList(\n",
       "        (0): residual_block(\n",
       "          (features): Sequential(\n",
       "            (0): BatchNorm1d(32, eps=1e-05, momentum=0.1, affine=True)\n",
       "            (1): Conv1d(32, 32, kernel_size=(3,), stride=(1,), padding=(2,), dilation=(2,))\n",
       "            (2): ReLU()\n",
       "            (3): BatchNorm1d(32, eps=1e-05, momentum=0.1, affine=True)\n",
       "            (4): Conv1d(32, 32, kernel_size=(3,), stride=(1,), padding=(1,))\n",
       "            (5): ReLU()\n",
       "            (6): BatchNorm1d(32, eps=1e-05, momentum=0.1, affine=True)\n",
       "            (7): Conv1d(32, 32, kernel_size=(3,), stride=(1,), padding=(1,))\n",
       "            (8): ReLU()\n",
       "          )\n",
       "        )\n",
       "      )\n",
       "    )\n",
       "    (4): Dropout(p=0.15)\n",
       "    (5): aggregated_residual_blocks(\n",
       "      (residual_blocks): ModuleList(\n",
       "        (0): residual_block(\n",
       "          (features): Sequential(\n",
       "            (0): BatchNorm1d(32, eps=1e-05, momentum=0.1, affine=True)\n",
       "            (1): Conv1d(32, 32, kernel_size=(3,), stride=(1,), padding=(2,), dilation=(2,))\n",
       "            (2): ReLU()\n",
       "            (3): BatchNorm1d(32, eps=1e-05, momentum=0.1, affine=True)\n",
       "            (4): Conv1d(32, 32, kernel_size=(3,), stride=(1,), padding=(1,))\n",
       "            (5): ReLU()\n",
       "            (6): BatchNorm1d(32, eps=1e-05, momentum=0.1, affine=True)\n",
       "            (7): Conv1d(32, 32, kernel_size=(3,), stride=(1,), padding=(1,))\n",
       "            (8): ReLU()\n",
       "          )\n",
       "        )\n",
       "      )\n",
       "    )\n",
       "    (6): Dropout(p=0.15)\n",
       "    (7): aggregated_residual_blocks(\n",
       "      (residual_blocks): ModuleList(\n",
       "        (0): residual_block(\n",
       "          (features): Sequential(\n",
       "            (0): BatchNorm1d(32, eps=1e-05, momentum=0.1, affine=True)\n",
       "            (1): Conv1d(32, 32, kernel_size=(3,), stride=(1,), padding=(2,), dilation=(2,))\n",
       "            (2): ReLU()\n",
       "            (3): BatchNorm1d(32, eps=1e-05, momentum=0.1, affine=True)\n",
       "            (4): Conv1d(32, 32, kernel_size=(3,), stride=(1,), padding=(1,))\n",
       "            (5): ReLU()\n",
       "            (6): BatchNorm1d(32, eps=1e-05, momentum=0.1, affine=True)\n",
       "            (7): Conv1d(32, 32, kernel_size=(3,), stride=(1,), padding=(1,))\n",
       "            (8): ReLU()\n",
       "          )\n",
       "        )\n",
       "      )\n",
       "    )\n",
       "    (8): Dropout(p=0.15)\n",
       "    (9): BatchNorm1d(32, eps=1e-05, momentum=0.1, affine=True)\n",
       "    (10): Conv1d(32, 16, kernel_size=(3,), stride=(1,), padding=(1,))\n",
       "    (11): Dropout(p=0.1)\n",
       "    (12): MaxPool1d(kernel_size=2, stride=2, padding=0, dilation=1, ceil_mode=False)\n",
       "    (13): ReLU()\n",
       "  )\n",
       "  (classifier): Sequential(\n",
       "    (0): Linear(in_features=400, out_features=50, bias=True)\n",
       "    (1): ReLU()\n",
       "    (2): Linear(in_features=50, out_features=2, bias=True)\n",
       "  )\n",
       "  (criterion): CrossEntropyLoss(\n",
       "  )\n",
       ")"
      ]
     },
     "execution_count": 140,
     "metadata": {},
     "output_type": "execute_result"
    }
   ],
   "source": [
    "model.fit(X_tr, y_tr, X_test=X_te, y_test=y_te, epochs=25)"
   ]
  },
  {
   "cell_type": "markdown",
   "metadata": {},
   "source": [
    "### 1D conv horizontal and 1D conv vertical"
   ]
  },
  {
   "cell_type": "code",
   "execution_count": 141,
   "metadata": {},
   "outputs": [
    {
     "data": {
      "text/plain": [
       "(torch.Size([316, 28, 50]),\n",
       " torch.Size([316]),\n",
       " torch.Size([100, 28, 50]),\n",
       " torch.Size([100]))"
      ]
     },
     "execution_count": 141,
     "metadata": {},
     "output_type": "execute_result"
    }
   ],
   "source": [
    "X_tr, y_tr = Variable(train.X.clone()), Variable(train.y)\n",
    "X_te, y_te = Variable(test.X.clone()), Variable(test.y)\n",
    "\n",
    "X_tr.shape, y_tr.shape, X_te.shape, y_te.shape"
   ]
  },
  {
   "cell_type": "code",
   "execution_count": 142,
   "metadata": {},
   "outputs": [],
   "source": [
    "class CNN_1D(nn.Module):\n",
    "    def __init__(self, in_channels, activation=nn.ReLU):\n",
    "        super(CNN_1D, self).__init__()\n",
    "        self.activation = activation\n",
    "\n",
    "        self.bn1 = nn.BatchNorm1d(in_channels)\n",
    "        self.conv1 = nn.Conv1d(in_channels, 64, kernel_size=7, padding=3) \n",
    "        \n",
    "        self.bn2 = nn.BatchNorm1d(64)\n",
    "        self.conv2 = nn.Conv1d(64, 64, kernel_size=5, padding=2)\n",
    "        \n",
    "        self.bn3 = nn.BatchNorm1d(64)\n",
    "        self.conv3 = nn.Conv1d(64, in_channels, kernel_size=3, padding=1)\n",
    "        \n",
    "    def forward(self, x):\n",
    "        # (in_channels, 50)\n",
    "        x = self.bn1(x)\n",
    "        x = self.activation(self.conv1(x))\n",
    "\n",
    "        # (64, 50)\n",
    "        x = self.bn2(x)\n",
    "        x = self.activation(self.conv2(x))\n",
    "\n",
    "        # (64, in_channels)\n",
    "        x = self.bn3(x)\n",
    "        x = self.activation(self.conv3(x))\n",
    "\n",
    "        return x\n",
    "    \n",
    "class conv2D(nn.Module):\n",
    "    def __init__(self, activation=nn.ReLU):\n",
    "        super(conv2D, self).__init__()\n",
    "        self.activation = activation\n",
    "                \n",
    "        self.bn1 = nn.BatchNorm1d(1)\n",
    "        self.conv1 = nn.Conv2d(1, 32, kernel_size=(3, 7), padding=(1, 3))\n",
    "        \n",
    "        self.bn2 = nn.BatchNorm1d(32)\n",
    "        self.conv2 = nn.Conv2d(32, 32, kernel_size=5, padding=2)\n",
    "        \n",
    "        self.bn3 = nn.BatchNorm1d(32)\n",
    "        self.conv3 = nn.Conv2d(32, 16, kernel_size=5, padding=2)\n",
    "#         self.conv4 = nn.Conv2d(32, 16, kernel_size=5, padding=2)\n",
    "\n",
    "    def forward(self, x):\n",
    "        # (1, 28, 50) -> (32, 14, 26)\n",
    "        x = self.activation(F.max_pool2d(self.conv1(self.bn1(x)), 2, padding=(0, 1)))\n",
    "\n",
    "        # (32, 14, 26) -> (32, 8, 14)\n",
    "        x = self.activation(F.max_pool2d(self.conv2(self.bn2(x)), (2, 2), padding=(1, 1)))\n",
    "\n",
    "        # (32, 8, 14) -> (16, 4, 7)\n",
    "        x = self.activation(F.max_pool2d(self.conv3(self.bn3(x)), 2))\n",
    "\n",
    "        return x\n",
    "        \n",
    "class horiz_vert_1D(modelWrapper):\n",
    "    def __init__(self, activation=nn.ReLU, nb_hidden=50):\n",
    "        super(horiz_vert_1D, self).__init__()\n",
    "        self.activation = activation\n",
    "        \n",
    "        self.horiz = CNN_1D(28, activation=activation)\n",
    "        self.vert = CNN_1D(50, activation=activation)\n",
    "        \n",
    "        self.conv2D = conv2D()\n",
    "        self.conv2D_horiz = conv2D()\n",
    "        self.conv2D_vert = conv2D()\n",
    "        \n",
    "        self.fc1 = nn.Linear(448, nb_hidden)\n",
    "        self.fc2 = nn.Linear(nb_hidden, 2)\n",
    "        \n",
    "        self.criterion = nn.CrossEntropyLoss()\n",
    "        self.optimizer = Adam(self.parameters(), lr=0.001)\n",
    "        \n",
    "    def forward(self, x):\n",
    "        out1 = self.conv2D_horiz(self.horiz(x).unsqueeze(1))\n",
    "        out2 = self.conv2D_vert(self.vert(x.transpose(1, 2)).transpose(1, 2).unsqueeze(1))\n",
    "        out3 = self.conv2D(x.unsqueeze(1))\n",
    "        \n",
    "        out = out1 + out2 + out3\n",
    "        \n",
    "        out = self.activation(self.fc1(out.view(-1, 448))) \n",
    "        out = self.fc2(out)\n",
    "        \n",
    "        return out"
   ]
  },
  {
   "cell_type": "code",
   "execution_count": null,
   "metadata": {},
   "outputs": [],
   "source": [
    "model = horiz_vert_1D(nb_hidden=50)"
   ]
  },
  {
   "cell_type": "code",
   "execution_count": null,
   "metadata": {},
   "outputs": [],
   "source": [
    "model.fit(X_tr, y_tr, X_test=X_te, y_test=y_te, epochs=25)"
   ]
  },
  {
   "cell_type": "markdown",
   "metadata": {},
   "source": [
    "### Residual network with 2D convolutional layers + batch normalization "
   ]
  },
  {
   "cell_type": "code",
   "execution_count": null,
   "metadata": {},
   "outputs": [],
   "source": [
    "# add a channel to store the pixels image (so to apply the 2D convolutional layer)\n",
    "X_tr, y_tr = Variable(train.X.clone().unsqueeze(1)), Variable(train.y)\n",
    "X_te, y_te = Variable(test.X.clone().unsqueeze(1)), Variable(test.y)\n",
    "\n",
    "X_tr.shape, y_tr.shape, X_te.shape, y_te.shape"
   ]
  },
  {
   "cell_type": "code",
   "execution_count": null,
   "metadata": {},
   "outputs": [],
   "source": [
    "# resudial network\n",
    "class BasicBlock():\n",
    "    def __init__(self, in_planes, out_planes, stride, dropRate=0.0):\n",
    "        super(BasicBlock, self).__init__()\n",
    "        self.bn1 = nn.BatchNorm2d(in_planes)\n",
    "        self.relu1 = nn.ReLU(inplace=True)\n",
    "        self.conv1 = nn.Conv2d(in_planes, out_planes, kernel_size=3, stride=stride,\n",
    "                               padding=1, bias=False)\n",
    "        self.bn2 = nn.BatchNorm2d(out_planes)\n",
    "        self.relu2 = nn.ReLU(inplace=True)\n",
    "        self.conv2 = nn.Conv2d(out_planes, out_planes, kernel_size=3, stride=1,\n",
    "                               padding=1, bias=False)\n",
    "        self.droprate = dropRate\n",
    "        self.equalInOut = (in_planes == out_planes)\n",
    "        self.convShortcut = (not self.equalInOut) and nn.Conv2d(in_planes, out_planes, kernel_size=1, stride=stride,\n",
    "                               padding=0, bias=False) or None\n",
    "    def forward(self, x):\n",
    "        if not self.equalInOut:\n",
    "            x = self.relu1(self.bn1(x))\n",
    "        else:\n",
    "            out = self.relu1(self.bn1(x))\n",
    "        out = self.relu2(self.bn2(self.conv1(out if self.equalInOut else x)))\n",
    "        if self.droprate > 0:\n",
    "            out = F.dropout(out, p=self.droprate, training=self.training)\n",
    "        out = self.conv2(out)\n",
    "        return torch.add(x if self.equalInOut else self.convShortcut(x), out)\n",
    "    \n",
    "class NetworkBlock():\n",
    "    def __init__(self, nb_layers, in_planes, out_planes, block, stride, dropRate=0.0):\n",
    "        super(NetworkBlock, self).__init__()\n",
    "        self.layer = self._make_layer(block, in_planes, out_planes, nb_layers, stride, dropRate)\n",
    "    def _make_layer(self, block, in_planes, out_planes, nb_layers, stride, dropRate):\n",
    "        layers = []\n",
    "        for i in range(nb_layers):\n",
    "            layers.append(block(i == 0 and in_planes or out_planes, out_planes, i == 0 and stride or 1, dropRate))\n",
    "        return nn.Sequential(*layers)\n",
    "    def forward(self, x):\n",
    "        return self.layer(x)\n",
    "\n",
    "class WideResNet(, modelWrapper):\n",
    "    def __init__(self, depth, num_classes, widen_factor=1, dropRate=0.0):\n",
    "        super(WideResNet, self).__init__()\n",
    "        nChannels = [16, 16*widen_factor, 32*widen_factor, 64*widen_factor]\n",
    "        assert((depth - 4) % 6 == 0)\n",
    "        n = int((depth - 4) / 6)\n",
    "        block = BasicBlock\n",
    "        # 1st conv before any network block\n",
    "        self.conv1 = nn.Conv2d(1, nChannels[0], kernel_size=3, stride=1,\n",
    "                               padding=1, bias=False)\n",
    "        # 1st block\n",
    "        self.block1 = NetworkBlock(n, nChannels[0], nChannels[1], block, 1, dropRate)\n",
    "        # 2nd block\n",
    "        self.block2 = NetworkBlock(n, nChannels[1], nChannels[2], block, 2, dropRate)\n",
    "        # 3rd block\n",
    "        self.block3 = NetworkBlock(n, nChannels[2], nChannels[3], block, 2, dropRate)\n",
    "        # global average pooling and classifier\n",
    "        self.bn1 = nn.BatchNorm2d(nChannels[3])\n",
    "        self.relu = nn.ReLU(inplace=True)\n",
    "        #self.fc = nn.Linear(nChannels[3], num_classes)\n",
    "        #self.nChannels = nChannels[3]\n",
    "        self.fc = nn.Linear(1152, num_classes)\n",
    "        self.nChannels = 1152\n",
    "        \n",
    "        self.criterion = nn.CrossEntropyLoss()\n",
    "        self.optimizer = Adam(self.parameters(), lr=0.01)\n",
    "\n",
    "#         for m in self.modules():\n",
    "#             if isinstance(m, nn.Conv2d):\n",
    "#                 n = m.kernel_size[0] * m.kernel_size[1] * m.out_channels\n",
    "#                 m.weight.data.normal_(0, math.sqrt(2. / n))\n",
    "#             elif isinstance(m, nn.BatchNorm2d):\n",
    "#                 m.weight.data.fill_(1)\n",
    "#                 m.bias.data.zero_()\n",
    "#             elif isinstance(m, nn.Linear):\n",
    "#                 m.bias.data.zero_()\n",
    "\n",
    "    def forward(self, x):\n",
    "        #print(x.size())\n",
    "        out = self.conv1(x)\n",
    "        #print(out.size())\n",
    "        out = self.block1(out)\n",
    "        #print(out.size())\n",
    "        out = self.block2(out)\n",
    "        #print(out.size())\n",
    "        out = self.block3(out)\n",
    "        #print(out.size())\n",
    "        out = self.relu(self.bn1(out))\n",
    "        #print(out.size())\n",
    "        out = F.avg_pool2d(out, 2)\n",
    "        #print(out.size())\n",
    "        out = self.fc(out.view(-1, self.nChannels))\n",
    "        #print(out.size())\n",
    "        return out"
   ]
  },
  {
   "cell_type": "code",
   "execution_count": null,
   "metadata": {},
   "outputs": [],
   "source": [
    "model = WideResNet(depth=16, num_classes=2)"
   ]
  },
  {
   "cell_type": "code",
   "execution_count": null,
   "metadata": {},
   "outputs": [],
   "source": [
    "model.fit(X_tr, y_tr, X_test=X_te, y_test=y_te, epochs=5)"
   ]
  }
 ],
 "metadata": {
  "kernelspec": {
   "display_name": "Python 3",
   "language": "python",
   "name": "python3"
  },
  "language_info": {
   "codemirror_mode": {
    "name": "ipython",
    "version": 3
   },
   "file_extension": ".py",
   "mimetype": "text/x-python",
   "name": "python",
   "nbconvert_exporter": "python",
   "pygments_lexer": "ipython3",
   "version": "3.6.3"
  }
 },
 "nbformat": 4,
 "nbformat_minor": 2
}
