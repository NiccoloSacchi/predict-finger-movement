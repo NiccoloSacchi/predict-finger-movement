{
 "cells": [
  {
   "cell_type": "markdown",
   "metadata": {},
   "source": [
    "<center> \n",
    "    <h1>Mini-project1</h1>\n",
    "    <h2>Predict the laterality of upcoming finger movements</h2>\n",
    "</center>"
   ]
  },
  {
   "cell_type": "markdown",
   "metadata": {},
   "source": [
    "#### Imports"
   ]
  },
  {
   "cell_type": "code",
   "execution_count": 2,
   "metadata": {},
   "outputs": [],
   "source": [
    "import math\n",
    "import numpy as np\n",
    "import matplotlib.pylab as plt\n",
    "import dlc_bci as bci\n",
    "from types import SimpleNamespace \n",
    "\n",
    "from sklearn.model_selection import cross_validate\n",
    "from sklearn.preprocessing import StandardScaler\n",
    "from sklearn.decomposition import PCA\n",
    "\n",
    "# baselines\n",
    "from sklearn.linear_model import LogisticRegression\n",
    "from sklearn.ensemble import RandomForestClassifier\n",
    "from sklearn.neighbors import KNeighborsClassifier\n",
    "from sklearn.svm import SVC\n",
    "from sklearn.discriminant_analysis import LinearDiscriminantAnalysis\n",
    "\n",
    "import torch \n",
    "from torch import nn\n",
    "from torch import Tensor\n",
    "from torch.autograd import Variable\n",
    "from torch.optim import Adam\n",
    "from torch import optim\n",
    "import torch.nn.functional as F\n",
    "\n",
    "from helpers import *\n",
    "from modelWrapper import *\n",
    "\n",
    "%matplotlib inline\n",
    "%load_ext autoreload\n",
    "%autoreload 2"
   ]
  },
  {
   "cell_type": "markdown",
   "metadata": {},
   "source": [
    "## Download/load the dataset"
   ]
  },
  {
   "cell_type": "code",
   "execution_count": 3,
   "metadata": {},
   "outputs": [
    {
     "name": "stdout",
     "output_type": "stream",
     "text": [
      "<class 'torch.FloatTensor'> torch.Size([316, 28, 50])\n",
      "<class 'torch.LongTensor'> torch.Size([316])\n",
      "<class 'torch.FloatTensor'> torch.Size([100, 28, 50])\n",
      "<class 'torch.LongTensor'> torch.Size([100])\n"
     ]
    }
   ],
   "source": [
    "one_khz=False\n",
    "\n",
    "train = SimpleNamespace()\n",
    "train.X, train.y = bci.load(root='./data_bci', one_khz=one_khz)\n",
    "print(str(type(train.X)), train.X.size())\n",
    "print(str(type(train.y)), train.y.size())\n",
    "\n",
    "test = SimpleNamespace()\n",
    "test.X, test.y = bci.load(root='./data_bci', train=False, one_khz=one_khz)\n",
    "print(str(type(test.X)), test.X.size())\n",
    "print(str(type(test.y)), test.y.size())"
   ]
  },
  {
   "cell_type": "code",
   "execution_count": 4,
   "metadata": {},
   "outputs": [
    {
     "ename": "NameError",
     "evalue": "name 'X_tr' is not defined",
     "output_type": "error",
     "traceback": [
      "\u001b[0;31m---------------------------------------------------------------------------\u001b[0m",
      "\u001b[0;31mNameError\u001b[0m                                 Traceback (most recent call last)",
      "\u001b[0;32m<ipython-input-4-45e1be675b8a>\u001b[0m in \u001b[0;36m<module>\u001b[0;34m()\u001b[0m\n\u001b[1;32m      1\u001b[0m \u001b[0mi\u001b[0m \u001b[0;34m=\u001b[0m \u001b[0;36m1\u001b[0m\u001b[0;34m\u001b[0m\u001b[0m\n\u001b[0;32m----> 2\u001b[0;31m \u001b[0mplt\u001b[0m\u001b[0;34m.\u001b[0m\u001b[0mimshow\u001b[0m\u001b[0;34m(\u001b[0m\u001b[0mX_tr\u001b[0m\u001b[0;34m[\u001b[0m\u001b[0mi\u001b[0m\u001b[0;34m]\u001b[0m\u001b[0;34m)\u001b[0m\u001b[0;34m\u001b[0m\u001b[0m\n\u001b[0m\u001b[1;32m      3\u001b[0m \u001b[0mplt\u001b[0m\u001b[0;34m.\u001b[0m\u001b[0mshow\u001b[0m\u001b[0;34m(\u001b[0m\u001b[0;34m)\u001b[0m\u001b[0;34m\u001b[0m\u001b[0m\n",
      "\u001b[0;31mNameError\u001b[0m: name 'X_tr' is not defined"
     ]
    }
   ],
   "source": [
    "i = 1\n",
    "plt.imshow(X_tr[i])\n",
    "plt.show()"
   ]
  },
  {
   "cell_type": "markdown",
   "metadata": {},
   "source": [
    "## Baselines:"
   ]
  },
  {
   "cell_type": "markdown",
   "metadata": {},
   "source": [
    "### Random Forest"
   ]
  },
  {
   "cell_type": "markdown",
   "metadata": {},
   "source": [
    "- Preprocess data"
   ]
  },
  {
   "cell_type": "code",
   "execution_count": 192,
   "metadata": {},
   "outputs": [
    {
     "data": {
      "text/plain": [
       "((316, 1400), (316,), (100, 1400), (100,))"
      ]
     },
     "execution_count": 192,
     "metadata": {},
     "output_type": "execute_result"
    }
   ],
   "source": [
    "# flatten the X (no standardization for random forest) \n",
    "X_tr, y_tr = train.X.view(train.X.shape[0], -1).clone().numpy(), train.y.numpy() \n",
    "X_te, y_te = test.X.view(test.X.shape[0], -1).clone().numpy(), test.y.numpy() \n",
    "X_tr.shape, y_tr.shape, X_te.shape, y_te.shape"
   ]
  },
  {
   "cell_type": "markdown",
   "metadata": {},
   "source": [
    "- Tune and compute test accuracy."
   ]
  },
  {
   "cell_type": "code",
   "execution_count": 193,
   "metadata": {},
   "outputs": [
    {
     "name": "stdout",
     "output_type": "stream",
     "text": [
      "Best depth: 5\n",
      "Test score: 0.58\n"
     ]
    },
    {
     "data": {
      "image/png": "[encoded data removed]",
      "text/plain": [
       "<matplotlib.figure.Figure at 0x7f085eb60dd8>"
      ]
     },
     "metadata": {},
     "output_type": "display_data"
    }
   ],
   "source": [
    "depths = np.arange(5, 100, 10) # grid search on a parameter of the model\n",
    "\n",
    "# here we store all the scores obtained with the different depths\n",
    "randForest = {\n",
    "    \"tr_scores\": [],\n",
    "    \"va_scores\": []\n",
    "}\n",
    "\n",
    "for depth in depths:\n",
    "    result = cross_validate(\n",
    "        RandomForestClassifier(n_estimators=100, max_depth=depth, n_jobs=-1, random_state=1), \n",
    "        X_tr, y_tr, cv=5, return_train_score=True)\n",
    "    \n",
    "    randForest[\"tr_scores\"].append(np.mean(result[\"train_score\"]))\n",
    "    randForest[\"va_scores\"].append(np.mean(result[\"test_score\"]))\n",
    "    \n",
    "plot_scores(depths, \"depth\", randForest[\"tr_scores\"], randForest[\"va_scores\"], ylog_scale=False)\n",
    "\n",
    "best_depth = depths[np.argmax(randForest[\"va_scores\"])]\n",
    "print('Best depth:', best_depth)\n",
    "print('Test score:',\n",
    "      RandomForestClassifier(n_estimators=100, max_depth=depth, n_jobs=-1, random_state=1)\n",
    "      .fit(X_tr, y_tr)\n",
    "      .score(X_te, y_te))"
   ]
  },
  {
   "cell_type": "markdown",
   "metadata": {},
   "source": [
    "### Logistic regression"
   ]
  },
  {
   "cell_type": "markdown",
   "metadata": {},
   "source": [
    "- Preprocess data"
   ]
  },
  {
   "cell_type": "code",
   "execution_count": 194,
   "metadata": {},
   "outputs": [
    {
     "data": {
      "text/plain": [
       "((316, 1400), (316,), (100, 1400), (100,))"
      ]
     },
     "execution_count": 194,
     "metadata": {},
     "output_type": "execute_result"
    }
   ],
   "source": [
    "# flatten and normalize the X\n",
    "X_tr, y_tr = train.X.view(train.X.shape[0], -1).clone().numpy(), train.y.numpy() \n",
    "X_te, y_te = test.X.view(test.X.shape[0], -1).clone().numpy(), test.y.numpy() \n",
    "\n",
    "scaler = StandardScaler()\n",
    "scaler.fit(X_tr)\n",
    "X_tr = scaler.transform(X_tr)\n",
    "X_te = scaler.transform(X_te)\n",
    "X_tr.shape, y_tr.shape, X_te.shape, y_te.shape"
   ]
  },
  {
   "cell_type": "markdown",
   "metadata": {},
   "source": [
    "- Tune and compute test accuracy."
   ]
  },
  {
   "cell_type": "code",
   "execution_count": 195,
   "metadata": {},
   "outputs": [
    {
     "name": "stdout",
     "output_type": "stream",
     "text": [
      "Best lambda: 0.215443469003\n",
      "Test score: 0.7\n"
     ]
    },
    {
     "data": {
      "image/png": "[encoded data removed]",
      "text/plain": [
       "<matplotlib.figure.Figure at 0x7f085ea2f128>"
      ]
     },
     "metadata": {},
     "output_type": "display_data"
    }
   ],
   "source": [
    "lambdas = np.logspace(-6, 6, 10) # grid search on a parameter of the model\n",
    "\n",
    "# here we store all the scores obtained with the different lambdas\n",
    "logreg = {\n",
    "    \"tr_scores\": [],\n",
    "    \"va_scores\": []\n",
    "}\n",
    "\n",
    "# tune the model on the train set \n",
    "for lambda_ in lambdas:\n",
    "    result = cross_validate(LogisticRegression(C=lambda_), X_tr, y_tr, cv=5, return_train_score=True)\n",
    "    \n",
    "    logreg[\"tr_scores\"].append(np.mean(result[\"train_score\"]))\n",
    "    logreg[\"va_scores\"].append(np.mean(result[\"test_score\"]))\n",
    "    \n",
    "plot_scores(lambdas, \"1/lambda\", logreg[\"tr_scores\"], logreg[\"va_scores\"], ylog_scale=True)\n",
    "\n",
    "# select the best lambdas and estimate the accuracy on the test set\n",
    "best_lambda = lambdas[np.argmax(logreg[\"va_scores\"])]\n",
    "print('Best lambda:', best_lambda)\n",
    "print('Test score:', \n",
    "      LogisticRegression(C=best_lambda)\n",
    "      .fit(X_tr, y_tr)\n",
    "      .score(X_te, y_te))"
   ]
  },
  {
   "cell_type": "markdown",
   "metadata": {},
   "source": [
    "## Support vector machine"
   ]
  },
  {
   "cell_type": "markdown",
   "metadata": {},
   "source": [
    "- Preprocess data"
   ]
  },
  {
   "cell_type": "code",
   "execution_count": null,
   "metadata": {},
   "outputs": [],
   "source": [
    "# flatten and normalize the X\n",
    "X_tr, y_tr = train.X.view(train.X.shape[0], -1).clone().numpy(), train.y.numpy() \n",
    "X_te, y_te = test.X.view(test.X.shape[0], -1).clone().numpy(), test.y.numpy() \n",
    "\n",
    "scaler = StandardScaler()\n",
    "scaler.fit(X_tr)\n",
    "X_tr = scaler.transform(X_tr)\n",
    "X_te = scaler.transform(X_te)\n",
    "X_tr.shape, y_tr.shape, X_te.shape, y_te.shape"
   ]
  },
  {
   "cell_type": "markdown",
   "metadata": {},
   "source": [
    "- Tune and compute test accuracy."
   ]
  },
  {
   "cell_type": "code",
   "execution_count": null,
   "metadata": {},
   "outputs": [],
   "source": [
    "lambdas = np.logspace(-6, 6, 10) # grid search on a parameter of the model\n",
    "\n",
    "# here we store all the scores obtained with the different lambdas\n",
    "logreg = {\n",
    "    \"tr_scores\": [],\n",
    "    \"va_scores\": []\n",
    "}\n",
    "\n",
    "# tune the model on the train set \n",
    "for lambda_ in lambdas:\n",
    "    result = cross_validate(SVC(C=lambda_), X_tr, y_tr, cv=5, return_train_score=True)\n",
    "    \n",
    "    logreg[\"tr_scores\"].append(np.mean(result[\"train_score\"]))\n",
    "    logreg[\"va_scores\"].append(np.mean(result[\"test_score\"]))\n",
    "    \n",
    "plot_scores(lambdas, \"1/lambda\", logreg[\"tr_scores\"], logreg[\"va_scores\"], ylog_scale=True)\n",
    "\n",
    "# select the best lambdas and estimate the accuracy on the test set\n",
    "best_lambda = lambdas[np.argmax(logreg[\"va_scores\"])]\n",
    "print('Best lambda:', best_lambda)\n",
    "print('Test score:', \n",
    "      SVC(C=best_lambda)\n",
    "      .fit(X_tr, y_tr)\n",
    "      .score(X_te, y_te))"
   ]
  },
  {
   "cell_type": "markdown",
   "metadata": {},
   "source": [
    "### LinearDiscriminantAnalysis"
   ]
  },
  {
   "cell_type": "markdown",
   "metadata": {},
   "source": [
    "- Preprocess data"
   ]
  },
  {
   "cell_type": "code",
   "execution_count": null,
   "metadata": {},
   "outputs": [],
   "source": [
    "# flatten and normalize the X\n",
    "X_tr, y_tr = train.X.view(train.X.shape[0], -1).clone().numpy(), train.y.numpy() \n",
    "X_te, y_te = test.X.view(test.X.shape[0], -1).clone().numpy(), test.y.numpy() \n",
    "\n",
    "scaler = StandardScaler()\n",
    "scaler.fit(X_tr)\n",
    "X_tr = scaler.transform(X_tr)\n",
    "X_te = scaler.transform(X_te)\n",
    "X_tr.shape, y_tr.shape, X_te.shape, y_te.shape"
   ]
  },
  {
   "cell_type": "markdown",
   "metadata": {},
   "source": [
    "- Tune and compute test accuracy."
   ]
  },
  {
   "cell_type": "code",
   "execution_count": null,
   "metadata": {},
   "outputs": [],
   "source": [
    "tols = np.logspace(-6, 1, 10) # grid search on a parameter of the model\n",
    "\n",
    "# here we store all the scores obtained with the different lambdas\n",
    "logreg = {\n",
    "    \"tr_scores\": [],\n",
    "    \"va_scores\": []\n",
    "}\n",
    "\n",
    "# tune the model on the train set \n",
    "for tol in tols:\n",
    "    result = cross_validate(LinearDiscriminantAnalysis(tol=tol), X_tr, y_tr, cv=5, return_train_score=True)\n",
    "    \n",
    "    logreg[\"tr_scores\"].append(np.mean(result[\"train_score\"]))\n",
    "    logreg[\"va_scores\"].append(np.mean(result[\"test_score\"]))\n",
    "    \n",
    "plot_scores(tols, \"tol\", logreg[\"tr_scores\"], logreg[\"va_scores\"], ylog_scale=True)\n",
    "\n",
    "# select the best lambdas and estimate the accuracy on the test set\n",
    "best_tol = tols[np.argmax(logreg[\"va_scores\"])]\n",
    "print('Best tol:', best_tol)\n",
    "print('Test score:', \n",
    "      LinearDiscriminantAnalysis(tol=best_tol)\n",
    "      .fit(X_tr, y_tr)\n",
    "      .score(X_te, y_te))"
   ]
  },
  {
   "cell_type": "markdown",
   "metadata": {},
   "source": [
    "### K-Nearest Neighbors"
   ]
  },
  {
   "cell_type": "markdown",
   "metadata": {},
   "source": [
    "- Preprocess data"
   ]
  },
  {
   "cell_type": "code",
   "execution_count": null,
   "metadata": {},
   "outputs": [],
   "source": [
    "# flatten, normalize the X and apply PCA to reduce dimensions (reduce curse of dimensionality effect)\n",
    "X_tr, y_tr = train.X.view(train.X.shape[0], -1).clone().numpy(), train.y.numpy() \n",
    "X_te, y_te = test.X.view(test.X.shape[0], -1).clone().numpy(), test.y.numpy() \n",
    "\n",
    "scaler = StandardScaler()\n",
    "scaler.fit(X_tr)\n",
    "X_tr_scaled = scaler.transform(X_tr)\n",
    "X_te_scaled = scaler.transform(X_te)\n",
    "\n",
    "pca = PCA(n_components=0.95)\n",
    "pca.fit(X_tr_scaled)\n",
    "X_tr = pca.transform(X_tr)\n",
    "X_te = pca.transform(X_te)\n",
    "\n",
    "X_tr.shape, y_tr.shape, X_te.shape, y_te.shape"
   ]
  },
  {
   "cell_type": "markdown",
   "metadata": {},
   "source": [
    "- Tune and compute test accuracy."
   ]
  },
  {
   "cell_type": "code",
   "execution_count": null,
   "metadata": {},
   "outputs": [],
   "source": [
    "Ks = np.arange(1, 10, 1) # grid search on a parameter of the model\n",
    "\n",
    "# here we store all the scores obtained with the different number of neighbors\n",
    "nearestNeig = {\n",
    "    \"tr_scores\": [],\n",
    "    \"va_scores\": []\n",
    "}\n",
    "\n",
    "for k in Ks:\n",
    "    result = cross_validate(\n",
    "        KNeighborsClassifier(n_neighbors=k), \n",
    "        X_tr, y_tr, cv=5, return_train_score=True)\n",
    "    \n",
    "    nearestNeig[\"tr_scores\"].append(np.mean(result[\"train_score\"]))\n",
    "    nearestNeig[\"va_scores\"].append(np.mean(result[\"test_score\"]))\n",
    "    \n",
    "plot_scores(Ks, \"# Neighbors\", nearestNeig[\"tr_scores\"], nearestNeig[\"va_scores\"], ylog_scale=False)\n",
    "\n",
    "best_k = Ks[np.argmax(nearestNeig[\"va_scores\"])]\n",
    "print('Best k:', best_k)\n",
    "print('Test score:', \n",
    "      KNeighborsClassifier(n_neighbors=k)\n",
    "      .fit(X_tr, y_tr)\n",
    "      .score(X_te, y_te))"
   ]
  },
  {
   "cell_type": "markdown",
   "metadata": {},
   "source": [
    "## Deep networks"
   ]
  },
  {
   "cell_type": "markdown",
   "metadata": {},
   "source": [
    "### CNN: 2D convolutional layers"
   ]
  },
  {
   "cell_type": "code",
   "execution_count": 3,
   "metadata": {},
   "outputs": [
    {
     "data": {
      "text/plain": [
       "(torch.Size([316, 1, 28, 50]),\n",
       " torch.Size([316]),\n",
       " torch.Size([100, 1, 28, 50]),\n",
       " torch.Size([100]))"
      ]
     },
     "execution_count": 3,
     "metadata": {},
     "output_type": "execute_result"
    }
   ],
   "source": [
    "# add a channel to store the pixels image (so to apply the 2D convolutional layer)\n",
    "X_tr, y_tr = Variable(train.X.clone().unsqueeze(1)), Variable(train.y)\n",
    "X_te, y_te = Variable(test.X.clone().unsqueeze(1)), Variable(test.y)\n",
    "\n",
    "X_tr.shape, y_tr.shape, X_te.shape, y_te.shape"
   ]
  },
  {
   "cell_type": "code",
   "execution_count": 6,
   "metadata": {},
   "outputs": [],
   "source": [
    "class CNN2D(modelWrapper):\n",
    "    def __init__(self, nb_hidden=50, activation = nn.ReLU):\n",
    "        super(CNN2D, self).__init__()        \n",
    "        \n",
    "        self.activation = activation\n",
    "        self.features = nn.Sequential(\n",
    "            nn.Conv2d(1, 32, kernel_size=(3, 7), padding=(1, 3)),\n",
    "            nn.MaxPool2d(2),\n",
    "            self.activation(),\n",
    "            \n",
    "            nn.Conv2d(32, 64, kernel_size=3, padding=1),\n",
    "            nn.MaxPool2d((2, 5)),\n",
    "            self.activation(),\n",
    "            \n",
    "            nn.Conv2d(64, 32, kernel_size=5, padding=2),\n",
    "            nn.MaxPool2d(2, padding=(1, 1)),\n",
    "            self.activation(),\n",
    "        )\n",
    "        \n",
    "        self.num_features = 384\n",
    "        self.classifier = nn.Sequential(\n",
    "            nn.Linear(self.num_features, nb_hidden),\n",
    "            self.activation(),\n",
    "            nn.Linear(nb_hidden, 2)\n",
    "        )\n",
    "        \n",
    "        self.criterion = nn.CrossEntropyLoss()\n",
    "        self.optimizer = Adam(self.parameters(), lr=0.001)"
   ]
  },
  {
   "cell_type": "code",
   "execution_count": 7,
   "metadata": {},
   "outputs": [],
   "source": [
    "model = CNN2D()"
   ]
  },
  {
   "cell_type": "code",
   "execution_count": 8,
   "metadata": {},
   "outputs": [
    {
     "name": "stdout",
     "output_type": "stream",
     "text": [
      "Epoch 0: Train loss: 17.735598146915436. Train accuracy 49.68%. Test accuracy 51.00%\n",
      "Epoch 1: Train loss: 11.17670351266861. Train accuracy 50.00%. Test accuracy 49.00%\n",
      "Epoch 2: Train loss: 11.066096782684326. Train accuracy 59.81%. Test accuracy 49.00%\n",
      "Epoch 3: Train loss: 11.02427351474762. Train accuracy 57.59%. Test accuracy 45.00%\n",
      "Epoch 4: Train loss: 10.97516816854477. Train accuracy 64.24%. Test accuracy 54.00%\n"
     ]
    },
    {
     "data": {
      "text/plain": [
       "CNN2D(\n",
       "  (features): Sequential(\n",
       "    (0): Conv2d(1, 32, kernel_size=(3, 7), stride=(1, 1), padding=(1, 3))\n",
       "    (1): MaxPool2d(kernel_size=(2, 2), stride=(2, 2), dilation=(1, 1), ceil_mode=False)\n",
       "    (2): ReLU()\n",
       "    (3): Conv2d(32, 64, kernel_size=(3, 3), stride=(1, 1), padding=(1, 1))\n",
       "    (4): MaxPool2d(kernel_size=(2, 5), stride=(2, 5), dilation=(1, 1), ceil_mode=False)\n",
       "    (5): ReLU()\n",
       "    (6): Conv2d(64, 32, kernel_size=(5, 5), stride=(1, 1), padding=(2, 2))\n",
       "    (7): MaxPool2d(kernel_size=(2, 2), stride=(2, 2), padding=(1, 1), dilation=(1, 1), ceil_mode=False)\n",
       "    (8): ReLU()\n",
       "  )\n",
       "  (classifier): Sequential(\n",
       "    (0): Linear(in_features=384, out_features=50, bias=True)\n",
       "    (1): ReLU()\n",
       "    (2): Linear(in_features=50, out_features=2, bias=True)\n",
       "  )\n",
       "  (criterion): CrossEntropyLoss(\n",
       "  )\n",
       ")"
      ]
     },
     "execution_count": 8,
     "metadata": {},
     "output_type": "execute_result"
    }
   ],
   "source": [
    "model.fit(X_tr, y_tr, X_test=X_te, y_test=y_te, epochs=5)"
   ]
  },
  {
   "cell_type": "markdown",
   "metadata": {
    "collapsed": true
   },
   "source": [
    "### 1D convolution +  dropout"
   ]
  },
  {
   "cell_type": "code",
   "execution_count": 9,
   "metadata": {},
   "outputs": [
    {
     "data": {
      "text/plain": [
       "(torch.Size([316, 28, 50]),\n",
       " torch.Size([316]),\n",
       " torch.Size([100, 28, 50]),\n",
       " torch.Size([100]))"
      ]
     },
     "execution_count": 9,
     "metadata": {},
     "output_type": "execute_result"
    }
   ],
   "source": [
    "X_tr, y_tr = Variable(train.X.clone()), Variable(train.y)\n",
    "X_te, y_te = Variable(test.X.clone()), Variable(test.y)\n",
    "\n",
    "X_tr.shape, y_tr.shape, X_te.shape, y_te.shape"
   ]
  },
  {
   "cell_type": "code",
   "execution_count": 10,
   "metadata": {},
   "outputs": [],
   "source": [
    "# define the network with two convolutional layers\n",
    "class CNN_1D_Dropout(modelWrapper):\n",
    "    def __init__(self, nb_hidden=50, activation=nn.ReLU):\n",
    "        self.nb_hidden = nb_hidden\n",
    "        super(CNN_1D_Dropout, self).__init__()\n",
    "        \n",
    "        self.activation = activation\n",
    "        self.dropout = nn.Dropout\n",
    "        \n",
    "        self.features = nn.Sequential(\n",
    "            nn.Conv1d(28, 64, kernel_size=5, padding=2),\n",
    "            self.activation(),\n",
    "            nn.Dropout(0.1),\n",
    "            \n",
    "            nn.Conv1d(64, 64, kernel_size=5, padding=2),\n",
    "            nn.MaxPool1d(2, padding=1),\n",
    "            self.activation(),\n",
    "            nn.Dropout(0.1),\n",
    "            \n",
    "            nn.Conv1d(64, 32, kernel_size=5, padding=2),\n",
    "            nn.MaxPool1d(2, padding=1),\n",
    "            self.activation(),\n",
    "        )\n",
    "        \n",
    "        self.num_features = 448\n",
    "        self.classifier = nn.Sequential(\n",
    "            nn.Linear(self.num_features, nb_hidden),\n",
    "            self.activation(),\n",
    "            nn.Linear(nb_hidden, 2)\n",
    "        )\n",
    "\n",
    "        self.criterion = nn.CrossEntropyLoss()\n",
    "        self.optimizer = Adam(self.parameters(), lr=0.001)"
   ]
  },
  {
   "cell_type": "code",
   "execution_count": 11,
   "metadata": {},
   "outputs": [],
   "source": [
    "model = CNN_1D_Dropout()"
   ]
  },
  {
   "cell_type": "code",
   "execution_count": 12,
   "metadata": {},
   "outputs": [
    {
     "name": "stdout",
     "output_type": "stream",
     "text": [
      "Epoch 0: Train loss: 12.603899657726288. Train accuracy 53.80%. Test accuracy 50.00%\n",
      "Epoch 1: Train loss: 11.29260778427124. Train accuracy 50.63%. Test accuracy 54.00%\n",
      "Epoch 2: Train loss: 10.887699127197266. Train accuracy 60.76%. Test accuracy 58.00%\n",
      "Epoch 3: Train loss: 10.676740527153015. Train accuracy 64.56%. Test accuracy 52.00%\n",
      "Epoch 4: Train loss: 10.483382821083069. Train accuracy 68.35%. Test accuracy 55.00%\n",
      "Epoch 5: Train loss: 9.79628637433052. Train accuracy 75.95%. Test accuracy 65.00%\n",
      "Epoch 6: Train loss: 8.87550476193428. Train accuracy 74.37%. Test accuracy 67.00%\n",
      "Epoch 7: Train loss: 8.62815609574318. Train accuracy 71.52%. Test accuracy 65.00%\n",
      "Epoch 8: Train loss: 8.24027106165886. Train accuracy 82.28%. Test accuracy 76.00%\n",
      "Epoch 9: Train loss: 6.475054711103439. Train accuracy 68.04%. Test accuracy 67.00%\n",
      "Epoch 10: Train loss: 7.116798236966133. Train accuracy 83.86%. Test accuracy 74.00%\n",
      "Epoch 11: Train loss: 7.548905938863754. Train accuracy 78.16%. Test accuracy 69.00%\n",
      "Epoch 12: Train loss: 7.754688322544098. Train accuracy 84.49%. Test accuracy 69.00%\n",
      "Epoch 13: Train loss: 6.324954003095627. Train accuracy 87.97%. Test accuracy 73.00%\n",
      "Epoch 14: Train loss: 6.308505564928055. Train accuracy 87.66%. Test accuracy 73.00%\n",
      "Epoch 15: Train loss: 5.6526942402124405. Train accuracy 90.19%. Test accuracy 73.00%\n",
      "Epoch 16: Train loss: 5.550312593579292. Train accuracy 87.03%. Test accuracy 70.00%\n",
      "Epoch 17: Train loss: 6.151773646473885. Train accuracy 86.39%. Test accuracy 69.00%\n",
      "Epoch 18: Train loss: 6.2411249577999115. Train accuracy 88.61%. Test accuracy 73.00%\n",
      "Epoch 19: Train loss: 4.5198967307806015. Train accuracy 80.38%. Test accuracy 76.00%\n",
      "Epoch 20: Train loss: 4.901383593678474. Train accuracy 78.48%. Test accuracy 68.00%\n",
      "Epoch 21: Train loss: 6.300886750221252. Train accuracy 90.82%. Test accuracy 75.00%\n",
      "Epoch 22: Train loss: 5.294185906648636. Train accuracy 88.29%. Test accuracy 71.00%\n",
      "Epoch 23: Train loss: 4.671877898275852. Train accuracy 90.51%. Test accuracy 70.00%\n",
      "Epoch 24: Train loss: 5.4074776619672775. Train accuracy 81.33%. Test accuracy 69.00%\n"
     ]
    },
    {
     "data": {
      "text/plain": [
       "CNN_1D_Dropout(\n",
       "  (features): Sequential(\n",
       "    (0): Conv1d(28, 64, kernel_size=(5,), stride=(1,), padding=(2,))\n",
       "    (1): ReLU()\n",
       "    (2): Dropout(p=0.1)\n",
       "    (3): Conv1d(64, 64, kernel_size=(5,), stride=(1,), padding=(2,))\n",
       "    (4): MaxPool1d(kernel_size=2, stride=2, padding=1, dilation=1, ceil_mode=False)\n",
       "    (5): ReLU()\n",
       "    (6): Dropout(p=0.1)\n",
       "    (7): Conv1d(64, 32, kernel_size=(5,), stride=(1,), padding=(2,))\n",
       "    (8): MaxPool1d(kernel_size=2, stride=2, padding=1, dilation=1, ceil_mode=False)\n",
       "    (9): ReLU()\n",
       "  )\n",
       "  (classifier): Sequential(\n",
       "    (0): Linear(in_features=448, out_features=50, bias=True)\n",
       "    (1): ReLU()\n",
       "    (2): Linear(in_features=50, out_features=2, bias=True)\n",
       "  )\n",
       "  (criterion): CrossEntropyLoss(\n",
       "  )\n",
       ")"
      ]
     },
     "execution_count": 12,
     "metadata": {},
     "output_type": "execute_result"
    }
   ],
   "source": [
    "model.fit(X_tr, y_tr, X_test=X_te, y_test=y_te, epochs=25)"
   ]
  },
  {
   "cell_type": "markdown",
   "metadata": {},
   "source": [
    "### 1D convolution + Batch norm"
   ]
  },
  {
   "cell_type": "code",
   "execution_count": 5,
   "metadata": {},
   "outputs": [
    {
     "data": {
      "text/plain": [
       "(torch.Size([316, 28, 50]),\n",
       " torch.Size([316]),\n",
       " torch.Size([100, 28, 50]),\n",
       " torch.Size([100]))"
      ]
     },
     "execution_count": 5,
     "metadata": {},
     "output_type": "execute_result"
    }
   ],
   "source": [
    "X_tr, y_tr = Variable(train.X.clone()), Variable(train.y)\n",
    "X_te, y_te = Variable(test.X.clone()), Variable(test.y)\n",
    "\n",
    "X_tr.shape, y_tr.shape, X_te.shape, y_te.shape"
   ]
  },
  {
   "cell_type": "code",
   "execution_count": 6,
   "metadata": {},
   "outputs": [],
   "source": [
    "class CNN_1D_BatchNorm(modelWrapper):\n",
    "    def __init__(self, nb_hidden=50, activation=nn.ReLU):\n",
    "        torch.manual_seed(0) \n",
    "        super(CNN_1D_BatchNorm, self).__init__()\n",
    "        \n",
    "        self.activation = activation\n",
    "        \n",
    "        self.features = nn.Sequential(\n",
    "            nn.BatchNorm1d(28),\n",
    "            nn.Conv1d(28, 32, kernel_size=5, padding=2),\n",
    "            self.activation(),\n",
    "            \n",
    "            nn.BatchNorm1d(32),\n",
    "            nn.Conv1d(32, 32, kernel_size=5, padding=2),\n",
    "            self.activation(),\n",
    "            \n",
    "            nn.Dropout(0.1),\n",
    "            \n",
    "            nn.BatchNorm1d(32),\n",
    "            nn.Conv1d(32, 32, kernel_size=5, padding=2),\n",
    "            self.activation(),\n",
    "            \n",
    "            nn.Dropout(0.1),\n",
    "            \n",
    "            nn.BatchNorm1d(32),\n",
    "            nn.Conv1d(32, 32, kernel_size=5, padding=2),\n",
    "            nn.MaxPool1d(2, padding=1),\n",
    "            self.activation(),\n",
    "            \n",
    "            nn.Dropout(0.1),\n",
    "            \n",
    "            nn.BatchNorm1d(32),\n",
    "            nn.Conv1d(32, 32, kernel_size=5, padding=2),\n",
    "            nn.MaxPool1d(2),\n",
    "            self.activation(),\n",
    "            \n",
    "            nn.BatchNorm1d(32),\n",
    "        )\n",
    "        \n",
    "        self.num_features = 32*13\n",
    "        self.classifier = nn.Sequential(\n",
    "            nn.Linear(self.num_features, nb_hidden),\n",
    "            self.activation(),\n",
    "            nn.Linear(nb_hidden, 2)\n",
    "        )\n",
    "        \n",
    "        self.criterion = nn.CrossEntropyLoss()\n",
    "#         self.optimizer = Adam(self.parameters(), lr=0.0001, weight_decay=1e-1)\n",
    "        self.optimizer = optim.Adamax(self.parameters(), lr=0.001, weight_decay=1e-2)"
   ]
  },
  {
   "cell_type": "code",
   "execution_count": 7,
   "metadata": {},
   "outputs": [],
   "source": [
    "model = CNN_1D_BatchNorm(nb_hidden=250, activation=nn.PReLU)"
   ]
  },
  {
   "cell_type": "code",
   "execution_count": 8,
   "metadata": {
    "scrolled": false
   },
   "outputs": [
    {
     "name": "stdout",
     "output_type": "stream",
     "text": [
      "Epoch 0: Train loss: 4.897167801856995. Train accuracy 50.32%. Test accuracy 49.00%\n",
      "Epoch 1: Train loss: 4.475085616111755. Train accuracy 50.32%. Test accuracy 49.00%\n",
      "Epoch 2: Train loss: 4.137418061494827. Train accuracy 50.32%. Test accuracy 49.00%\n",
      "Epoch 3: Train loss: 3.783247262239456. Train accuracy 50.32%. Test accuracy 49.00%\n",
      "Epoch 4: Train loss: 3.502762198448181. Train accuracy 70.25%. Test accuracy 57.00%\n",
      "Epoch 5: Train loss: 3.1077880859375. Train accuracy 81.96%. Test accuracy 67.00%\n",
      "Epoch 6: Train loss: 2.7011975944042206. Train accuracy 83.23%. Test accuracy 75.00%\n",
      "Epoch 7: Train loss: 2.505679413676262. Train accuracy 85.13%. Test accuracy 79.00%\n",
      "Epoch 8: Train loss: 2.2265518605709076. Train accuracy 87.34%. Test accuracy 74.00%\n",
      "Epoch 9: Train loss: 2.0717523247003555. Train accuracy 85.13%. Test accuracy 78.00%\n",
      "Epoch 10: Train loss: 1.9938741326332092. Train accuracy 90.19%. Test accuracy 77.00%\n",
      "Epoch 11: Train loss: 1.6451536566019058. Train accuracy 90.51%. Test accuracy 79.00%\n",
      "Epoch 12: Train loss: 1.5760670602321625. Train accuracy 91.77%. Test accuracy 78.00%\n",
      "Epoch 13: Train loss: 1.482830986380577. Train accuracy 94.62%. Test accuracy 78.00%\n",
      "Epoch 14: Train loss: 1.3193134292960167. Train accuracy 94.94%. Test accuracy 80.00%\n",
      "Epoch 15: Train loss: 1.1971296072006226. Train accuracy 96.20%. Test accuracy 80.00%\n",
      "Epoch 16: Train loss: 1.1867113672196865. Train accuracy 94.62%. Test accuracy 80.00%\n",
      "Epoch 17: Train loss: 1.1062328815460205. Train accuracy 97.15%. Test accuracy 78.00%\n",
      "Epoch 18: Train loss: 0.8920763414353132. Train accuracy 95.57%. Test accuracy 79.00%\n",
      "Epoch 19: Train loss: 0.9233905449509621. Train accuracy 97.78%. Test accuracy 78.00%\n",
      "Epoch 20: Train loss: 0.896748460829258. Train accuracy 97.47%. Test accuracy 80.00%\n",
      "Epoch 21: Train loss: 0.7080847751349211. Train accuracy 97.15%. Test accuracy 77.00%\n",
      "Epoch 22: Train loss: 0.7636555805802345. Train accuracy 91.14%. Test accuracy 77.00%\n",
      "Epoch 23: Train loss: 0.8997793048620224. Train accuracy 98.42%. Test accuracy 79.00%\n",
      "Epoch 24: Train loss: 0.5891149966046214. Train accuracy 97.78%. Test accuracy 77.00%\n",
      "Epoch 25: Train loss: 0.6093953819945455. Train accuracy 98.73%. Test accuracy 81.00%\n",
      "Epoch 26: Train loss: 0.5373403541743755. Train accuracy 97.47%. Test accuracy 83.00%\n",
      "Epoch 27: Train loss: 0.5547733921557665. Train accuracy 98.73%. Test accuracy 82.00%\n",
      "Epoch 28: Train loss: 0.4781511314213276. Train accuracy 96.84%. Test accuracy 78.00%\n",
      "Epoch 29: Train loss: 0.49685249431058764. Train accuracy 99.68%. Test accuracy 85.00%\n",
      "Epoch 30: Train loss: 0.34602765925228596. Train accuracy 99.68%. Test accuracy 81.00%\n",
      "Epoch 31: Train loss: 0.3068028371781111. Train accuracy 100.00%. Test accuracy 83.00%\n",
      "Epoch 32: Train loss: 0.45502325147390366. Train accuracy 97.78%. Test accuracy 79.00%\n",
      "Epoch 33: Train loss: 0.31358773401007056. Train accuracy 98.10%. Test accuracy 83.00%\n",
      "Epoch 34: Train loss: 0.3022581348195672. Train accuracy 99.05%. Test accuracy 79.00%\n",
      "Epoch 35: Train loss: 0.24809318874031305. Train accuracy 99.05%. Test accuracy 79.00%\n",
      "Epoch 36: Train loss: 0.3051476310938597. Train accuracy 99.05%. Test accuracy 83.00%\n",
      "Epoch 37: Train loss: 0.26333841728046536. Train accuracy 99.37%. Test accuracy 80.00%\n",
      "Epoch 38: Train loss: 0.25916144251823425. Train accuracy 99.68%. Test accuracy 80.00%\n",
      "Epoch 39: Train loss: 0.24369812151417136. Train accuracy 99.68%. Test accuracy 79.00%\n",
      "Epoch 40: Train loss: 0.26410072948783636. Train accuracy 99.05%. Test accuracy 80.00%\n",
      "Epoch 41: Train loss: 0.2143661780282855. Train accuracy 99.68%. Test accuracy 79.00%\n",
      "Epoch 42: Train loss: 0.24833669047802687. Train accuracy 100.00%. Test accuracy 84.00%\n",
      "Epoch 43: Train loss: 0.2370238082949072. Train accuracy 100.00%. Test accuracy 83.00%\n",
      "Epoch 44: Train loss: 0.23279422707855701. Train accuracy 100.00%. Test accuracy 84.00%\n",
      "Epoch 45: Train loss: 0.22612390643917024. Train accuracy 99.37%. Test accuracy 85.00%\n",
      "Epoch 46: Train loss: 0.20949165103957057. Train accuracy 99.37%. Test accuracy 84.00%\n",
      "Epoch 47: Train loss: 0.20446325046941638. Train accuracy 99.68%. Test accuracy 83.00%\n",
      "Epoch 48: Train loss: 0.1322239653673023. Train accuracy 100.00%. Test accuracy 82.00%\n",
      "Epoch 49: Train loss: 0.12034587957896292. Train accuracy 100.00%. Test accuracy 80.00%\n",
      "Epoch 50: Train loss: 0.18290162831544876. Train accuracy 100.00%. Test accuracy 78.00%\n",
      "Epoch 51: Train loss: 0.10780258011072874. Train accuracy 99.68%. Test accuracy 81.00%\n",
      "Epoch 52: Train loss: 0.117401730036363. Train accuracy 99.68%. Test accuracy 79.00%\n",
      "Epoch 53: Train loss: 0.10932457633316517. Train accuracy 100.00%. Test accuracy 81.00%\n",
      "Epoch 54: Train loss: 0.16004752134904265. Train accuracy 99.37%. Test accuracy 78.00%\n",
      "Epoch 55: Train loss: 0.10672747110947967. Train accuracy 99.37%. Test accuracy 77.00%\n",
      "Epoch 56: Train loss: 0.13494909333530813. Train accuracy 99.37%. Test accuracy 80.00%\n",
      "Epoch 57: Train loss: 0.16228151065297425. Train accuracy 98.73%. Test accuracy 80.00%\n",
      "Epoch 58: Train loss: 0.12230051681399345. Train accuracy 99.68%. Test accuracy 78.00%\n",
      "Epoch 59: Train loss: 0.09538921574130654. Train accuracy 99.68%. Test accuracy 80.00%\n",
      "Epoch 60: Train loss: 0.0847126767039299. Train accuracy 100.00%. Test accuracy 83.00%\n",
      "Epoch 61: Train loss: 0.08406103169545531. Train accuracy 100.00%. Test accuracy 79.00%\n",
      "Epoch 62: Train loss: 0.11522417573723942. Train accuracy 99.68%. Test accuracy 80.00%\n",
      "Epoch 63: Train loss: 0.10214176075533032. Train accuracy 100.00%. Test accuracy 79.00%\n",
      "Epoch 64: Train loss: 0.09514443180523813. Train accuracy 100.00%. Test accuracy 83.00%\n",
      "Epoch 65: Train loss: 0.08333482872694731. Train accuracy 100.00%. Test accuracy 82.00%\n",
      "Epoch 66: Train loss: 0.10274015739560127. Train accuracy 99.37%. Test accuracy 80.00%\n",
      "Epoch 67: Train loss: 0.09833922376856208. Train accuracy 100.00%. Test accuracy 79.00%\n",
      "Epoch 68: Train loss: 0.09567768266424537. Train accuracy 99.37%. Test accuracy 78.00%\n",
      "Epoch 69: Train loss: 0.10808788170106709. Train accuracy 100.00%. Test accuracy 83.00%\n",
      "Epoch 70: Train loss: 0.10631811106577516. Train accuracy 99.37%. Test accuracy 81.00%\n",
      "Epoch 71: Train loss: 0.09890448953956366. Train accuracy 99.68%. Test accuracy 83.00%\n",
      "Epoch 72: Train loss: 0.1245708572678268. Train accuracy 99.05%. Test accuracy 82.00%\n",
      "Epoch 73: Train loss: 0.09828269737772644. Train accuracy 99.05%. Test accuracy 76.00%\n",
      "Epoch 74: Train loss: 0.126581319142133. Train accuracy 99.37%. Test accuracy 80.00%\n",
      "Epoch 75: Train loss: 0.17933360254392028. Train accuracy 99.37%. Test accuracy 82.00%\n",
      "Epoch 76: Train loss: 0.10462252097204328. Train accuracy 99.37%. Test accuracy 83.00%\n",
      "Epoch 77: Train loss: 0.08506361895706505. Train accuracy 99.05%. Test accuracy 82.00%\n",
      "Epoch 78: Train loss: 0.16924566635861993. Train accuracy 98.42%. Test accuracy 82.00%\n",
      "Epoch 79: Train loss: 0.18084664223715663. Train accuracy 99.68%. Test accuracy 80.00%\n",
      "Epoch 80: Train loss: 0.10272482456639409. Train accuracy 98.73%. Test accuracy 82.00%\n",
      "Epoch 81: Train loss: 0.10622964962385595. Train accuracy 100.00%. Test accuracy 78.00%\n",
      "Epoch 82: Train loss: 0.08585591311566532. Train accuracy 99.37%. Test accuracy 82.00%\n",
      "Epoch 83: Train loss: 0.08783728815615177. Train accuracy 99.68%. Test accuracy 82.00%\n",
      "Epoch 84: Train loss: 0.08593588415533304. Train accuracy 99.68%. Test accuracy 84.00%\n",
      "Epoch 85: Train loss: 0.06720465887337923. Train accuracy 99.37%. Test accuracy 83.00%\n",
      "Epoch 86: Train loss: 0.06494833342730999. Train accuracy 100.00%. Test accuracy 83.00%\n",
      "Epoch 87: Train loss: 0.07374214800074697. Train accuracy 99.68%. Test accuracy 80.00%\n",
      "Epoch 88: Train loss: 0.07083758106455207. Train accuracy 99.68%. Test accuracy 81.00%\n",
      "Epoch 89: Train loss: 0.08068005694076419. Train accuracy 100.00%. Test accuracy 80.00%\n",
      "Epoch 90: Train loss: 0.08431752678006887. Train accuracy 100.00%. Test accuracy 83.00%\n",
      "Epoch 91: Train loss: 0.12077682767994702. Train accuracy 98.73%. Test accuracy 78.00%\n",
      "Epoch 92: Train loss: 0.1101219579577446. Train accuracy 100.00%. Test accuracy 81.00%\n",
      "Epoch 93: Train loss: 0.11170104425400496. Train accuracy 99.37%. Test accuracy 81.00%\n",
      "Epoch 94: Train loss: 0.08382283663377166. Train accuracy 99.37%. Test accuracy 82.00%\n"
     ]
    },
    {
     "name": "stdout",
     "output_type": "stream",
     "text": [
      "Epoch 95: Train loss: 0.04881105991080403. Train accuracy 99.68%. Test accuracy 83.00%\n",
      "Epoch 96: Train loss: 0.08783674729056656. Train accuracy 100.00%. Test accuracy 80.00%\n",
      "Epoch 97: Train loss: 0.10056914947926998. Train accuracy 99.68%. Test accuracy 84.00%\n",
      "Epoch 98: Train loss: 0.08696066588163376. Train accuracy 99.37%. Test accuracy 82.00%\n",
      "Epoch 99: Train loss: 0.07340648770332336. Train accuracy 99.37%. Test accuracy 81.00%\n"
     ]
    },
    {
     "data": {
      "text/plain": [
       "CNN_1D_BatchNorm(\n",
       "  (features): Sequential(\n",
       "    (0): BatchNorm1d(28, eps=1e-05, momentum=0.1, affine=True)\n",
       "    (1): Conv1d(28, 32, kernel_size=(5,), stride=(1,), padding=(2,))\n",
       "    (2): PReLU(num_parameters=1)\n",
       "    (3): BatchNorm1d(32, eps=1e-05, momentum=0.1, affine=True)\n",
       "    (4): Conv1d(32, 32, kernel_size=(5,), stride=(1,), padding=(2,))\n",
       "    (5): PReLU(num_parameters=1)\n",
       "    (6): Dropout(p=0.1)\n",
       "    (7): BatchNorm1d(32, eps=1e-05, momentum=0.1, affine=True)\n",
       "    (8): Conv1d(32, 32, kernel_size=(5,), stride=(1,), padding=(2,))\n",
       "    (9): PReLU(num_parameters=1)\n",
       "    (10): Dropout(p=0.1)\n",
       "    (11): BatchNorm1d(32, eps=1e-05, momentum=0.1, affine=True)\n",
       "    (12): Conv1d(32, 32, kernel_size=(5,), stride=(1,), padding=(2,))\n",
       "    (13): MaxPool1d(kernel_size=2, stride=2, padding=1, dilation=1, ceil_mode=False)\n",
       "    (14): PReLU(num_parameters=1)\n",
       "    (15): Dropout(p=0.1)\n",
       "    (16): BatchNorm1d(32, eps=1e-05, momentum=0.1, affine=True)\n",
       "    (17): Conv1d(32, 32, kernel_size=(5,), stride=(1,), padding=(2,))\n",
       "    (18): MaxPool1d(kernel_size=2, stride=2, padding=0, dilation=1, ceil_mode=False)\n",
       "    (19): PReLU(num_parameters=1)\n",
       "    (20): BatchNorm1d(32, eps=1e-05, momentum=0.1, affine=True)\n",
       "  )\n",
       "  (classifier): Sequential(\n",
       "    (0): Linear(in_features=416, out_features=250, bias=True)\n",
       "    (1): PReLU(num_parameters=1)\n",
       "    (2): Linear(in_features=250, out_features=2, bias=True)\n",
       "  )\n",
       "  (criterion): CrossEntropyLoss(\n",
       "  )\n",
       ")"
      ]
     },
     "execution_count": 8,
     "metadata": {},
     "output_type": "execute_result"
    }
   ],
   "source": [
    "model.fit(X_tr, y_tr, X_test=X_te, y_test=y_te, epochs=100, batch_size=50, save_best_model=True)"
   ]
  },
  {
   "cell_type": "code",
   "execution_count": 9,
   "metadata": {},
   "outputs": [
    {
     "data": {
      "text/plain": [
       "(0.81, 0.83)"
      ]
     },
     "execution_count": 9,
     "metadata": {},
     "output_type": "execute_result"
    }
   ],
   "source": [
    "model.score(X_te, y_te), model.load_model().score(X_te, y_te)"
   ]
  },
  {
   "cell_type": "markdown",
   "metadata": {},
   "source": [
    "## 1D dialated convolution + Batch norm"
   ]
  },
  {
   "cell_type": "code",
   "execution_count": 35,
   "metadata": {},
   "outputs": [
    {
     "data": {
      "text/plain": [
       "(torch.Size([316, 28, 50]),\n",
       " torch.Size([316]),\n",
       " torch.Size([100, 28, 50]),\n",
       " torch.Size([100]))"
      ]
     },
     "execution_count": 35,
     "metadata": {},
     "output_type": "execute_result"
    }
   ],
   "source": [
    "X_tr, y_tr = Variable(train.X.clone()), Variable(train.y)\n",
    "X_te, y_te = Variable(test.X.clone()), Variable(test.y)\n",
    "\n",
    "X_tr.shape, y_tr.shape, X_te.shape, y_te.shape"
   ]
  },
  {
   "cell_type": "code",
   "execution_count": 172,
   "metadata": {},
   "outputs": [],
   "source": [
    "class CNN_1D_BatchNorm_Dial(modelWrapper):\n",
    "    def __init__(self, nb_hidden=50, activation=nn.ReLU):\n",
    "        torch.manual_seed(0) \n",
    "        super(CNN_1D_BatchNorm_Dial, self).__init__()\n",
    "        \n",
    "        self.activation = activation\n",
    "        self.nb_hidden = nb_hidden\n",
    "        \n",
    "        n_filters = 32\n",
    "        self.features = nn.Sequential(\n",
    "            nn.BatchNorm1d(28),\n",
    "            nn.Conv1d(28, n_filters, kernel_size=3, padding=2, dilation=2),\n",
    "            self.activation(),\n",
    "            \n",
    "            nn.Dropout(p=0.1),\n",
    "            \n",
    "            nn.BatchNorm1d(n_filters),\n",
    "            nn.Conv1d(n_filters, n_filters, kernel_size=3, padding=2, dilation=2),\n",
    "            self.activation(),\n",
    "            \n",
    "            nn.BatchNorm1d(n_filters),\n",
    "            nn.Conv1d(n_filters, n_filters, kernel_size=5, padding=2),\n",
    "            self.activation(),\n",
    "            \n",
    "            nn.Dropout(p=0.1),\n",
    "            \n",
    "            nn.BatchNorm1d(n_filters),\n",
    "            nn.Conv1d(n_filters, n_filters, kernel_size=5, padding=4, dilation=2),\n",
    "            self.activation(),\n",
    "            \n",
    "            nn.Dropout(p=0.1),\n",
    "\n",
    "            nn.BatchNorm1d(n_filters),\n",
    "            nn.Conv1d(n_filters, 16, kernel_size=3, padding=1),\n",
    "            self.activation()\n",
    "        )\n",
    "        \n",
    "        self.num_features = 16*50\n",
    "        \n",
    "        self.classifier = nn.Sequential(\n",
    "            nn.Linear(self.num_features, nb_hidden),\n",
    "            self.activation(),  \n",
    "    \n",
    "            # (1, nb_hidden)\n",
    "            nn.Linear(nb_hidden, 2)\n",
    "        )\n",
    "        \n",
    "        self.criterion = nn.CrossEntropyLoss()\n",
    "        self.optimizer = Adam(self.parameters(), lr=0.001, weight_decay=1e-1)\n",
    "#         self.optimizer = optim.Adagrad(self.parameters())\n",
    "#         self.optimizer = optim.Adamax(self.parameters())\n",
    "#         self.optimizer = optim.ASGD(self.parameters())"
   ]
  },
  {
   "cell_type": "code",
   "execution_count": 179,
   "metadata": {},
   "outputs": [],
   "source": [
    "model = CNN_1D_BatchNorm_Dial(nb_hidden=50, activation=nn.ReLU)"
   ]
  },
  {
   "cell_type": "code",
   "execution_count": 182,
   "metadata": {},
   "outputs": [
    {
     "name": "stdout",
     "output_type": "stream",
     "text": [
      "Epoch 0: Train loss: 0.4014696665108204. Train accuracy 96.84%. Test accuracy 78.00%\n",
      "Epoch 1: Train loss: 0.4478878416121006. Train accuracy 95.25%. Test accuracy 78.00%\n",
      "Epoch 2: Train loss: 0.4421656168997288. Train accuracy 97.78%. Test accuracy 78.00%\n",
      "Epoch 3: Train loss: 0.5841380655765533. Train accuracy 94.30%. Test accuracy 83.00%\n",
      "Epoch 4: Train loss: 0.8554799966514111. Train accuracy 93.99%. Test accuracy 72.00%\n",
      "Epoch 5: Train loss: 0.7371013388037682. Train accuracy 94.30%. Test accuracy 76.00%\n",
      "Epoch 6: Train loss: 0.7103092446923256. Train accuracy 93.04%. Test accuracy 69.00%\n",
      "Epoch 7: Train loss: 0.6791842952370644. Train accuracy 93.35%. Test accuracy 74.00%\n",
      "Epoch 8: Train loss: 0.7118119411170483. Train accuracy 93.99%. Test accuracy 68.00%\n",
      "Epoch 9: Train loss: 0.8483623340725899. Train accuracy 89.87%. Test accuracy 78.00%\n",
      "Epoch 10: Train loss: 0.7330001965165138. Train accuracy 95.89%. Test accuracy 68.00%\n",
      "Epoch 11: Train loss: 0.9778911098837852. Train accuracy 94.62%. Test accuracy 71.00%\n",
      "Epoch 12: Train loss: 0.764783188700676. Train accuracy 93.67%. Test accuracy 77.00%\n",
      "Epoch 13: Train loss: 0.8022929951548576. Train accuracy 93.99%. Test accuracy 76.00%\n",
      "Epoch 14: Train loss: 0.7457943335175514. Train accuracy 95.25%. Test accuracy 77.00%\n",
      "Epoch 15: Train loss: 0.7353012003004551. Train accuracy 94.30%. Test accuracy 77.00%\n",
      "Epoch 16: Train loss: 0.7837948054075241. Train accuracy 94.62%. Test accuracy 74.00%\n",
      "Epoch 17: Train loss: 0.7656443119049072. Train accuracy 93.35%. Test accuracy 78.00%\n",
      "Epoch 18: Train loss: 0.6372103728353977. Train accuracy 97.78%. Test accuracy 73.00%\n",
      "Epoch 19: Train loss: 0.5798203945159912. Train accuracy 97.47%. Test accuracy 77.00%\n",
      "Epoch 20: Train loss: 0.4172235578298569. Train accuracy 94.94%. Test accuracy 77.00%\n",
      "Epoch 21: Train loss: 0.40139859914779663. Train accuracy 98.42%. Test accuracy 80.00%\n",
      "Epoch 22: Train loss: 0.29912005737423897. Train accuracy 97.15%. Test accuracy 76.00%\n",
      "Epoch 23: Train loss: 0.3317418750375509. Train accuracy 97.47%. Test accuracy 77.00%\n",
      "Epoch 24: Train loss: 0.38420376740396023. Train accuracy 98.10%. Test accuracy 78.00%\n"
     ]
    },
    {
     "data": {
      "text/plain": [
       "CNN_1D_BatchNorm(\n",
       "  (features): Sequential(\n",
       "    (0): BatchNorm1d(28, eps=1e-05, momentum=0.1, affine=True)\n",
       "    (1): Conv1d(28, 32, kernel_size=(3,), stride=(1,), padding=(2,), dilation=(2,))\n",
       "    (2): ReLU()\n",
       "    (3): Dropout(p=0.1)\n",
       "    (4): BatchNorm1d(32, eps=1e-05, momentum=0.1, affine=True)\n",
       "    (5): Conv1d(32, 32, kernel_size=(3,), stride=(1,), padding=(2,), dilation=(2,))\n",
       "    (6): ReLU()\n",
       "    (7): BatchNorm1d(32, eps=1e-05, momentum=0.1, affine=True)\n",
       "    (8): Conv1d(32, 32, kernel_size=(5,), stride=(1,), padding=(2,))\n",
       "    (9): ReLU()\n",
       "    (10): Dropout(p=0.1)\n",
       "    (11): BatchNorm1d(32, eps=1e-05, momentum=0.1, affine=True)\n",
       "    (12): Conv1d(32, 32, kernel_size=(5,), stride=(1,), padding=(4,), dilation=(2,))\n",
       "    (13): ReLU()\n",
       "    (14): Dropout(p=0.1)\n",
       "    (15): BatchNorm1d(32, eps=1e-05, momentum=0.1, affine=True)\n",
       "    (16): Conv1d(32, 16, kernel_size=(3,), stride=(1,), padding=(1,))\n",
       "    (17): ReLU()\n",
       "  )\n",
       "  (classifier): Sequential(\n",
       "    (0): Linear(in_features=800, out_features=50, bias=True)\n",
       "    (1): ReLU()\n",
       "    (2): Linear(in_features=50, out_features=2, bias=True)\n",
       "  )\n",
       "  (criterion): CrossEntropyLoss(\n",
       "  )\n",
       ")"
      ]
     },
     "execution_count": 182,
     "metadata": {},
     "output_type": "execute_result"
    }
   ],
   "source": [
    "model.fit(X_tr, y_tr, X_test=X_te, y_test=y_te, epochs=25, batch_size=50)"
   ]
  },
  {
   "cell_type": "markdown",
   "metadata": {},
   "source": [
    "### 1D convolution + Batch norm (bigger)"
   ]
  },
  {
   "cell_type": "code",
   "execution_count": null,
   "metadata": {},
   "outputs": [],
   "source": [
    "X_tr, y_tr = Variable(train.X.clone()), Variable(train.y)\n",
    "X_te, y_te = Variable(test.X.clone()), Variable(test.y)\n",
    "\n",
    "X_tr.shape, y_tr.shape, X_te.shape, y_te.shape"
   ]
  },
  {
   "cell_type": "code",
   "execution_count": 32,
   "metadata": {},
   "outputs": [],
   "source": [
    "class CNN_1D_BatchNorm_Big(modelWrapper):\n",
    "    def __init__(self, nb_hidden=50, activation=nn.ReLU):\n",
    "        self.nb_hidden = nb_hidden\n",
    "        super(CNN_1D_BatchNorm_Big, self).__init__()\n",
    "        \n",
    "        self.activation = activation\n",
    "        \n",
    "        self.features = nn.Sequential(\n",
    "            nn.BatchNorm1d(28),\n",
    "            nn.Conv1d(28, 32, kernel_size=5, padding=2),\n",
    "            self.activation(),\n",
    "            \n",
    "            nn.BatchNorm1d(32),\n",
    "            nn.Conv1d(32, 64, kernel_size=5, padding=2),\n",
    "            self.activation(),\n",
    "            \n",
    "            nn.BatchNorm1d(64),\n",
    "            nn.Conv1d(64, 64, kernel_size=5, padding=2),\n",
    "            nn.MaxPool1d(2, padding=1),\n",
    "            self.activation(),\n",
    "            \n",
    "            nn.BatchNorm1d(64),\n",
    "            nn.Conv1d(64, 32, kernel_size=5, padding=2),\n",
    "            nn.MaxPool1d(2, padding=1),\n",
    "            self.activation(),\n",
    "            \n",
    "            nn.BatchNorm1d(32),\n",
    "            nn.Conv1d(32, 32, kernel_size=5, padding=2),\n",
    "            self.activation(),\n",
    "            \n",
    "            nn.BatchNorm1d(32),\n",
    "            nn.Conv1d(32, 16, kernel_size=5, padding=2),\n",
    "            self.activation(),\n",
    "            \n",
    "            nn.BatchNorm1d(16),\n",
    "        )\n",
    "        \n",
    "        self.num_features = 16*14\n",
    "        self.classifier = nn.Sequential(\n",
    "            nn.Linear(self.num_features, nb_hidden),\n",
    "            self.activation(),\n",
    "            nn.Linear(nb_hidden, 2)\n",
    "        )\n",
    "\n",
    "        self.criterion = nn.CrossEntropyLoss()\n",
    "        self.optimizer = Adam(self.parameters(), lr=0.001, weight_decay=1e-1)"
   ]
  },
  {
   "cell_type": "code",
   "execution_count": 33,
   "metadata": {},
   "outputs": [],
   "source": [
    "model = CNN_1D_BatchNorm_Big(activation=nn.PReLU)"
   ]
  },
  {
   "cell_type": "code",
   "execution_count": 34,
   "metadata": {},
   "outputs": [
    {
     "name": "stdout",
     "output_type": "stream",
     "text": [
      "Epoch 0: Train loss: 11.170361161231995. Train accuracy 50.32%. Test accuracy 49.00%\n",
      "Epoch 1: Train loss: 10.62324196100235. Train accuracy 50.32%. Test accuracy 49.00%\n",
      "Epoch 2: Train loss: 10.209944903850555. Train accuracy 50.63%. Test accuracy 49.00%\n",
      "Epoch 3: Train loss: 9.325203478336334. Train accuracy 69.94%. Test accuracy 60.00%\n",
      "Epoch 4: Train loss: 8.580628991127014. Train accuracy 71.20%. Test accuracy 62.00%\n",
      "Epoch 5: Train loss: 8.552346497774124. Train accuracy 81.01%. Test accuracy 77.00%\n",
      "Epoch 6: Train loss: 7.921482741832733. Train accuracy 73.10%. Test accuracy 76.00%\n",
      "Epoch 7: Train loss: 6.992616504430771. Train accuracy 84.49%. Test accuracy 77.00%\n",
      "Epoch 8: Train loss: 5.614961341023445. Train accuracy 88.92%. Test accuracy 75.00%\n",
      "Epoch 9: Train loss: 5.244991287589073. Train accuracy 86.08%. Test accuracy 74.00%\n",
      "Epoch 10: Train loss: 5.9334060698747635. Train accuracy 79.43%. Test accuracy 75.00%\n",
      "Epoch 11: Train loss: 5.710421040654182. Train accuracy 83.54%. Test accuracy 76.00%\n",
      "Epoch 12: Train loss: 5.103396892547607. Train accuracy 79.75%. Test accuracy 68.00%\n",
      "Epoch 13: Train loss: 5.744888782501221. Train accuracy 88.61%. Test accuracy 77.00%\n",
      "Epoch 14: Train loss: 4.538559049367905. Train accuracy 90.51%. Test accuracy 68.00%\n",
      "Epoch 15: Train loss: 4.237046837806702. Train accuracy 88.61%. Test accuracy 77.00%\n",
      "Epoch 16: Train loss: 4.034591853618622. Train accuracy 86.71%. Test accuracy 78.00%\n",
      "Epoch 17: Train loss: 3.477476119995117. Train accuracy 87.66%. Test accuracy 64.00%\n",
      "Epoch 18: Train loss: 3.6481927931308746. Train accuracy 87.34%. Test accuracy 74.00%\n",
      "Epoch 19: Train loss: 3.892650783061981. Train accuracy 87.97%. Test accuracy 68.00%\n",
      "Epoch 20: Train loss: 3.9476601630449295. Train accuracy 89.24%. Test accuracy 77.00%\n",
      "Epoch 21: Train loss: 3.7158345580101013. Train accuracy 89.87%. Test accuracy 78.00%\n"
     ]
    },
    {
     "ename": "KeyboardInterrupt",
     "evalue": "",
     "output_type": "error",
     "traceback": [
      "\u001b[0;31m---------------------------------------------------------------------------\u001b[0m",
      "\u001b[0;31mKeyboardInterrupt\u001b[0m                         Traceback (most recent call last)",
      "\u001b[0;32m<ipython-input-34-9b25c4a34b4a>\u001b[0m in \u001b[0;36m<module>\u001b[0;34m()\u001b[0m\n\u001b[0;32m----> 1\u001b[0;31m \u001b[0mmodel\u001b[0m\u001b[0;34m.\u001b[0m\u001b[0mfit\u001b[0m\u001b[0;34m(\u001b[0m\u001b[0mX_tr\u001b[0m\u001b[0;34m,\u001b[0m \u001b[0my_tr\u001b[0m\u001b[0;34m,\u001b[0m \u001b[0mX_test\u001b[0m\u001b[0;34m=\u001b[0m\u001b[0mX_te\u001b[0m\u001b[0;34m,\u001b[0m \u001b[0my_test\u001b[0m\u001b[0;34m=\u001b[0m\u001b[0my_te\u001b[0m\u001b[0;34m,\u001b[0m \u001b[0mepochs\u001b[0m\u001b[0;34m=\u001b[0m\u001b[0;36m25\u001b[0m\u001b[0;34m)\u001b[0m\u001b[0;34m\u001b[0m\u001b[0m\n\u001b[0m",
      "\u001b[0;32m/media/niccolo/Backup/Materiale_didattico/Deep learning/mini-projects/mini-project1/modelWrapper.py\u001b[0m in \u001b[0;36mfit\u001b[0;34m(self, X_train, y_train, X_test, y_test, batch_size, epochs, verbose, save_best_model)\u001b[0m\n\u001b[1;32m    103\u001b[0m                         \u001b[0;34m\"Epoch \"\u001b[0m \u001b[0;34m+\u001b[0m \u001b[0mstr\u001b[0m\u001b[0;34m(\u001b[0m\u001b[0me\u001b[0m\u001b[0;34m)\u001b[0m \u001b[0;34m+\u001b[0m \u001b[0;34m\": \"\u001b[0m \u001b[0;34m+\u001b[0m\u001b[0;34m\u001b[0m\u001b[0m\n\u001b[1;32m    104\u001b[0m                         \u001b[0;34m\"Train loss:\"\u001b[0m\u001b[0;34m,\u001b[0m \u001b[0mstr\u001b[0m\u001b[0;34m(\u001b[0m\u001b[0msum_loss_train\u001b[0m\u001b[0;34m)\u001b[0m \u001b[0;34m+\u001b[0m \u001b[0;34m\". \"\u001b[0m \u001b[0;34m+\u001b[0m\u001b[0;34m\u001b[0m\u001b[0m\n\u001b[0;32m--> 105\u001b[0;31m                         \u001b[0;34m'Train accuracy {:0.2f}%'\u001b[0m\u001b[0;34m.\u001b[0m\u001b[0mformat\u001b[0m\u001b[0;34m(\u001b[0m\u001b[0mself\u001b[0m\u001b[0;34m.\u001b[0m\u001b[0mscore\u001b[0m\u001b[0;34m(\u001b[0m\u001b[0mX_train\u001b[0m\u001b[0;34m,\u001b[0m \u001b[0my_train\u001b[0m\u001b[0;34m)\u001b[0m\u001b[0;34m*\u001b[0m\u001b[0;36m100\u001b[0m\u001b[0;34m)\u001b[0m \u001b[0;34m+\u001b[0m \u001b[0;34m\". \"\u001b[0m \u001b[0;34m+\u001b[0m\u001b[0;34m\u001b[0m\u001b[0m\n\u001b[0m\u001b[1;32m    106\u001b[0m                         ('Test accuracy {:0.2f}%'.format(self.score(X_test, y_test)*100) if compute_test_err else \"\"))\n\u001b[1;32m    107\u001b[0m         \u001b[0;32mfinally\u001b[0m\u001b[0;34m:\u001b[0m\u001b[0;34m\u001b[0m\u001b[0m\n",
      "\u001b[0;32m/media/niccolo/Backup/Materiale_didattico/Deep learning/mini-projects/mini-project1/modelWrapper.py\u001b[0m in \u001b[0;36mscore\u001b[0;34m(self, X, y)\u001b[0m\n\u001b[1;32m    137\u001b[0m \u001b[0;34m\u001b[0m\u001b[0m\n\u001b[1;32m    138\u001b[0m         \u001b[0mtrue_classes\u001b[0m \u001b[0;34m=\u001b[0m \u001b[0my\u001b[0m\u001b[0;34m.\u001b[0m\u001b[0mdata\u001b[0m\u001b[0;34m.\u001b[0m\u001b[0mmax\u001b[0m\u001b[0;34m(\u001b[0m\u001b[0;36m1\u001b[0m\u001b[0;34m)\u001b[0m\u001b[0;34m[\u001b[0m\u001b[0;36m1\u001b[0m\u001b[0;34m]\u001b[0m \u001b[0;32mif\u001b[0m \u001b[0my\u001b[0m\u001b[0;34m.\u001b[0m\u001b[0mdim\u001b[0m\u001b[0;34m(\u001b[0m\u001b[0;34m)\u001b[0m \u001b[0;34m==\u001b[0m \u001b[0;36m2\u001b[0m \u001b[0;32melse\u001b[0m \u001b[0my\u001b[0m\u001b[0;34m.\u001b[0m\u001b[0mdata\u001b[0m \u001b[0;31m# if one-hot encoding then extract the class\u001b[0m\u001b[0;34m\u001b[0m\u001b[0m\n\u001b[0;32m--> 139\u001b[0;31m         \u001b[0mscore\u001b[0m \u001b[0;34m=\u001b[0m \u001b[0;34m(\u001b[0m\u001b[0mself\u001b[0m\u001b[0;34m.\u001b[0m\u001b[0mpredict\u001b[0m\u001b[0;34m(\u001b[0m\u001b[0mX\u001b[0m\u001b[0;34m)\u001b[0m\u001b[0;34m==\u001b[0m\u001b[0mtrue_classes\u001b[0m\u001b[0;34m)\u001b[0m\u001b[0;34m.\u001b[0m\u001b[0msum\u001b[0m\u001b[0;34m(\u001b[0m\u001b[0;34m)\u001b[0m\u001b[0;34m/\u001b[0m\u001b[0mX\u001b[0m\u001b[0;34m.\u001b[0m\u001b[0mshape\u001b[0m\u001b[0;34m[\u001b[0m\u001b[0;36m0\u001b[0m\u001b[0;34m]\u001b[0m\u001b[0;34m\u001b[0m\u001b[0m\n\u001b[0m\u001b[1;32m    140\u001b[0m \u001b[0;34m\u001b[0m\u001b[0m\n\u001b[1;32m    141\u001b[0m         \u001b[0mself\u001b[0m\u001b[0;34m.\u001b[0m\u001b[0mtrain\u001b[0m\u001b[0;34m(\u001b[0m\u001b[0;34m)\u001b[0m\u001b[0;34m\u001b[0m\u001b[0m\n",
      "\u001b[0;32m/media/niccolo/Backup/Materiale_didattico/Deep learning/mini-projects/mini-project1/modelWrapper.py\u001b[0m in \u001b[0;36mpredict\u001b[0;34m(self, X)\u001b[0m\n\u001b[1;32m    127\u001b[0m         \u001b[0mself\u001b[0m\u001b[0;34m.\u001b[0m\u001b[0meval\u001b[0m\u001b[0;34m(\u001b[0m\u001b[0;34m)\u001b[0m\u001b[0;34m\u001b[0m\u001b[0m\n\u001b[1;32m    128\u001b[0m \u001b[0;34m\u001b[0m\u001b[0m\n\u001b[0;32m--> 129\u001b[0;31m         \u001b[0mpredictions\u001b[0m \u001b[0;34m=\u001b[0m \u001b[0mself\u001b[0m\u001b[0;34m(\u001b[0m\u001b[0mX\u001b[0m\u001b[0;34m)\u001b[0m\u001b[0;34m.\u001b[0m\u001b[0mdata\u001b[0m\u001b[0;34m.\u001b[0m\u001b[0mmax\u001b[0m\u001b[0;34m(\u001b[0m\u001b[0;36m1\u001b[0m\u001b[0;34m)\u001b[0m\u001b[0;34m[\u001b[0m\u001b[0;36m1\u001b[0m\u001b[0;34m]\u001b[0m\u001b[0;34m\u001b[0m\u001b[0m\n\u001b[0m\u001b[1;32m    130\u001b[0m \u001b[0;34m\u001b[0m\u001b[0m\n\u001b[1;32m    131\u001b[0m         \u001b[0mself\u001b[0m\u001b[0;34m.\u001b[0m\u001b[0mtrain\u001b[0m\u001b[0;34m(\u001b[0m\u001b[0;34m)\u001b[0m\u001b[0;34m\u001b[0m\u001b[0m\n",
      "\u001b[0;32m~/anaconda3/envs/ada/lib/python3.6/site-packages/torch/nn/modules/module.py\u001b[0m in \u001b[0;36m__call__\u001b[0;34m(self, *input, **kwargs)\u001b[0m\n\u001b[1;32m    355\u001b[0m             \u001b[0mresult\u001b[0m \u001b[0;34m=\u001b[0m \u001b[0mself\u001b[0m\u001b[0;34m.\u001b[0m\u001b[0m_slow_forward\u001b[0m\u001b[0;34m(\u001b[0m\u001b[0;34m*\u001b[0m\u001b[0minput\u001b[0m\u001b[0;34m,\u001b[0m \u001b[0;34m**\u001b[0m\u001b[0mkwargs\u001b[0m\u001b[0;34m)\u001b[0m\u001b[0;34m\u001b[0m\u001b[0m\n\u001b[1;32m    356\u001b[0m         \u001b[0;32melse\u001b[0m\u001b[0;34m:\u001b[0m\u001b[0;34m\u001b[0m\u001b[0m\n\u001b[0;32m--> 357\u001b[0;31m             \u001b[0mresult\u001b[0m \u001b[0;34m=\u001b[0m \u001b[0mself\u001b[0m\u001b[0;34m.\u001b[0m\u001b[0mforward\u001b[0m\u001b[0;34m(\u001b[0m\u001b[0;34m*\u001b[0m\u001b[0minput\u001b[0m\u001b[0;34m,\u001b[0m \u001b[0;34m**\u001b[0m\u001b[0mkwargs\u001b[0m\u001b[0;34m)\u001b[0m\u001b[0;34m\u001b[0m\u001b[0m\n\u001b[0m\u001b[1;32m    358\u001b[0m         \u001b[0;32mfor\u001b[0m \u001b[0mhook\u001b[0m \u001b[0;32min\u001b[0m \u001b[0mself\u001b[0m\u001b[0;34m.\u001b[0m\u001b[0m_forward_hooks\u001b[0m\u001b[0;34m.\u001b[0m\u001b[0mvalues\u001b[0m\u001b[0;34m(\u001b[0m\u001b[0;34m)\u001b[0m\u001b[0;34m:\u001b[0m\u001b[0;34m\u001b[0m\u001b[0m\n\u001b[1;32m    359\u001b[0m             \u001b[0mhook_result\u001b[0m \u001b[0;34m=\u001b[0m \u001b[0mhook\u001b[0m\u001b[0;34m(\u001b[0m\u001b[0mself\u001b[0m\u001b[0;34m,\u001b[0m \u001b[0minput\u001b[0m\u001b[0;34m,\u001b[0m \u001b[0mresult\u001b[0m\u001b[0;34m)\u001b[0m\u001b[0;34m\u001b[0m\u001b[0m\n",
      "\u001b[0;32m/media/niccolo/Backup/Materiale_didattico/Deep learning/mini-projects/mini-project1/modelWrapper.py\u001b[0m in \u001b[0;36mforward\u001b[0;34m(self, x)\u001b[0m\n\u001b[1;32m    145\u001b[0m         \u001b[0;34m\"\"\" Do the forward pass. \"\"\"\u001b[0m\u001b[0;34m\u001b[0m\u001b[0m\n\u001b[1;32m    146\u001b[0m \u001b[0;34m\u001b[0m\u001b[0m\n\u001b[0;32m--> 147\u001b[0;31m         \u001b[0mx\u001b[0m \u001b[0;34m=\u001b[0m \u001b[0mself\u001b[0m\u001b[0;34m.\u001b[0m\u001b[0mfeatures\u001b[0m\u001b[0;34m(\u001b[0m\u001b[0mx\u001b[0m\u001b[0;34m)\u001b[0m\u001b[0;34m\u001b[0m\u001b[0m\n\u001b[0m\u001b[1;32m    148\u001b[0m \u001b[0;34m\u001b[0m\u001b[0m\n\u001b[1;32m    149\u001b[0m         \u001b[0mx\u001b[0m \u001b[0;34m=\u001b[0m \u001b[0mx\u001b[0m\u001b[0;34m.\u001b[0m\u001b[0mview\u001b[0m\u001b[0;34m(\u001b[0m\u001b[0;34m-\u001b[0m\u001b[0;36m1\u001b[0m\u001b[0;34m,\u001b[0m \u001b[0mself\u001b[0m\u001b[0;34m.\u001b[0m\u001b[0mnum_features\u001b[0m\u001b[0;34m)\u001b[0m\u001b[0;34m\u001b[0m\u001b[0m\n",
      "\u001b[0;32m~/anaconda3/envs/ada/lib/python3.6/site-packages/torch/nn/modules/module.py\u001b[0m in \u001b[0;36m__call__\u001b[0;34m(self, *input, **kwargs)\u001b[0m\n\u001b[1;32m    355\u001b[0m             \u001b[0mresult\u001b[0m \u001b[0;34m=\u001b[0m \u001b[0mself\u001b[0m\u001b[0;34m.\u001b[0m\u001b[0m_slow_forward\u001b[0m\u001b[0;34m(\u001b[0m\u001b[0;34m*\u001b[0m\u001b[0minput\u001b[0m\u001b[0;34m,\u001b[0m \u001b[0;34m**\u001b[0m\u001b[0mkwargs\u001b[0m\u001b[0;34m)\u001b[0m\u001b[0;34m\u001b[0m\u001b[0m\n\u001b[1;32m    356\u001b[0m         \u001b[0;32melse\u001b[0m\u001b[0;34m:\u001b[0m\u001b[0;34m\u001b[0m\u001b[0m\n\u001b[0;32m--> 357\u001b[0;31m             \u001b[0mresult\u001b[0m \u001b[0;34m=\u001b[0m \u001b[0mself\u001b[0m\u001b[0;34m.\u001b[0m\u001b[0mforward\u001b[0m\u001b[0;34m(\u001b[0m\u001b[0;34m*\u001b[0m\u001b[0minput\u001b[0m\u001b[0;34m,\u001b[0m \u001b[0;34m**\u001b[0m\u001b[0mkwargs\u001b[0m\u001b[0;34m)\u001b[0m\u001b[0;34m\u001b[0m\u001b[0m\n\u001b[0m\u001b[1;32m    358\u001b[0m         \u001b[0;32mfor\u001b[0m \u001b[0mhook\u001b[0m \u001b[0;32min\u001b[0m \u001b[0mself\u001b[0m\u001b[0;34m.\u001b[0m\u001b[0m_forward_hooks\u001b[0m\u001b[0;34m.\u001b[0m\u001b[0mvalues\u001b[0m\u001b[0;34m(\u001b[0m\u001b[0;34m)\u001b[0m\u001b[0;34m:\u001b[0m\u001b[0;34m\u001b[0m\u001b[0m\n\u001b[1;32m    359\u001b[0m             \u001b[0mhook_result\u001b[0m \u001b[0;34m=\u001b[0m \u001b[0mhook\u001b[0m\u001b[0;34m(\u001b[0m\u001b[0mself\u001b[0m\u001b[0;34m,\u001b[0m \u001b[0minput\u001b[0m\u001b[0;34m,\u001b[0m \u001b[0mresult\u001b[0m\u001b[0;34m)\u001b[0m\u001b[0;34m\u001b[0m\u001b[0m\n",
      "\u001b[0;32m~/anaconda3/envs/ada/lib/python3.6/site-packages/torch/nn/modules/container.py\u001b[0m in \u001b[0;36mforward\u001b[0;34m(self, input)\u001b[0m\n\u001b[1;32m     65\u001b[0m     \u001b[0;32mdef\u001b[0m \u001b[0mforward\u001b[0m\u001b[0;34m(\u001b[0m\u001b[0mself\u001b[0m\u001b[0;34m,\u001b[0m \u001b[0minput\u001b[0m\u001b[0;34m)\u001b[0m\u001b[0;34m:\u001b[0m\u001b[0;34m\u001b[0m\u001b[0m\n\u001b[1;32m     66\u001b[0m         \u001b[0;32mfor\u001b[0m \u001b[0mmodule\u001b[0m \u001b[0;32min\u001b[0m \u001b[0mself\u001b[0m\u001b[0;34m.\u001b[0m\u001b[0m_modules\u001b[0m\u001b[0;34m.\u001b[0m\u001b[0mvalues\u001b[0m\u001b[0;34m(\u001b[0m\u001b[0;34m)\u001b[0m\u001b[0;34m:\u001b[0m\u001b[0;34m\u001b[0m\u001b[0m\n\u001b[0;32m---> 67\u001b[0;31m             \u001b[0minput\u001b[0m \u001b[0;34m=\u001b[0m \u001b[0mmodule\u001b[0m\u001b[0;34m(\u001b[0m\u001b[0minput\u001b[0m\u001b[0;34m)\u001b[0m\u001b[0;34m\u001b[0m\u001b[0m\n\u001b[0m\u001b[1;32m     68\u001b[0m         \u001b[0;32mreturn\u001b[0m \u001b[0minput\u001b[0m\u001b[0;34m\u001b[0m\u001b[0m\n\u001b[1;32m     69\u001b[0m \u001b[0;34m\u001b[0m\u001b[0m\n",
      "\u001b[0;32m~/anaconda3/envs/ada/lib/python3.6/site-packages/torch/nn/modules/module.py\u001b[0m in \u001b[0;36m__call__\u001b[0;34m(self, *input, **kwargs)\u001b[0m\n\u001b[1;32m    355\u001b[0m             \u001b[0mresult\u001b[0m \u001b[0;34m=\u001b[0m \u001b[0mself\u001b[0m\u001b[0;34m.\u001b[0m\u001b[0m_slow_forward\u001b[0m\u001b[0;34m(\u001b[0m\u001b[0;34m*\u001b[0m\u001b[0minput\u001b[0m\u001b[0;34m,\u001b[0m \u001b[0;34m**\u001b[0m\u001b[0mkwargs\u001b[0m\u001b[0;34m)\u001b[0m\u001b[0;34m\u001b[0m\u001b[0m\n\u001b[1;32m    356\u001b[0m         \u001b[0;32melse\u001b[0m\u001b[0;34m:\u001b[0m\u001b[0;34m\u001b[0m\u001b[0m\n\u001b[0;32m--> 357\u001b[0;31m             \u001b[0mresult\u001b[0m \u001b[0;34m=\u001b[0m \u001b[0mself\u001b[0m\u001b[0;34m.\u001b[0m\u001b[0mforward\u001b[0m\u001b[0;34m(\u001b[0m\u001b[0;34m*\u001b[0m\u001b[0minput\u001b[0m\u001b[0;34m,\u001b[0m \u001b[0;34m**\u001b[0m\u001b[0mkwargs\u001b[0m\u001b[0;34m)\u001b[0m\u001b[0;34m\u001b[0m\u001b[0m\n\u001b[0m\u001b[1;32m    358\u001b[0m         \u001b[0;32mfor\u001b[0m \u001b[0mhook\u001b[0m \u001b[0;32min\u001b[0m \u001b[0mself\u001b[0m\u001b[0;34m.\u001b[0m\u001b[0m_forward_hooks\u001b[0m\u001b[0;34m.\u001b[0m\u001b[0mvalues\u001b[0m\u001b[0;34m(\u001b[0m\u001b[0;34m)\u001b[0m\u001b[0;34m:\u001b[0m\u001b[0;34m\u001b[0m\u001b[0m\n\u001b[1;32m    359\u001b[0m             \u001b[0mhook_result\u001b[0m \u001b[0;34m=\u001b[0m \u001b[0mhook\u001b[0m\u001b[0;34m(\u001b[0m\u001b[0mself\u001b[0m\u001b[0;34m,\u001b[0m \u001b[0minput\u001b[0m\u001b[0;34m,\u001b[0m \u001b[0mresult\u001b[0m\u001b[0;34m)\u001b[0m\u001b[0;34m\u001b[0m\u001b[0m\n",
      "\u001b[0;32m~/anaconda3/envs/ada/lib/python3.6/site-packages/torch/nn/modules/conv.py\u001b[0m in \u001b[0;36mforward\u001b[0;34m(self, input)\u001b[0m\n\u001b[1;32m    166\u001b[0m     \u001b[0;32mdef\u001b[0m \u001b[0mforward\u001b[0m\u001b[0;34m(\u001b[0m\u001b[0mself\u001b[0m\u001b[0;34m,\u001b[0m \u001b[0minput\u001b[0m\u001b[0;34m)\u001b[0m\u001b[0;34m:\u001b[0m\u001b[0;34m\u001b[0m\u001b[0m\n\u001b[1;32m    167\u001b[0m         return F.conv1d(input, self.weight, self.bias, self.stride,\n\u001b[0;32m--> 168\u001b[0;31m                         self.padding, self.dilation, self.groups)\n\u001b[0m\u001b[1;32m    169\u001b[0m \u001b[0;34m\u001b[0m\u001b[0m\n\u001b[1;32m    170\u001b[0m \u001b[0;34m\u001b[0m\u001b[0m\n",
      "\u001b[0;32m~/anaconda3/envs/ada/lib/python3.6/site-packages/torch/nn/functional.py\u001b[0m in \u001b[0;36mconv1d\u001b[0;34m(input, weight, bias, stride, padding, dilation, groups)\u001b[0m\n\u001b[1;32m     52\u001b[0m                 \u001b[0m_single\u001b[0m\u001b[0;34m(\u001b[0m\u001b[0;36m0\u001b[0m\u001b[0;34m)\u001b[0m\u001b[0;34m,\u001b[0m \u001b[0mgroups\u001b[0m\u001b[0;34m,\u001b[0m \u001b[0mtorch\u001b[0m\u001b[0;34m.\u001b[0m\u001b[0mbackends\u001b[0m\u001b[0;34m.\u001b[0m\u001b[0mcudnn\u001b[0m\u001b[0;34m.\u001b[0m\u001b[0mbenchmark\u001b[0m\u001b[0;34m,\u001b[0m\u001b[0;34m\u001b[0m\u001b[0m\n\u001b[1;32m     53\u001b[0m                 torch.backends.cudnn.deterministic, torch.backends.cudnn.enabled)\n\u001b[0;32m---> 54\u001b[0;31m     \u001b[0;32mreturn\u001b[0m \u001b[0mf\u001b[0m\u001b[0;34m(\u001b[0m\u001b[0minput\u001b[0m\u001b[0;34m,\u001b[0m \u001b[0mweight\u001b[0m\u001b[0;34m,\u001b[0m \u001b[0mbias\u001b[0m\u001b[0;34m)\u001b[0m\u001b[0;34m\u001b[0m\u001b[0m\n\u001b[0m\u001b[1;32m     55\u001b[0m \u001b[0;34m\u001b[0m\u001b[0m\n\u001b[1;32m     56\u001b[0m \u001b[0;34m\u001b[0m\u001b[0m\n",
      "\u001b[0;31mKeyboardInterrupt\u001b[0m: "
     ]
    }
   ],
   "source": [
    "model.fit(X_tr, y_tr, X_test=X_te, y_test=y_te, epochs=25)"
   ]
  },
  {
   "cell_type": "markdown",
   "metadata": {},
   "source": [
    "### 1D convolution + Batch norm + Residual"
   ]
  },
  {
   "cell_type": "code",
   "execution_count": null,
   "metadata": {},
   "outputs": [],
   "source": [
    "X_tr, y_tr = Variable(train.X.clone()), Variable(train.y)\n",
    "X_te, y_te = Variable(test.X.clone()), Variable(test.y)\n",
    "\n",
    "X_tr.shape, y_tr.shape, X_te.shape, y_te.shape"
   ]
  },
  {
   "cell_type": "code",
   "execution_count": 138,
   "metadata": {},
   "outputs": [],
   "source": [
    "class residual_block(nn.Module):\n",
    "    def __init__(self, activation=nn.ReLU):\n",
    "        super(residual_block, self).__init__()\n",
    "        self.activation = activation\n",
    "        \n",
    "        num_filters = 32\n",
    "        self.features = nn.Sequential(\n",
    "            nn.BatchNorm1d(num_filters),\n",
    "            nn.Conv1d(num_filters, num_filters, kernel_size=3, padding=2, dilation=2),\n",
    "            self.activation(),\n",
    "            \n",
    "            nn.BatchNorm1d(num_filters),\n",
    "            nn.Conv1d(num_filters, num_filters, kernel_size=3, padding=1),\n",
    "            self.activation(),\n",
    "            \n",
    "            nn.BatchNorm1d(num_filters),\n",
    "            nn.Conv1d(num_filters, num_filters, kernel_size=3, padding=1),\n",
    "            self.activation(),\n",
    "        )\n",
    "    \n",
    "    def forward(self, x):        \n",
    "        return x+self.features(x)\n",
    "\n",
    "class aggregated_residual_blocks(nn.Module):\n",
    "    def __init__(self, n_residual_blocks=2, activation=nn.ReLU):\n",
    "        super(aggregated_residual_blocks, self).__init__()\n",
    "        self.activation = activation\n",
    "        \n",
    "        self.residual_blocks = nn.ModuleList()\n",
    "        for i in range(n_residual_blocks):\n",
    "            self.residual_blocks.append(residual_block(activation=activation))\n",
    "    \n",
    "    def forward(self, x):\n",
    "        out = []\n",
    "        \n",
    "        for block in self.residual_blocks:\n",
    "            out.append(block(x))\n",
    "            \n",
    "        return sum(out)+x\n",
    "    \n",
    "class CNN_1D_BatchNorm_Residual(modelWrapper):\n",
    "    def __init__(self, nb_hidden=50, n_aggregated_residual_blocks=2, n_residual_blocks=2, activation=nn.ReLU):\n",
    "        # n_aggregated_residual_blocks: number of aggregated residual blocks (aggregated_residual_blocks)\n",
    "        # n_residual_blocks: number of residual blocks per aggregated residual block\n",
    "        \n",
    "        super(CNN_1D_BatchNorm_Residual, self).__init__()\n",
    "        \n",
    "        self.activation = activation\n",
    "        \n",
    "        self.features = [\n",
    "            nn.BatchNorm1d(28),\n",
    "            nn.Conv1d(28, 32, kernel_size=3, padding=2, dilation=2),\n",
    "            self.activation()\n",
    "        ]\n",
    "        for i in range(n_aggregated_residual_blocks):\n",
    "            self.features.append(aggregated_residual_blocks(n_residual_blocks))\n",
    "            self.features.append(nn.Dropout(0.15))\n",
    "        \n",
    "        self.features += [            \n",
    "            nn.BatchNorm1d(32),\n",
    "            nn.Conv1d(32, 16, kernel_size=3, padding=1),\n",
    "            nn.Dropout(0.1),\n",
    "            nn.MaxPool1d(2),\n",
    "            self.activation(),\n",
    "        ]\n",
    "        self.features = nn.Sequential(*self.features)\n",
    "        \n",
    "        self.num_features = 16*25\n",
    "        \n",
    "        self.classifier = nn.Sequential(\n",
    "            nn.Linear(self.num_features, nb_hidden),\n",
    "            self.activation(),\n",
    "            nn.Linear(nb_hidden, 2)\n",
    "        )\n",
    "        \n",
    "        self.criterion = nn.CrossEntropyLoss()\n",
    "        self.optimizer = torch.optim.Adamax(self.parameters())\n",
    "#         self.optimizer = Adam(self.parameters(), lr=0.001)"
   ]
  },
  {
   "cell_type": "code",
   "execution_count": 139,
   "metadata": {},
   "outputs": [],
   "source": [
    "# model = CNN_1D_BatchNorm_Residual(n_aggregated_residual_blocks=2, n_residual_blocks=5, activation=nn.ReLU)\n",
    "model = CNN_1D_BatchNorm_Residual(n_aggregated_residual_blocks=3, n_residual_blocks=1, activation=nn.ReLU)"
   ]
  },
  {
   "cell_type": "code",
   "execution_count": 140,
   "metadata": {
    "scrolled": false
   },
   "outputs": [
    {
     "name": "stdout",
     "output_type": "stream",
     "text": [
      "Epoch 0: Train loss: 11.243237972259521. Train accuracy 51.90%. Test accuracy 46.00%\n",
      "Epoch 1: Train loss: 11.041338443756104. Train accuracy 57.59%. Test accuracy 59.00%\n",
      "Epoch 2: Train loss: 10.867946028709412. Train accuracy 69.30%. Test accuracy 55.00%\n",
      "Epoch 3: Train loss: 10.594859302043915. Train accuracy 68.99%. Test accuracy 62.00%\n",
      "Epoch 4: Train loss: 9.839361727237701. Train accuracy 72.78%. Test accuracy 67.00%\n",
      "Epoch 5: Train loss: 8.814906239509583. Train accuracy 76.27%. Test accuracy 74.00%\n",
      "Epoch 6: Train loss: 7.4753225445747375. Train accuracy 82.91%. Test accuracy 76.00%\n",
      "Epoch 7: Train loss: 6.616357833147049. Train accuracy 83.23%. Test accuracy 73.00%\n",
      "Epoch 8: Train loss: 5.707961589097977. Train accuracy 85.13%. Test accuracy 76.00%\n",
      "Epoch 9: Train loss: 4.751588121056557. Train accuracy 88.92%. Test accuracy 68.00%\n",
      "Epoch 10: Train loss: 4.25025101006031. Train accuracy 89.56%. Test accuracy 76.00%\n",
      "Epoch 11: Train loss: 3.1224499940872192. Train accuracy 82.91%. Test accuracy 73.00%\n",
      "Epoch 12: Train loss: 3.19545878469944. Train accuracy 80.06%. Test accuracy 70.00%\n",
      "Epoch 13: Train loss: 3.7053719758987427. Train accuracy 89.56%. Test accuracy 74.00%\n",
      "Epoch 14: Train loss: 2.6492408215999603. Train accuracy 87.03%. Test accuracy 74.00%\n",
      "Epoch 15: Train loss: 2.3530716374516487. Train accuracy 89.56%. Test accuracy 76.00%\n",
      "Epoch 16: Train loss: 2.9540945142507553. Train accuracy 90.19%. Test accuracy 71.00%\n",
      "Epoch 17: Train loss: 3.0725568551570177. Train accuracy 91.77%. Test accuracy 74.00%\n",
      "Epoch 18: Train loss: 1.5874352790415287. Train accuracy 94.30%. Test accuracy 75.00%\n",
      "Epoch 19: Train loss: 1.0968046337366104. Train accuracy 95.25%. Test accuracy 73.00%\n",
      "Epoch 20: Train loss: 0.7900709239766002. Train accuracy 95.57%. Test accuracy 73.00%\n",
      "Epoch 21: Train loss: 0.7211486222222447. Train accuracy 97.15%. Test accuracy 73.00%\n",
      "Epoch 22: Train loss: 0.4390001422725618. Train accuracy 96.52%. Test accuracy 74.00%\n",
      "Epoch 23: Train loss: 0.3051479705609381. Train accuracy 96.52%. Test accuracy 72.00%\n",
      "Epoch 24: Train loss: 0.22712554945610464. Train accuracy 96.52%. Test accuracy 70.00%\n"
     ]
    },
    {
     "data": {
      "text/plain": [
       "CNN_1D_BatchNorm_Residual(\n",
       "  (features): Sequential(\n",
       "    (0): BatchNorm1d(28, eps=1e-05, momentum=0.1, affine=True)\n",
       "    (1): Conv1d(28, 32, kernel_size=(3,), stride=(1,), padding=(2,), dilation=(2,))\n",
       "    (2): ReLU()\n",
       "    (3): aggregated_residual_blocks(\n",
       "      (residual_blocks): ModuleList(\n",
       "        (0): residual_block(\n",
       "          (features): Sequential(\n",
       "            (0): BatchNorm1d(32, eps=1e-05, momentum=0.1, affine=True)\n",
       "            (1): Conv1d(32, 32, kernel_size=(3,), stride=(1,), padding=(2,), dilation=(2,))\n",
       "            (2): ReLU()\n",
       "            (3): BatchNorm1d(32, eps=1e-05, momentum=0.1, affine=True)\n",
       "            (4): Conv1d(32, 32, kernel_size=(3,), stride=(1,), padding=(1,))\n",
       "            (5): ReLU()\n",
       "            (6): BatchNorm1d(32, eps=1e-05, momentum=0.1, affine=True)\n",
       "            (7): Conv1d(32, 32, kernel_size=(3,), stride=(1,), padding=(1,))\n",
       "            (8): ReLU()\n",
       "          )\n",
       "        )\n",
       "      )\n",
       "    )\n",
       "    (4): Dropout(p=0.15)\n",
       "    (5): aggregated_residual_blocks(\n",
       "      (residual_blocks): ModuleList(\n",
       "        (0): residual_block(\n",
       "          (features): Sequential(\n",
       "            (0): BatchNorm1d(32, eps=1e-05, momentum=0.1, affine=True)\n",
       "            (1): Conv1d(32, 32, kernel_size=(3,), stride=(1,), padding=(2,), dilation=(2,))\n",
       "            (2): ReLU()\n",
       "            (3): BatchNorm1d(32, eps=1e-05, momentum=0.1, affine=True)\n",
       "            (4): Conv1d(32, 32, kernel_size=(3,), stride=(1,), padding=(1,))\n",
       "            (5): ReLU()\n",
       "            (6): BatchNorm1d(32, eps=1e-05, momentum=0.1, affine=True)\n",
       "            (7): Conv1d(32, 32, kernel_size=(3,), stride=(1,), padding=(1,))\n",
       "            (8): ReLU()\n",
       "          )\n",
       "        )\n",
       "      )\n",
       "    )\n",
       "    (6): Dropout(p=0.15)\n",
       "    (7): aggregated_residual_blocks(\n",
       "      (residual_blocks): ModuleList(\n",
       "        (0): residual_block(\n",
       "          (features): Sequential(\n",
       "            (0): BatchNorm1d(32, eps=1e-05, momentum=0.1, affine=True)\n",
       "            (1): Conv1d(32, 32, kernel_size=(3,), stride=(1,), padding=(2,), dilation=(2,))\n",
       "            (2): ReLU()\n",
       "            (3): BatchNorm1d(32, eps=1e-05, momentum=0.1, affine=True)\n",
       "            (4): Conv1d(32, 32, kernel_size=(3,), stride=(1,), padding=(1,))\n",
       "            (5): ReLU()\n",
       "            (6): BatchNorm1d(32, eps=1e-05, momentum=0.1, affine=True)\n",
       "            (7): Conv1d(32, 32, kernel_size=(3,), stride=(1,), padding=(1,))\n",
       "            (8): ReLU()\n",
       "          )\n",
       "        )\n",
       "      )\n",
       "    )\n",
       "    (8): Dropout(p=0.15)\n",
       "    (9): BatchNorm1d(32, eps=1e-05, momentum=0.1, affine=True)\n",
       "    (10): Conv1d(32, 16, kernel_size=(3,), stride=(1,), padding=(1,))\n",
       "    (11): Dropout(p=0.1)\n",
       "    (12): MaxPool1d(kernel_size=2, stride=2, padding=0, dilation=1, ceil_mode=False)\n",
       "    (13): ReLU()\n",
       "  )\n",
       "  (classifier): Sequential(\n",
       "    (0): Linear(in_features=400, out_features=50, bias=True)\n",
       "    (1): ReLU()\n",
       "    (2): Linear(in_features=50, out_features=2, bias=True)\n",
       "  )\n",
       "  (criterion): CrossEntropyLoss(\n",
       "  )\n",
       ")"
      ]
     },
     "execution_count": 140,
     "metadata": {},
     "output_type": "execute_result"
    }
   ],
   "source": [
    "model.fit(X_tr, y_tr, X_test=X_te, y_test=y_te, epochs=25)"
   ]
  },
  {
   "cell_type": "markdown",
   "metadata": {},
   "source": [
    "## boh"
   ]
  },
  {
   "cell_type": "code",
   "execution_count": null,
   "metadata": {},
   "outputs": [],
   "source": [
    "class net(modelWrapper):\n",
    "    def __init__(self, activation=nn.ReLU, nb_hidden=50):"
   ]
  },
  {
   "cell_type": "markdown",
   "metadata": {},
   "source": [
    "### 1D conv horizontal and 1D conv vertical"
   ]
  },
  {
   "cell_type": "code",
   "execution_count": 141,
   "metadata": {},
   "outputs": [
    {
     "data": {
      "text/plain": [
       "(torch.Size([316, 28, 50]),\n",
       " torch.Size([316]),\n",
       " torch.Size([100, 28, 50]),\n",
       " torch.Size([100]))"
      ]
     },
     "execution_count": 141,
     "metadata": {},
     "output_type": "execute_result"
    }
   ],
   "source": [
    "X_tr, y_tr = Variable(train.X.clone()), Variable(train.y)\n",
    "X_te, y_te = Variable(test.X.clone()), Variable(test.y)\n",
    "\n",
    "X_tr.shape, y_tr.shape, X_te.shape, y_te.shape"
   ]
  },
  {
   "cell_type": "code",
   "execution_count": 142,
   "metadata": {},
   "outputs": [],
   "source": [
    "class CNN_1D(nn.Module):\n",
    "    def __init__(self, in_channels, activation=nn.ReLU):\n",
    "        super(CNN_1D, self).__init__()\n",
    "        self.activation = activation\n",
    "\n",
    "        self.bn1 = nn.BatchNorm1d(in_channels)\n",
    "        self.conv1 = nn.Conv1d(in_channels, 64, kernel_size=7, padding=3) \n",
    "        \n",
    "        self.bn2 = nn.BatchNorm1d(64)\n",
    "        self.conv2 = nn.Conv1d(64, 64, kernel_size=5, padding=2)\n",
    "        \n",
    "        self.bn3 = nn.BatchNorm1d(64)\n",
    "        self.conv3 = nn.Conv1d(64, in_channels, kernel_size=3, padding=1)\n",
    "        \n",
    "    def forward(self, x):\n",
    "        # (in_channels, 50)\n",
    "        x = self.bn1(x)\n",
    "        x = self.activation(self.conv1(x))\n",
    "\n",
    "        # (64, 50)\n",
    "        x = self.bn2(x)\n",
    "        x = self.activation(self.conv2(x))\n",
    "\n",
    "        # (64, in_channels)\n",
    "        x = self.bn3(x)\n",
    "        x = self.activation(self.conv3(x))\n",
    "\n",
    "        return x\n",
    "    \n",
    "class conv2D(nn.Module):\n",
    "    def __init__(self, activation=nn.ReLU):\n",
    "        super(conv2D, self).__init__()\n",
    "        self.activation = activation\n",
    "                \n",
    "        self.bn1 = nn.BatchNorm1d(1)\n",
    "        self.conv1 = nn.Conv2d(1, 32, kernel_size=(3, 7), padding=(1, 3))\n",
    "        \n",
    "        self.bn2 = nn.BatchNorm1d(32)\n",
    "        self.conv2 = nn.Conv2d(32, 32, kernel_size=5, padding=2)\n",
    "        \n",
    "        self.bn3 = nn.BatchNorm1d(32)\n",
    "        self.conv3 = nn.Conv2d(32, 16, kernel_size=5, padding=2)\n",
    "#         self.conv4 = nn.Conv2d(32, 16, kernel_size=5, padding=2)\n",
    "\n",
    "    def forward(self, x):\n",
    "        # (1, 28, 50) -> (32, 14, 26)\n",
    "        x = self.activation(F.max_pool2d(self.conv1(self.bn1(x)), 2, padding=(0, 1)))\n",
    "\n",
    "        # (32, 14, 26) -> (32, 8, 14)\n",
    "        x = self.activation(F.max_pool2d(self.conv2(self.bn2(x)), (2, 2), padding=(1, 1)))\n",
    "\n",
    "        # (32, 8, 14) -> (16, 4, 7)\n",
    "        x = self.activation(F.max_pool2d(self.conv3(self.bn3(x)), 2))\n",
    "\n",
    "        return x\n",
    "        \n",
    "class horiz_vert_1D(modelWrapper):\n",
    "    def __init__(self, activation=nn.ReLU, nb_hidden=50):\n",
    "        super(horiz_vert_1D, self).__init__()\n",
    "        self.activation = activation\n",
    "        \n",
    "        self.horiz = CNN_1D(28, activation=activation)\n",
    "        self.vert = CNN_1D(50, activation=activation)\n",
    "        \n",
    "        self.conv2D = conv2D()\n",
    "        self.conv2D_horiz = conv2D()\n",
    "        self.conv2D_vert = conv2D()\n",
    "        \n",
    "        self.fc1 = nn.Linear(448, nb_hidden)\n",
    "        self.fc2 = nn.Linear(nb_hidden, 2)\n",
    "        \n",
    "        self.criterion = nn.CrossEntropyLoss()\n",
    "        self.optimizer = Adam(self.parameters(), lr=0.001)\n",
    "        \n",
    "    def forward(self, x):\n",
    "        out1 = self.conv2D_horiz(self.horiz(x).unsqueeze(1))\n",
    "        out2 = self.conv2D_vert(self.vert(x.transpose(1, 2)).transpose(1, 2).unsqueeze(1))\n",
    "        out3 = self.conv2D(x.unsqueeze(1))\n",
    "        \n",
    "        out = out1 + out2 + out3\n",
    "        \n",
    "        out = self.activation(self.fc1(out.view(-1, 448))) \n",
    "        out = self.fc2(out)\n",
    "        \n",
    "        return out"
   ]
  },
  {
   "cell_type": "code",
   "execution_count": null,
   "metadata": {},
   "outputs": [],
   "source": [
    "model = horiz_vert_1D(nb_hidden=50)"
   ]
  },
  {
   "cell_type": "code",
   "execution_count": null,
   "metadata": {},
   "outputs": [],
   "source": [
    "model.fit(X_tr, y_tr, X_test=X_te, y_test=y_te, epochs=25)"
   ]
  },
  {
   "cell_type": "markdown",
   "metadata": {},
   "source": [
    "### Residual network with 2D convolutional layers + batch normalization "
   ]
  },
  {
   "cell_type": "code",
   "execution_count": null,
   "metadata": {},
   "outputs": [],
   "source": [
    "# add a channel to store the pixels image (so to apply the 2D convolutional layer)\n",
    "X_tr, y_tr = Variable(train.X.clone().unsqueeze(1)), Variable(train.y)\n",
    "X_te, y_te = Variable(test.X.clone().unsqueeze(1)), Variable(test.y)\n",
    "\n",
    "X_tr.shape, y_tr.shape, X_te.shape, y_te.shape"
   ]
  },
  {
   "cell_type": "code",
   "execution_count": null,
   "metadata": {},
   "outputs": [],
   "source": [
    "# resudial network\n",
    "class BasicBlock():\n",
    "    def __init__(self, in_planes, out_planes, stride, dropRate=0.0):\n",
    "        super(BasicBlock, self).__init__()\n",
    "        self.bn1 = nn.BatchNorm2d(in_planes)\n",
    "        self.relu1 = nn.ReLU(inplace=True)\n",
    "        self.conv1 = nn.Conv2d(in_planes, out_planes, kernel_size=3, stride=stride,\n",
    "                               padding=1, bias=False)\n",
    "        self.bn2 = nn.BatchNorm2d(out_planes)\n",
    "        self.relu2 = nn.ReLU(inplace=True)\n",
    "        self.conv2 = nn.Conv2d(out_planes, out_planes, kernel_size=3, stride=1,\n",
    "                               padding=1, bias=False)\n",
    "        self.droprate = dropRate\n",
    "        self.equalInOut = (in_planes == out_planes)\n",
    "        self.convShortcut = (not self.equalInOut) and nn.Conv2d(in_planes, out_planes, kernel_size=1, stride=stride,\n",
    "                               padding=0, bias=False) or None\n",
    "    def forward(self, x):\n",
    "        if not self.equalInOut:\n",
    "            x = self.relu1(self.bn1(x))\n",
    "        else:\n",
    "            out = self.relu1(self.bn1(x))\n",
    "        out = self.relu2(self.bn2(self.conv1(out if self.equalInOut else x)))\n",
    "        if self.droprate > 0:\n",
    "            out = F.dropout(out, p=self.droprate, training=self.training)\n",
    "        out = self.conv2(out)\n",
    "        return torch.add(x if self.equalInOut else self.convShortcut(x), out)\n",
    "    \n",
    "class NetworkBlock():\n",
    "    def __init__(self, nb_layers, in_planes, out_planes, block, stride, dropRate=0.0):\n",
    "        super(NetworkBlock, self).__init__()\n",
    "        self.layer = self._make_layer(block, in_planes, out_planes, nb_layers, stride, dropRate)\n",
    "    def _make_layer(self, block, in_planes, out_planes, nb_layers, stride, dropRate):\n",
    "        layers = []\n",
    "        for i in range(nb_layers):\n",
    "            layers.append(block(i == 0 and in_planes or out_planes, out_planes, i == 0 and stride or 1, dropRate))\n",
    "        return nn.Sequential(*layers)\n",
    "    def forward(self, x):\n",
    "        return self.layer(x)\n",
    "\n",
    "class WideResNet(, modelWrapper):\n",
    "    def __init__(self, depth, num_classes, widen_factor=1, dropRate=0.0):\n",
    "        super(WideResNet, self).__init__()\n",
    "        nChannels = [16, 16*widen_factor, 32*widen_factor, 64*widen_factor]\n",
    "        assert((depth - 4) % 6 == 0)\n",
    "        n = int((depth - 4) / 6)\n",
    "        block = BasicBlock\n",
    "        # 1st conv before any network block\n",
    "        self.conv1 = nn.Conv2d(1, nChannels[0], kernel_size=3, stride=1,\n",
    "                               padding=1, bias=False)\n",
    "        # 1st block\n",
    "        self.block1 = NetworkBlock(n, nChannels[0], nChannels[1], block, 1, dropRate)\n",
    "        # 2nd block\n",
    "        self.block2 = NetworkBlock(n, nChannels[1], nChannels[2], block, 2, dropRate)\n",
    "        # 3rd block\n",
    "        self.block3 = NetworkBlock(n, nChannels[2], nChannels[3], block, 2, dropRate)\n",
    "        # global average pooling and classifier\n",
    "        self.bn1 = nn.BatchNorm2d(nChannels[3])\n",
    "        self.relu = nn.ReLU(inplace=True)\n",
    "        #self.fc = nn.Linear(nChannels[3], num_classes)\n",
    "        #self.nChannels = nChannels[3]\n",
    "        self.fc = nn.Linear(1152, num_classes)\n",
    "        self.nChannels = 1152\n",
    "        \n",
    "        self.criterion = nn.CrossEntropyLoss()\n",
    "        self.optimizer = Adam(self.parameters(), lr=0.01)\n",
    "\n",
    "#         for m in self.modules():\n",
    "#             if isinstance(m, nn.Conv2d):\n",
    "#                 n = m.kernel_size[0] * m.kernel_size[1] * m.out_channels\n",
    "#                 m.weight.data.normal_(0, math.sqrt(2. / n))\n",
    "#             elif isinstance(m, nn.BatchNorm2d):\n",
    "#                 m.weight.data.fill_(1)\n",
    "#                 m.bias.data.zero_()\n",
    "#             elif isinstance(m, nn.Linear):\n",
    "#                 m.bias.data.zero_()\n",
    "\n",
    "    def forward(self, x):\n",
    "        #print(x.size())\n",
    "        out = self.conv1(x)\n",
    "        #print(out.size())\n",
    "        out = self.block1(out)\n",
    "        #print(out.size())\n",
    "        out = self.block2(out)\n",
    "        #print(out.size())\n",
    "        out = self.block3(out)\n",
    "        #print(out.size())\n",
    "        out = self.relu(self.bn1(out))\n",
    "        #print(out.size())\n",
    "        out = F.avg_pool2d(out, 2)\n",
    "        #print(out.size())\n",
    "        out = self.fc(out.view(-1, self.nChannels))\n",
    "        #print(out.size())\n",
    "        return out"
   ]
  },
  {
   "cell_type": "code",
   "execution_count": null,
   "metadata": {},
   "outputs": [],
   "source": [
    "model = WideResNet(depth=16, num_classes=2)"
   ]
  },
  {
   "cell_type": "code",
   "execution_count": null,
   "metadata": {},
   "outputs": [],
   "source": [
    "model.fit(X_tr, y_tr, X_test=X_te, y_test=y_te, epochs=5)"
   ]
  }
 ],
 "metadata": {
  "kernelspec": {
   "display_name": "Python [default]",
   "language": "python",
   "name": "python3"
  },
  "language_info": {
   "codemirror_mode": {
    "name": "ipython",
    "version": 3
   },
   "file_extension": ".py",
   "mimetype": "text/x-python",
   "name": "python",
   "nbconvert_exporter": "python",
   "pygments_lexer": "ipython3",
   "version": "3.6.3"
  }
 },
 "nbformat": 4,
 "nbformat_minor": 2
}
