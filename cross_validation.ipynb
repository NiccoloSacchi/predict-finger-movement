{
 "cells": [
  {
   "cell_type": "code",
   "execution_count": 1,
   "metadata": {},
   "outputs": [],
   "source": [
    "import dlc_bci as bci\n",
    "\n",
    "import torch\n",
    "import numpy as np\n",
    "\n",
    "from models import *\n",
    "from callbacks import keep_best_model, store_best_model\n",
    "\n",
    "from types import SimpleNamespace \n",
    "\n",
    "\n",
    "from torch import optim\n",
    "from torch import nn\n",
    "from torch import Tensor\n",
    "from torch.autograd import Variable\n",
    "\n",
    "%matplotlib inline\n",
    "%load_ext autoreload\n",
    "%autoreload 2"
   ]
  },
  {
   "cell_type": "markdown",
   "metadata": {},
   "source": [
    "### Load"
   ]
  },
  {
   "cell_type": "code",
   "execution_count": 2,
   "metadata": {},
   "outputs": [
    {
     "name": "stdout",
     "output_type": "stream",
     "text": [
      "<class 'torch.FloatTensor'> torch.Size([316, 28, 50])\n",
      "<class 'torch.LongTensor'> torch.Size([316])\n",
      "<class 'torch.FloatTensor'> torch.Size([100, 28, 50])\n",
      "<class 'torch.LongTensor'> torch.Size([100])\n"
     ]
    }
   ],
   "source": [
    "one_khz=False\n",
    "\n",
    "train = SimpleNamespace()\n",
    "train.X, train.y = bci.load(root='./data_bci', one_khz=one_khz)\n",
    "print(str(type(train.X)), train.X.size())\n",
    "print(str(type(train.y)), train.y.size())\n",
    "\n",
    "test = SimpleNamespace()\n",
    "test.X, test.y = bci.load(root='./data_bci', train=False, one_khz=one_khz)\n",
    "print(str(type(test.X)), test.X.size())\n",
    "print(str(type(test.y)), test.y.size())"
   ]
  },
  {
   "cell_type": "code",
   "execution_count": 3,
   "metadata": {},
   "outputs": [
    {
     "data": {
      "text/plain": [
       "<torch._C.Generator at 0x7f833d3f4db0>"
      ]
     },
     "execution_count": 3,
     "metadata": {},
     "output_type": "execute_result"
    }
   ],
   "source": [
    "        torch.manual_seed(0) "
   ]
  },
  {
   "cell_type": "code",
   "execution_count": 6,
   "metadata": {},
   "outputs": [],
   "source": [
    "from collections import OrderedDict\n",
    "\n",
    "def cross_validate_grid_search(\n",
    "    modelClass, \n",
    "    train, \n",
    "    epochs=100,\n",
    "    n_splits=5,\n",
    "    grid_search_on=OrderedDict([\n",
    "        (\"nb_hidden\", [np.asscalar(n) for n in np.arange(40, 201, 40)]),\n",
    "        (\"activation\", [nn.ReLU, nn.Tanh]),\n",
    "        (\"optimizer\", [optim.Adam, optim.Adagrad, optim.Adamax]),\n",
    "        (\"weight_decay\", [np.asscalar(wd) for wd in np.logspace(-6, -1, 4)])\n",
    "    ])\n",
    "):\n",
    "    \"\"\" Apply a simplified grid search on the parameters in \"grid_search_on\" and optimize\n",
    "    one at a time (to keep the complexity linear).    \n",
    "    Finally save the best configuration.\n",
    "    \"\"\"\n",
    "    \n",
    "    X_tr, y_tr = modelClass.prepare_data(train)\n",
    "    \n",
    "    print(\"Optimizing in order:\", grid_search_on.keys())\n",
    "    # here we store the best parameters as we find them (initialized with just the first parameter)\n",
    "    bestParams = {}\n",
    "    for param in grid_search_on.keys():\n",
    "        bestParams[param] = grid_search_on[param][0]\n",
    "        \n",
    "    \n",
    "    for param_name in grid_search_on.keys():\n",
    "        modelScores = {\n",
    "            \"tr_scores\": [],\n",
    "            \"va_scores\": []\n",
    "        }\n",
    "        param_values = grid_search_on[param_name]\n",
    "        print(\"\\nCross validation on\", param_name+\":\")\n",
    "        for n in param_values: # scan through the parameter values\n",
    "            print(\"------\", param_name, \"=\", str(n), \"------\")\n",
    "            bestParams[param_name] = n\n",
    "            model = modelClass(**bestParams)\n",
    "            result = model.cross_validate(X_tr, y_tr, verbose=True, epochs=epochs, n_splits=n_splits)\n",
    "\n",
    "            modelScores[\"tr_scores\"].append(np.asscalar(np.mean(result[\"train_score\"])))\n",
    "            modelScores[\"va_scores\"].append(np.asscalar(np.mean(result[\"test_score\"])))\n",
    "        return modelScores\n",
    "        # save the obtained scores \n",
    "        model.save_data(modelScores, \"cross_validation/\"+param_name, pickle_protocol=0)\n",
    "        # get the best parameter\n",
    "        bestParams[param_name] = param_values[np.argmax(modelScores[\"va_scores\"])]\n",
    "        \n",
    "    model.save_data(bestParams, \"cross_validation/best_params\", pickle_protocol=0)\n",
    "    # [np.asscalar(wd) for wd in np.logspace(-6, -1, 4)]\n",
    "    # best_n = n_hidden_values[np.argmax(modelScores[\"va_scores\"])]\n",
    "    # print('Best #hidden units:', best_n)\n",
    "    # print('Test score:',\n",
    "    #       CNN2D(n)\n",
    "    #       .fit(X_tr, y_tr, epochs=50)\n",
    "    #       .score(X_te, y_te))"
   ]
  },
  {
   "cell_type": "code",
   "execution_count": 7,
   "metadata": {},
   "outputs": [
    {
     "name": "stdout",
     "output_type": "stream",
     "text": [
      "Optimizing in order: odict_keys(['nb_hidden', 'activation', 'optimizer', 'weight_decay'])\n",
      "\n",
      "Cross validation on nb_hidden:\n",
      "------ nb_hidden = 40 ------\n",
      "----------------- fold 1/5 -----------------\n",
      "Epoch 0: Train loss: 15.083938419818878. Train accuracy 55.95%. Test accuracy 45.31%\n",
      "Epoch 1: Train loss: 9.115569114685059. Train accuracy 51.59%. Test accuracy 45.31%\n",
      "----------------- fold 2/5 -----------------\n",
      "Epoch 0: Train loss: 20.491197645664215. Train accuracy 46.64%. Test accuracy 58.73%\n",
      "Epoch 1: Train loss: 9.313822567462921. Train accuracy 52.96%. Test accuracy 39.68%\n",
      "----------------- fold 3/5 -----------------\n",
      "Epoch 0: Train loss: 18.0937539935112. Train accuracy 59.68%. Test accuracy 53.97%\n",
      "Epoch 1: Train loss: 9.469550848007202. Train accuracy 54.15%. Test accuracy 47.62%\n",
      "----------------- fold 4/5 -----------------\n",
      "Epoch 0: Train loss: 17.003881454467773. Train accuracy 49.01%. Test accuracy 55.56%\n",
      "Epoch 1: Train loss: 9.507079780101776. Train accuracy 51.78%. Test accuracy 47.62%\n",
      "----------------- fold 5/5 -----------------\n",
      "Epoch 0: Train loss: 14.468741118907928. Train accuracy 50.20%. Test accuracy 50.79%\n",
      "Epoch 1: Train loss: 9.749658107757568. Train accuracy 50.20%. Test accuracy 47.62%\n",
      "------ nb_hidden = 80 ------\n",
      "----------------- fold 1/5 -----------------\n",
      "Epoch 0: Train loss: 16.576632797718048. Train accuracy 51.59%. Test accuracy 42.19%\n",
      "Epoch 1: Train loss: 9.224344313144684. Train accuracy 57.54%. Test accuracy 51.56%\n",
      "----------------- fold 2/5 -----------------\n",
      "Epoch 0: Train loss: 19.7656472325325. Train accuracy 54.94%. Test accuracy 46.03%\n",
      "Epoch 1: Train loss: 9.022782564163208. Train accuracy 51.38%. Test accuracy 60.32%\n",
      "----------------- fold 3/5 -----------------\n",
      "Epoch 0: Train loss: 16.383923530578613. Train accuracy 51.78%. Test accuracy 44.44%\n",
      "Epoch 1: Train loss: 9.186374545097351. Train accuracy 52.57%. Test accuracy 55.56%\n",
      "----------------- fold 4/5 -----------------\n",
      "Epoch 0: Train loss: 17.543729722499847. Train accuracy 49.01%. Test accuracy 55.56%\n",
      "Epoch 1: Train loss: 9.181406855583191. Train accuracy 52.96%. Test accuracy 39.68%\n",
      "----------------- fold 5/5 -----------------\n",
      "Epoch 0: Train loss: 16.15558636188507. Train accuracy 50.59%. Test accuracy 53.97%\n",
      "Epoch 1: Train loss: 9.515406310558319. Train accuracy 49.80%. Test accuracy 47.62%\n",
      "------ nb_hidden = 120 ------\n",
      "----------------- fold 1/5 -----------------\n",
      "Epoch 0: Train loss: 15.268283605575562. Train accuracy 49.60%. Test accuracy 59.38%\n",
      "Epoch 1: Train loss: 9.50529944896698. Train accuracy 48.81%. Test accuracy 60.94%\n",
      "----------------- fold 2/5 -----------------\n",
      "Epoch 0: Train loss: 21.559228837490082. Train accuracy 52.57%. Test accuracy 41.27%\n",
      "Epoch 1: Train loss: 9.257072627544403. Train accuracy 51.38%. Test accuracy 46.03%\n",
      "----------------- fold 3/5 -----------------\n",
      "Epoch 0: Train loss: 17.207417249679565. Train accuracy 50.99%. Test accuracy 46.03%\n",
      "Epoch 1: Train loss: 9.172554910182953. Train accuracy 50.59%. Test accuracy 46.03%\n",
      "----------------- fold 4/5 -----------------\n",
      "Epoch 0: Train loss: 15.645944237709045. Train accuracy 56.13%. Test accuracy 46.03%\n",
      "Epoch 1: Train loss: 9.307213187217712. Train accuracy 51.38%. Test accuracy 47.62%\n",
      "----------------- fold 5/5 -----------------\n",
      "Epoch 0: Train loss: 17.690688133239746. Train accuracy 50.59%. Test accuracy 52.38%\n",
      "Epoch 1: Train loss: 9.528464138507843. Train accuracy 50.20%. Test accuracy 47.62%\n",
      "------ nb_hidden = 160 ------\n",
      "----------------- fold 1/5 -----------------\n",
      "Epoch 0: Train loss: 16.668775618076324. Train accuracy 51.98%. Test accuracy 42.19%\n",
      "Epoch 1: Train loss: 9.146460890769958. Train accuracy 53.17%. Test accuracy 51.56%\n",
      "----------------- fold 2/5 -----------------\n",
      "Epoch 0: Train loss: 15.141155898571014. Train accuracy 54.55%. Test accuracy 41.27%\n",
      "Epoch 1: Train loss: 9.079569876194. Train accuracy 50.59%. Test accuracy 57.14%\n",
      "----------------- fold 3/5 -----------------\n",
      "Epoch 0: Train loss: 18.64529949426651. Train accuracy 51.38%. Test accuracy 46.03%\n",
      "Epoch 1: Train loss: 9.123469829559326. Train accuracy 51.78%. Test accuracy 42.86%\n",
      "----------------- fold 4/5 -----------------\n",
      "Epoch 0: Train loss: 15.680999994277954. Train accuracy 49.41%. Test accuracy 55.56%\n",
      "Epoch 1: Train loss: 9.45113092660904. Train accuracy 52.17%. Test accuracy 46.03%\n",
      "----------------- fold 5/5 -----------------\n",
      "Epoch 0: Train loss: 17.740527153015137. Train accuracy 52.96%. Test accuracy 47.62%\n",
      "Epoch 1: Train loss: 9.318442642688751. Train accuracy 50.20%. Test accuracy 47.62%\n",
      "------ nb_hidden = 200 ------\n",
      "----------------- fold 1/5 -----------------\n",
      "Epoch 0: Train loss: 20.265440225601196. Train accuracy 50.40%. Test accuracy 40.62%\n",
      "Epoch 1: Train loss: 9.041676759719849. Train accuracy 51.59%. Test accuracy 42.19%\n",
      "----------------- fold 2/5 -----------------\n",
      "Epoch 0: Train loss: 12.589685678482056. Train accuracy 53.36%. Test accuracy 42.86%\n",
      "Epoch 1: Train loss: 9.487431228160858. Train accuracy 55.34%. Test accuracy 47.62%\n",
      "----------------- fold 3/5 -----------------\n",
      "Epoch 0: Train loss: 15.661687135696411. Train accuracy 57.31%. Test accuracy 57.14%\n",
      "Epoch 1: Train loss: 9.057884454727173. Train accuracy 52.17%. Test accuracy 44.44%\n",
      "----------------- fold 4/5 -----------------\n",
      "Epoch 0: Train loss: 20.90564388036728. Train accuracy 50.99%. Test accuracy 44.44%\n",
      "Epoch 1: Train loss: 8.96691745519638. Train accuracy 53.36%. Test accuracy 50.79%\n",
      "----------------- fold 5/5 -----------------\n",
      "Epoch 0: Train loss: 17.571148931980133. Train accuracy 49.01%. Test accuracy 49.21%\n",
      "Epoch 1: Train loss: 9.097509145736694. Train accuracy 55.73%. Test accuracy 47.62%\n"
     ]
    }
   ],
   "source": [
    "asd = cross_validate_grid_search(CNN2D_MaxPool, train, epochs=2)"
   ]
  },
  {
   "cell_type": "code",
   "execution_count": 6,
   "metadata": {},
   "outputs": [
    {
     "data": {
      "text/plain": [
       "{'activation': torch.nn.modules.activation.ReLU,\n",
       " 'nb_hidden': 40,\n",
       " 'optimizer': torch.optim.adam.Adam,\n",
       " 'weight_decays': 1e-06}"
      ]
     },
     "execution_count": 6,
     "metadata": {},
     "output_type": "execute_result"
    }
   ],
   "source": [
    "grid_search_on={\n",
    "        \"nb_hidden\": [np.asscalar(n) for n in np.arange(40, 201, 40)],\n",
    "        \"activation\": [nn.ReLU, nn.Tanh],\n",
    "        \"optimizer\": [optim.Adam, optim.Adagrad, optim.Adamax],\n",
    "        \"weight_decay\": [np.asscalar(wd) for wd in np.logspace(-6, -1, 4)],\n",
    "    }\n",
    "bestParams = {}\n",
    "for param in grid_search_on.keys():\n",
    "    bestParams[param] = grid_search_on[param][0]\n",
    "bestParams"
   ]
  }
 ],
 "metadata": {
  "kernelspec": {
   "display_name": "Python [conda env:ada]",
   "language": "python",
   "name": "conda-env-ada-py"
  },
  "language_info": {
   "codemirror_mode": {
    "name": "ipython",
    "version": 3
   },
   "file_extension": ".py",
   "mimetype": "text/x-python",
   "name": "python",
   "nbconvert_exporter": "python",
   "pygments_lexer": "ipython3",
   "version": "3.6.3"
  }
 },
 "nbformat": 4,
 "nbformat_minor": 2
}
