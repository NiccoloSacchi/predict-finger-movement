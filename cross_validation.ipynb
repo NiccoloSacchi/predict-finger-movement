{
 "cells": [
  {
   "cell_type": "code",
   "execution_count": 3,
   "metadata": {
    "collapsed": false
   },
   "outputs": [
    {
     "name": "stdout",
     "output_type": "stream",
     "text": [
      "The autoreload extension is already loaded. To reload it, use:\n",
      "  %reload_ext autoreload\n"
     ]
    }
   ],
   "source": [
    "import dlc_bci as bci\n",
    "\n",
    "import torch\n",
    "import numpy as np\n",
    "\n",
    "from models import *\n",
    "from callbacks import keep_best_model, store_best_model\n",
    "\n",
    "from types import SimpleNamespace \n",
    "\n",
    "\n",
    "from torch import optim\n",
    "from torch import nn\n",
    "from torch import Tensor\n",
    "from torch.autograd import Variable\n",
    "\n",
    "device = torch.device(\"cuda:1\" if torch.cuda.is_available() else \"cpu\")\n",
    "\n",
    "%matplotlib inline\n",
    "%load_ext autoreload\n",
    "%autoreload 2"
   ]
  },
  {
   "cell_type": "markdown",
   "metadata": {},
   "source": [
    "### Load"
   ]
  },
  {
   "cell_type": "code",
   "execution_count": 4,
   "metadata": {
    "collapsed": false
   },
   "outputs": [
    {
     "name": "stdout",
     "output_type": "stream",
     "text": [
      "<class 'torch.Tensor'> torch.Size([316, 28, 50])\n",
      "<class 'torch.Tensor'> torch.Size([316])\n",
      "<class 'torch.Tensor'> torch.Size([100, 28, 50])\n",
      "<class 'torch.Tensor'> torch.Size([100])\n"
     ]
    }
   ],
   "source": [
    "one_khz=False\n",
    "\n",
    "train = SimpleNamespace()\n",
    "train.X, train.y = bci.load(root='./data_bci', one_khz=one_khz)\n",
    "print(str(type(train.X)), train.X.size())\n",
    "print(str(type(train.y)), train.y.size())\n",
    "\n",
    "test = SimpleNamespace()\n",
    "test.X, test.y = bci.load(root='./data_bci', train=False, one_khz=one_khz)\n",
    "print(str(type(test.X)), test.X.size())\n",
    "print(str(type(test.y)), test.y.size())"
   ]
  },
  {
   "cell_type": "code",
   "execution_count": 2,
   "metadata": {
    "collapsed": false
   },
   "outputs": [],
   "source": [
    "def cross_validate_grid_search(\n",
    "    modelClass, \n",
    "    train, \n",
    "    epochs=100,\n",
    "    n_splits=5,\n",
    "    grid_search_on=[\n",
    "        # first optimize structure\n",
    "        (\"nb_layers\", list(range(1, 7))),\n",
    "        (\"nb_hidden\", [np.asscalar(n) for n in np.arange(40, 201, 40)]),\n",
    "        (\"activation\", [nn.ReLU, nn.Tanh, nn.ELU]),\n",
    "        # second optimize optimizer\n",
    "        (\"optimizer\", [optim.Adam, optim.Adadelta, optim.Adamax]),\n",
    "        # then optimize regularization\n",
    "        (\"weight_decay\", [0] + [np.asscalar(wd) for wd in np.logspace(-6, -2, 5, base=np.e)]),\n",
    "        (\"dropout\", [np.asscalar(d) for d in np.linspace(0, 0.30, 4)]),\n",
    "        # finally re-optimize number of layers (very important parameter)\n",
    "        (\"nb_layers\", list(range(1, 7)))\n",
    "    ]\n",
    "):\n",
    "    \"\"\" Apply a simplified grid search on the parameters in \"grid_search_on\" and optimize\n",
    "    one at a time (to keep the complexity linear).    \n",
    "    Finally save the best configuration.\n",
    "    \"\"\"\n",
    "    \n",
    "    X_tr, y_tr = modelClass.prepare_data(train)\n",
    "    X_tr = X_tr.to(device)\n",
    "    y_tr = y_tr.to(device)\n",
    "\n",
    "    print(\"Optimizing in order:\", list(map(lambda x: x[0], grid_search_on)))\n",
    "    # here we store the best parameters as we find them (initialized with just the first parameter)\n",
    "    bestParams = {}\n",
    "    param_map = dict(grid_search_on)\n",
    "    for param in param_map.keys():\n",
    "        bestParams[param] = param_map[param][0]\n",
    "    \n",
    "    for param in grid_search_on:\n",
    "        modelScores = {\n",
    "            \"tr_scores\": [],\n",
    "            \"va_scores\": []\n",
    "        }\n",
    "        param_name = param[0]\n",
    "        param_values = param[1]\n",
    "        print(\"\\nCross validation on\", param_name+\":\")\n",
    "        for n in param_values: # scan through the parameter values\n",
    "            print(\"------\", param_name, \"=\", str(n), \"------\")\n",
    "            bestParams[param_name] = n\n",
    "            model = modelClass(**bestParams)\n",
    "            model.to(device)\n",
    "            result = model.cross_validate(X_tr, y_tr, verbose=False, epochs=epochs, n_splits=n_splits)\n",
    "\n",
    "            modelScores[\"tr_scores\"].append(result[\"train_score\"])\n",
    "            modelScores[\"va_scores\"].append(result[\"test_score\"])\n",
    "            print(\"Validation scores:\", result[\"test_score\"])\n",
    "        \n",
    "        # save the obtained scores \n",
    "        model.save_data(modelScores, \"cross_validation/scores/\"+param_name, pickle_protocol=0)\n",
    "        \n",
    "        # compute the mean validation score for each param \n",
    "        modelScores[\"va_scores\"] = list(map(lambda scores: np.asscalar(np.median(scores)), modelScores[\"va_scores\"]))\n",
    "        # get the best parameter\n",
    "        bestParams[param_name] = param_values[np.argmax(modelScores[\"va_scores\"])]\n",
    "        print(\"Best\", param_name + \":\", str(bestParams[param_name]) + \". Score:\", np.max(modelScores[\"va_scores\"]))\n",
    "    \n",
    "    model.save_data(grid_search_on, \"cross_validation/tried_params\", pickle_protocol=0)\n",
    "    model.save_data(bestParams, \"cross_validation/best_params\", pickle_protocol=0)\n",
    "    \n",
    "    model.save_data(grid_search_on, \"cross_validation/tried_params_\")\n",
    "    model.save_data(bestParams, \"cross_validation/best_params_\")\n",
    "    # [np.asscalar(wd) for wd in np.logspace(-6, -1, 4)]\n",
    "    # best_n = n_hidden_values[np.argmax(modelScores[\"va_scores\"])]\n",
    "    # print('Best #hidden units:', best_n)\n",
    "    # print('Test score:',\n",
    "    #       CNN2D(n)\n",
    "    #       .fit(X_tr, y_tr, epochs=50)\n",
    "    #       .score(X_te, y_te))"
   ]
  },
  {
   "cell_type": "markdown",
   "metadata": {},
   "source": [
    "- cross validate gird search on `CNN2D_MaxPool`"
   ]
  },
  {
   "cell_type": "code",
   "execution_count": 6,
   "metadata": {
    "collapsed": false
   },
   "outputs": [
    {
     "name": "stdout",
     "output_type": "stream",
     "text": [
      "Optimizing in order: ['nb_layers', 'nb_hidden', 'activation', 'optimizer', 'weight_decay', 'dropout', 'nb_layers']\n",
      "\n",
      "Cross validation on nb_layers:\n",
      "------ nb_layers = 1 ------\n"
     ]
    },
    {
     "name": "stderr",
     "output_type": "stream",
     "text": [
      "/cvlabdata1/home/sacchi/others/predict-finger-movement/modelWrapper.py:126: UserWarning: invalid index of a 0-dim tensor. This will be an error in PyTorch 0.5. Use tensor.item() to convert a 0-dim tensor to a Python number\n",
      "  sum_loss_train += loss.data[0].item()\n"
     ]
    },
    {
     "name": "stdout",
     "output_type": "stream",
     "text": [
      "Validation scores: [0.75, 0.6507936507936508, 0.7619047619047619, 0.7142857142857143, 0.746031746031746]\n",
      "------ nb_layers = 2 ------\n",
      "Validation scores: [0.75, 0.7619047619047619, 0.7301587301587301, 0.7301587301587301, 0.746031746031746]\n",
      "------ nb_layers = 3 ------\n",
      "Validation scores: [0.75, 0.746031746031746, 0.7619047619047619, 0.7619047619047619, 0.746031746031746]\n",
      "------ nb_layers = 4 ------\n",
      "Validation scores: [0.78125, 0.7142857142857143, 0.7301587301587301, 0.7936507936507936, 0.7301587301587301]\n",
      "------ nb_layers = 5 ------\n",
      "Validation scores: [0.640625, 0.746031746031746, 0.7936507936507936, 0.7936507936507936, 0.8412698412698413]\n",
      "------ nb_layers = 6 ------\n",
      "Validation scores: [0.765625, 0.7936507936507936, 0.8095238095238095, 0.746031746031746, 0.7777777777777778]\n",
      "Best nb_layers: 5. Score: 0.793650793651\n",
      "\n",
      "Cross validation on nb_hidden:\n",
      "------ nb_hidden = 40 ------\n",
      "Validation scores: [0.71875, 0.7619047619047619, 0.8571428571428571, 0.8095238095238095, 0.7142857142857143]\n",
      "------ nb_hidden = 80 ------\n",
      "Validation scores: [0.75, 0.6666666666666666, 0.8412698412698413, 0.8095238095238095, 0.7301587301587301]\n",
      "------ nb_hidden = 120 ------\n",
      "Validation scores: [0.734375, 0.7142857142857143, 0.8571428571428571, 0.746031746031746, 0.746031746031746]\n",
      "------ nb_hidden = 160 ------\n",
      "Validation scores: [0.6875, 0.7619047619047619, 0.7936507936507936, 0.7301587301587301, 0.7301587301587301]\n",
      "------ nb_hidden = 200 ------\n",
      "Validation scores: [0.703125, 0.7301587301587301, 0.8412698412698413, 0.6666666666666666, 0.7301587301587301]\n",
      "Best nb_hidden: 40. Score: 0.761904761905\n",
      "\n",
      "Cross validation on activation:\n",
      "------ activation = <class 'torch.nn.modules.activation.ReLU'> ------\n",
      "Validation scores: [0.796875, 0.6666666666666666, 0.8412698412698413, 0.7619047619047619, 0.746031746031746]\n",
      "------ activation = <class 'torch.nn.modules.activation.Tanh'> ------\n",
      "Validation scores: [0.734375, 0.6190476190476191, 0.5714285714285714, 0.5873015873015873, 0.6349206349206349]\n",
      "------ activation = <class 'torch.nn.modules.activation.ELU'> ------\n",
      "Validation scores: [0.59375, 0.7619047619047619, 0.873015873015873, 0.746031746031746, 0.7777777777777778]\n",
      "Best activation: <class 'torch.nn.modules.activation.ReLU'>. Score: 0.761904761905\n",
      "\n",
      "Cross validation on optimizer:\n",
      "------ optimizer = <class 'torch.optim.adam.Adam'> ------\n",
      "Validation scores: [0.78125, 0.7142857142857143, 0.8253968253968254, 0.6984126984126984, 0.7619047619047619]\n",
      "------ optimizer = <class 'torch.optim.adadelta.Adadelta'> ------\n",
      "Validation scores: [0.765625, 0.6984126984126984, 0.7777777777777778, 0.7936507936507936, 0.7777777777777778]\n",
      "------ optimizer = <class 'torch.optim.adamax.Adamax'> ------\n",
      "Validation scores: [0.703125, 0.7301587301587301, 0.7142857142857143, 0.6984126984126984, 0.6984126984126984]\n",
      "Best optimizer: <class 'torch.optim.adadelta.Adadelta'>. Score: 0.777777777778\n",
      "\n",
      "Cross validation on weight_decay:\n",
      "------ weight_decay = 0 ------\n",
      "Validation scores: [0.84375, 0.7619047619047619, 0.8412698412698413, 0.7301587301587301, 0.7936507936507936]\n",
      "------ weight_decay = 0.0024787521766663594 ------\n",
      "Validation scores: [0.421875, 0.4126984126984127, 0.7936507936507936, 0.7619047619047619, 0.5238095238095238]\n",
      "------ weight_decay = 0.006737946999085469 ------\n",
      "Validation scores: [0.421875, 0.4126984126984127, 0.4444444444444444, 0.4444444444444444, 0.5238095238095238]\n",
      "------ weight_decay = 0.018315638888734186 ------\n",
      "Validation scores: [0.421875, 0.4126984126984127, 0.4444444444444444, 0.4444444444444444, 0.5238095238095238]\n",
      "------ weight_decay = 0.04978706836786395 ------\n",
      "Validation scores: [0.421875, 0.4126984126984127, 0.4444444444444444, 0.4444444444444444, 0.5238095238095238]\n",
      "------ weight_decay = 0.1353352832366127 ------\n",
      "Validation scores: [0.421875, 0.4126984126984127, 0.4444444444444444, 0.4444444444444444, 0.5238095238095238]\n",
      "Best weight_decay: 0. Score: 0.793650793651\n",
      "\n",
      "Cross validation on dropout:\n",
      "------ dropout = 0.0 ------\n",
      "Validation scores: [0.734375, 0.746031746031746, 0.7936507936507936, 0.6666666666666666, 0.6984126984126984]\n",
      "------ dropout = 0.09999999999999999 ------\n",
      "Validation scores: [0.71875, 0.7619047619047619, 0.6507936507936508, 0.6507936507936508, 0.6031746031746031]\n",
      "------ dropout = 0.19999999999999998 ------\n",
      "Validation scores: [0.71875, 0.7301587301587301, 0.5396825396825397, 0.6349206349206349, 0.47619047619047616]\n",
      "------ dropout = 0.3 ------\n",
      "Validation scores: [0.8125, 0.5873015873015873, 0.7142857142857143, 0.5714285714285714, 0.6825396825396826]\n",
      "Best dropout: 0.0. Score: 0.734375\n",
      "\n",
      "Cross validation on nb_layers:\n",
      "------ nb_layers = 1 ------\n",
      "Validation scores: [0.75, 0.6984126984126984, 0.8412698412698413, 0.6666666666666666, 0.746031746031746]\n",
      "------ nb_layers = 2 ------\n",
      "Validation scores: [0.640625, 0.746031746031746, 0.8095238095238095, 0.8095238095238095, 0.6984126984126984]\n",
      "------ nb_layers = 3 ------\n",
      "Validation scores: [0.703125, 0.7619047619047619, 0.8253968253968254, 0.7936507936507936, 0.7142857142857143]\n",
      "------ nb_layers = 4 ------\n",
      "Validation scores: [0.703125, 0.746031746031746, 0.8412698412698413, 0.6666666666666666, 0.6666666666666666]\n",
      "------ nb_layers = 5 ------\n",
      "Validation scores: [0.734375, 0.746031746031746, 0.7936507936507936, 0.6984126984126984, 0.7142857142857143]\n",
      "------ nb_layers = 6 ------\n",
      "Validation scores: [0.703125, 0.7301587301587301, 0.8095238095238095, 0.8412698412698413, 0.7142857142857143]\n",
      "Best nb_layers: 3. Score: 0.761904761905\n"
     ]
    }
   ],
   "source": [
    "cross_validate_grid_search(CNN2D_MaxPool, train, epochs=100)"
   ]
  },
  {
   "cell_type": "markdown",
   "metadata": {},
   "source": [
    "- cross validate gird search on `CNN_1D_MaxPool`"
   ]
  },
  {
   "cell_type": "code",
   "execution_count": 7,
   "metadata": {
    "collapsed": false
   },
   "outputs": [
    {
     "name": "stdout",
     "output_type": "stream",
     "text": [
      "Optimizing in order: ['nb_layers', 'nb_hidden', 'activation', 'optimizer', 'weight_decay', 'dropout', 'nb_layers']\n",
      "\n",
      "Cross validation on nb_layers:\n",
      "------ nb_layers = 1 ------\n"
     ]
    },
    {
     "name": "stderr",
     "output_type": "stream",
     "text": [
      "/cvlabdata1/home/sacchi/others/predict-finger-movement/modelWrapper.py:126: UserWarning: invalid index of a 0-dim tensor. This will be an error in PyTorch 0.5. Use tensor.item() to convert a 0-dim tensor to a Python number\n",
      "  sum_loss_train += loss.data[0].item()\n"
     ]
    },
    {
     "name": "stdout",
     "output_type": "stream",
     "text": [
      "Validation scores: [0.765625, 0.7777777777777778, 0.7936507936507936, 0.6825396825396826, 0.6349206349206349]\n",
      "------ nb_layers = 2 ------\n",
      "Validation scores: [0.734375, 0.7142857142857143, 0.8412698412698413, 0.8412698412698413, 0.6190476190476191]\n",
      "------ nb_layers = 3 ------\n",
      "Validation scores: [0.671875, 0.5396825396825397, 0.8412698412698413, 0.746031746031746, 0.5714285714285714]\n",
      "------ nb_layers = 4 ------\n",
      "Validation scores: [0.671875, 0.7936507936507936, 0.7936507936507936, 0.7619047619047619, 0.6666666666666666]\n",
      "------ nb_layers = 5 ------\n",
      "Validation scores: [0.578125, 0.746031746031746, 0.8412698412698413, 0.7142857142857143, 0.6984126984126984]\n",
      "------ nb_layers = 6 ------\n",
      "Validation scores: [0.625, 0.6984126984126984, 0.746031746031746, 0.5079365079365079, 0.7142857142857143]\n",
      "Best nb_layers: 1. Score: 0.765625\n",
      "\n",
      "Cross validation on nb_hidden:\n",
      "------ nb_hidden = 40 ------\n",
      "Validation scores: [0.796875, 0.8253968253968254, 0.8253968253968254, 0.7142857142857143, 0.6984126984126984]\n",
      "------ nb_hidden = 80 ------\n",
      "Validation scores: [0.71875, 0.7619047619047619, 0.7936507936507936, 0.7301587301587301, 0.7301587301587301]\n",
      "------ nb_hidden = 120 ------\n",
      "Validation scores: [0.703125, 0.746031746031746, 0.7936507936507936, 0.7777777777777778, 0.7301587301587301]\n",
      "------ nb_hidden = 160 ------\n",
      "Validation scores: [0.6875, 0.746031746031746, 0.8253968253968254, 0.7936507936507936, 0.5873015873015873]\n",
      "------ nb_hidden = 200 ------\n",
      "Validation scores: [0.75, 0.7619047619047619, 0.7936507936507936, 0.8253968253968254, 0.6825396825396826]\n",
      "Best nb_hidden: 40. Score: 0.796875\n",
      "\n",
      "Cross validation on activation:\n",
      "------ activation = <class 'torch.nn.modules.activation.ReLU'> ------\n",
      "Validation scores: [0.8125, 0.7777777777777778, 0.5238095238095238, 0.746031746031746, 0.7301587301587301]\n",
      "------ activation = <class 'torch.nn.modules.activation.Tanh'> ------\n",
      "Validation scores: [0.765625, 0.6507936507936508, 0.6507936507936508, 0.6349206349206349, 0.6984126984126984]\n",
      "------ activation = <class 'torch.nn.modules.activation.ELU'> ------\n",
      "Validation scores: [0.8125, 0.7936507936507936, 0.746031746031746, 0.8253968253968254, 0.7142857142857143]\n",
      "Best activation: <class 'torch.nn.modules.activation.ELU'>. Score: 0.793650793651\n",
      "\n",
      "Cross validation on optimizer:\n",
      "------ optimizer = <class 'torch.optim.adam.Adam'> ------\n",
      "Validation scores: [0.734375, 0.746031746031746, 0.746031746031746, 0.6984126984126984, 0.6349206349206349]\n",
      "------ optimizer = <class 'torch.optim.adadelta.Adadelta'> ------\n",
      "Validation scores: [0.703125, 0.6825396825396826, 0.7936507936507936, 0.7936507936507936, 0.6666666666666666]\n",
      "------ optimizer = <class 'torch.optim.adamax.Adamax'> ------\n",
      "Validation scores: [0.71875, 0.7777777777777778, 0.8253968253968254, 0.7777777777777778, 0.6984126984126984]\n",
      "Best optimizer: <class 'torch.optim.adamax.Adamax'>. Score: 0.777777777778\n",
      "\n",
      "Cross validation on weight_decay:\n",
      "------ weight_decay = 0 ------\n",
      "Validation scores: [0.859375, 0.6984126984126984, 0.8253968253968254, 0.6666666666666666, 0.7142857142857143]\n",
      "------ weight_decay = 0.0024787521766663594 ------\n",
      "Validation scores: [0.8125, 0.7936507936507936, 0.8253968253968254, 0.6984126984126984, 0.6507936507936508]\n",
      "------ weight_decay = 0.006737946999085469 ------\n",
      "Validation scores: [0.828125, 0.746031746031746, 0.7936507936507936, 0.7142857142857143, 0.7301587301587301]\n",
      "------ weight_decay = 0.018315638888734186 ------\n",
      "Validation scores: [0.765625, 0.8095238095238095, 0.8095238095238095, 0.7142857142857143, 0.6666666666666666]\n",
      "------ weight_decay = 0.04978706836786395 ------\n",
      "Validation scores: [0.75, 0.7301587301587301, 0.8412698412698413, 0.7619047619047619, 0.6984126984126984]\n",
      "------ weight_decay = 0.1353352832366127 ------\n",
      "Validation scores: [0.78125, 0.7619047619047619, 0.7777777777777778, 0.7619047619047619, 0.7777777777777778]\n",
      "Best weight_decay: 0.0024787521766663594. Score: 0.793650793651\n",
      "\n",
      "Cross validation on dropout:\n",
      "------ dropout = 0.0 ------\n",
      "Validation scores: [0.78125, 0.746031746031746, 0.8412698412698413, 0.6666666666666666, 0.6984126984126984]\n",
      "------ dropout = 0.09999999999999999 ------\n",
      "Validation scores: [0.71875, 0.7936507936507936, 0.873015873015873, 0.8095238095238095, 0.6825396825396826]\n",
      "------ dropout = 0.19999999999999998 ------\n",
      "Validation scores: [0.71875, 0.6984126984126984, 0.8095238095238095, 0.7301587301587301, 0.6666666666666666]\n",
      "------ dropout = 0.3 ------\n",
      "Validation scores: [0.71875, 0.7619047619047619, 0.7936507936507936, 0.7142857142857143, 0.746031746031746]\n",
      "Best dropout: 0.09999999999999999. Score: 0.793650793651\n",
      "\n",
      "Cross validation on nb_layers:\n",
      "------ nb_layers = 1 ------\n",
      "Validation scores: [0.765625, 0.7142857142857143, 0.8253968253968254, 0.746031746031746, 0.7619047619047619]\n",
      "------ nb_layers = 2 ------\n",
      "Validation scores: [0.765625, 0.746031746031746, 0.8253968253968254, 0.6825396825396826, 0.6507936507936508]\n",
      "------ nb_layers = 3 ------\n",
      "Validation scores: [0.734375, 0.6984126984126984, 0.8253968253968254, 0.7936507936507936, 0.7301587301587301]\n",
      "------ nb_layers = 4 ------\n",
      "Validation scores: [0.71875, 0.7619047619047619, 0.7777777777777778, 0.8095238095238095, 0.873015873015873]\n",
      "------ nb_layers = 5 ------\n",
      "Validation scores: [0.78125, 0.4126984126984127, 0.4444444444444444, 0.7301587301587301, 0.5238095238095238]\n",
      "------ nb_layers = 6 ------\n",
      "Validation scores: [0.421875, 0.4126984126984127, 0.4444444444444444, 0.4444444444444444, 0.5238095238095238]\n",
      "Best nb_layers: 4. Score: 0.777777777778\n"
     ]
    }
   ],
   "source": [
    "cross_validate_grid_search(CNN_1D_MaxPool, train, epochs=100)"
   ]
  },
  {
   "cell_type": "markdown",
   "metadata": {},
   "source": [
    "- cross validate gird search on `CNN_1D_BatchNorm`"
   ]
  },
  {
   "cell_type": "code",
   "execution_count": 8,
   "metadata": {
    "collapsed": false
   },
   "outputs": [
    {
     "name": "stdout",
     "output_type": "stream",
     "text": [
      "Optimizing in order: ['nb_layers', 'nb_hidden', 'activation', 'optimizer', 'weight_decay', 'dropout', 'nb_layers']\n",
      "\n",
      "Cross validation on nb_layers:\n",
      "------ nb_layers = 1 ------\n"
     ]
    },
    {
     "name": "stderr",
     "output_type": "stream",
     "text": [
      "/cvlabdata1/home/sacchi/others/predict-finger-movement/modelWrapper.py:126: UserWarning: invalid index of a 0-dim tensor. This will be an error in PyTorch 0.5. Use tensor.item() to convert a 0-dim tensor to a Python number\n",
      "  sum_loss_train += loss.data[0].item()\n"
     ]
    },
    {
     "name": "stdout",
     "output_type": "stream",
     "text": [
      "Validation scores: [0.75, 0.7619047619047619, 0.6984126984126984, 0.7619047619047619, 0.7619047619047619]\n",
      "------ nb_layers = 2 ------\n",
      "Validation scores: [0.71875, 0.6825396825396826, 0.7777777777777778, 0.7301587301587301, 0.6031746031746031]\n",
      "------ nb_layers = 3 ------\n",
      "Validation scores: [0.546875, 0.5555555555555556, 0.6984126984126984, 0.7777777777777778, 0.5079365079365079]\n",
      "------ nb_layers = 4 ------\n",
      "Validation scores: [0.65625, 0.6666666666666666, 0.6825396825396826, 0.6507936507936508, 0.6666666666666666]\n",
      "------ nb_layers = 5 ------\n",
      "Validation scores: [0.5625, 0.6507936507936508, 0.6984126984126984, 0.6825396825396826, 0.5079365079365079]\n",
      "------ nb_layers = 6 ------\n",
      "Validation scores: [0.625, 0.5555555555555556, 0.47619047619047616, 0.5079365079365079, 0.5238095238095238]\n",
      "Best nb_layers: 1. Score: 0.761904761905\n",
      "\n",
      "Cross validation on nb_hidden:\n",
      "------ nb_hidden = 40 ------\n",
      "Validation scores: [0.734375, 0.6984126984126984, 0.8412698412698413, 0.6825396825396826, 0.6666666666666666]\n",
      "------ nb_hidden = 80 ------\n",
      "Validation scores: [0.765625, 0.6984126984126984, 0.746031746031746, 0.6825396825396826, 0.7142857142857143]\n",
      "------ nb_hidden = 120 ------\n",
      "Validation scores: [0.765625, 0.7777777777777778, 0.7142857142857143, 0.6349206349206349, 0.6349206349206349]\n",
      "------ nb_hidden = 160 ------\n",
      "Validation scores: [0.78125, 0.7777777777777778, 0.746031746031746, 0.746031746031746, 0.7936507936507936]\n",
      "------ nb_hidden = 200 ------\n",
      "Validation scores: [0.71875, 0.746031746031746, 0.8253968253968254, 0.6825396825396826, 0.7142857142857143]\n",
      "Best nb_hidden: 160. Score: 0.777777777778\n",
      "\n",
      "Cross validation on activation:\n",
      "------ activation = <class 'torch.nn.modules.activation.ReLU'> ------\n",
      "Validation scores: [0.75, 0.7142857142857143, 0.7301587301587301, 0.7301587301587301, 0.6825396825396826]\n",
      "------ activation = <class 'torch.nn.modules.activation.Tanh'> ------\n",
      "Validation scores: [0.78125, 0.746031746031746, 0.8095238095238095, 0.8253968253968254, 0.7301587301587301]\n",
      "------ activation = <class 'torch.nn.modules.activation.ELU'> ------\n",
      "Validation scores: [0.8125, 0.8253968253968254, 0.8095238095238095, 0.8095238095238095, 0.746031746031746]\n",
      "Best activation: <class 'torch.nn.modules.activation.ELU'>. Score: 0.809523809524\n",
      "\n",
      "Cross validation on optimizer:\n",
      "------ optimizer = <class 'torch.optim.adam.Adam'> ------\n",
      "Validation scores: [0.828125, 0.7301587301587301, 0.8095238095238095, 0.7936507936507936, 0.6507936507936508]\n",
      "------ optimizer = <class 'torch.optim.adadelta.Adadelta'> ------\n",
      "Validation scores: [0.75, 0.7777777777777778, 0.8253968253968254, 0.8253968253968254, 0.7142857142857143]\n",
      "------ optimizer = <class 'torch.optim.adamax.Adamax'> ------\n",
      "Validation scores: [0.84375, 0.6666666666666666, 0.8253968253968254, 0.8095238095238095, 0.8412698412698413]\n",
      "Best optimizer: <class 'torch.optim.adamax.Adamax'>. Score: 0.825396825397\n",
      "\n",
      "Cross validation on weight_decay:\n",
      "------ weight_decay = 0 ------\n",
      "Validation scores: [0.78125, 0.7142857142857143, 0.7301587301587301, 0.7777777777777778, 0.746031746031746]\n",
      "------ weight_decay = 0.0024787521766663594 ------\n",
      "Validation scores: [0.828125, 0.7936507936507936, 0.8571428571428571, 0.7936507936507936, 0.8095238095238095]\n",
      "------ weight_decay = 0.006737946999085469 ------\n",
      "Validation scores: [0.75, 0.8253968253968254, 0.7936507936507936, 0.8253968253968254, 0.7619047619047619]\n",
      "------ weight_decay = 0.018315638888734186 ------\n",
      "Validation scores: [0.75, 0.7777777777777778, 0.7777777777777778, 0.746031746031746, 0.6984126984126984]\n",
      "------ weight_decay = 0.04978706836786395 ------\n",
      "Validation scores: [0.765625, 0.6984126984126984, 0.8095238095238095, 0.8253968253968254, 0.8412698412698413]\n",
      "------ weight_decay = 0.1353352832366127 ------\n",
      "Validation scores: [0.703125, 0.8095238095238095, 0.7777777777777778, 0.7936507936507936, 0.7936507936507936]\n",
      "Best weight_decay: 0.0024787521766663594. Score: 0.809523809524\n",
      "\n",
      "Cross validation on dropout:\n",
      "------ dropout = 0.0 ------\n",
      "Validation scores: [0.84375, 0.6984126984126984, 0.7936507936507936, 0.746031746031746, 0.746031746031746]\n",
      "------ dropout = 0.09999999999999999 ------\n",
      "Validation scores: [0.796875, 0.7936507936507936, 0.7619047619047619, 0.8412698412698413, 0.746031746031746]\n",
      "------ dropout = 0.19999999999999998 ------\n",
      "Validation scores: [0.859375, 0.746031746031746, 0.8095238095238095, 0.6984126984126984, 0.7301587301587301]\n",
      "------ dropout = 0.3 ------\n",
      "Validation scores: [0.8125, 0.746031746031746, 0.8095238095238095, 0.8571428571428571, 0.8095238095238095]\n",
      "Best dropout: 0.3. Score: 0.809523809524\n",
      "\n",
      "Cross validation on nb_layers:\n",
      "------ nb_layers = 1 ------\n",
      "Validation scores: [0.75, 0.7619047619047619, 0.8095238095238095, 0.7777777777777778, 0.6666666666666666]\n",
      "------ nb_layers = 2 ------\n",
      "Validation scores: [0.78125, 0.7777777777777778, 0.7936507936507936, 0.8571428571428571, 0.7301587301587301]\n",
      "------ nb_layers = 3 ------\n",
      "Validation scores: [0.75, 0.7301587301587301, 0.7619047619047619, 0.8095238095238095, 0.7142857142857143]\n",
      "------ nb_layers = 4 ------\n",
      "Validation scores: [0.84375, 0.7301587301587301, 0.8412698412698413, 0.7777777777777778, 0.7619047619047619]\n",
      "------ nb_layers = 5 ------\n",
      "Validation scores: [0.734375, 0.7936507936507936, 0.8571428571428571, 0.7777777777777778, 0.8253968253968254]\n",
      "------ nb_layers = 6 ------\n",
      "Validation scores: [0.765625, 0.746031746031746, 0.8412698412698413, 0.7619047619047619, 0.8095238095238095]\n",
      "Best nb_layers: 5. Score: 0.793650793651\n"
     ]
    }
   ],
   "source": [
    "cross_validate_grid_search(CNN_1D_BatchNorm, train, epochs=100)"
   ]
  },
  {
   "cell_type": "markdown",
   "metadata": {},
   "source": [
    "- cross validate gird search on `CNN_1D_BatchNorm_Dial`"
   ]
  },
  {
   "cell_type": "code",
   "execution_count": 9,
   "metadata": {
    "collapsed": false
   },
   "outputs": [
    {
     "name": "stdout",
     "output_type": "stream",
     "text": [
      "Optimizing in order: ['nb_layers', 'nb_hidden', 'activation', 'optimizer', 'weight_decay', 'dropout', 'nb_layers']\n",
      "\n",
      "Cross validation on nb_layers:\n",
      "------ nb_layers = 1 ------\n"
     ]
    },
    {
     "name": "stderr",
     "output_type": "stream",
     "text": [
      "/cvlabdata1/home/sacchi/others/predict-finger-movement/modelWrapper.py:126: UserWarning: invalid index of a 0-dim tensor. This will be an error in PyTorch 0.5. Use tensor.item() to convert a 0-dim tensor to a Python number\n",
      "  sum_loss_train += loss.data[0].item()\n"
     ]
    },
    {
     "name": "stdout",
     "output_type": "stream",
     "text": [
      "Validation scores: [0.703125, 0.6825396825396826, 0.6666666666666666, 0.5238095238095238, 0.6031746031746031]\n",
      "------ nb_layers = 2 ------\n",
      "Validation scores: [0.609375, 0.5873015873015873, 0.6666666666666666, 0.6031746031746031, 0.5238095238095238]\n",
      "------ nb_layers = 3 ------\n",
      "Validation scores: [0.578125, 0.6507936507936508, 0.6825396825396826, 0.7301587301587301, 0.6190476190476191]\n",
      "------ nb_layers = 4 ------\n",
      "Validation scores: [0.5, 0.6666666666666666, 0.746031746031746, 0.4126984126984127, 0.4444444444444444]\n",
      "------ nb_layers = 5 ------\n",
      "Validation scores: [0.546875, 0.6190476190476191, 0.47619047619047616, 0.5555555555555556, 0.5396825396825397]\n",
      "------ nb_layers = 6 ------\n",
      "Validation scores: [0.4375, 0.5396825396825397, 0.5238095238095238, 0.5079365079365079, 0.5238095238095238]\n",
      "Best nb_layers: 1. Score: 0.666666666667\n",
      "\n",
      "Cross validation on nb_hidden:\n",
      "------ nb_hidden = 40 ------\n",
      "Validation scores: [0.75, 0.7777777777777778, 0.6825396825396826, 0.7142857142857143, 0.5714285714285714]\n",
      "------ nb_hidden = 80 ------\n",
      "Validation scores: [0.671875, 0.6349206349206349, 0.6825396825396826, 0.6825396825396826, 0.6507936507936508]\n",
      "------ nb_hidden = 120 ------\n",
      "Validation scores: [0.6875, 0.6984126984126984, 0.6507936507936508, 0.7142857142857143, 0.6031746031746031]\n",
      "------ nb_hidden = 160 ------\n",
      "Validation scores: [0.640625, 0.7301587301587301, 0.6984126984126984, 0.6666666666666666, 0.5873015873015873]\n",
      "------ nb_hidden = 200 ------\n",
      "Validation scores: [0.625, 0.6031746031746031, 0.6031746031746031, 0.6666666666666666, 0.6507936507936508]\n",
      "Best nb_hidden: 40. Score: 0.714285714286\n",
      "\n",
      "Cross validation on activation:\n",
      "------ activation = <class 'torch.nn.modules.activation.ReLU'> ------\n",
      "Validation scores: [0.75, 0.6507936507936508, 0.5873015873015873, 0.6349206349206349, 0.5714285714285714]\n",
      "------ activation = <class 'torch.nn.modules.activation.Tanh'> ------\n",
      "Validation scores: [0.765625, 0.746031746031746, 0.7936507936507936, 0.746031746031746, 0.746031746031746]\n",
      "------ activation = <class 'torch.nn.modules.activation.ELU'> ------\n",
      "Validation scores: [0.8125, 0.746031746031746, 0.7619047619047619, 0.7777777777777778, 0.6825396825396826]\n",
      "Best activation: <class 'torch.nn.modules.activation.ELU'>. Score: 0.761904761905\n",
      "\n",
      "Cross validation on optimizer:\n",
      "------ optimizer = <class 'torch.optim.adam.Adam'> ------\n",
      "Validation scores: [0.8125, 0.7619047619047619, 0.7619047619047619, 0.8095238095238095, 0.7619047619047619]\n",
      "------ optimizer = <class 'torch.optim.adadelta.Adadelta'> ------\n",
      "Validation scores: [0.828125, 0.7619047619047619, 0.7777777777777778, 0.8412698412698413, 0.7301587301587301]\n",
      "------ optimizer = <class 'torch.optim.adamax.Adamax'> ------\n",
      "Validation scores: [0.765625, 0.6984126984126984, 0.8412698412698413, 0.746031746031746, 0.7142857142857143]\n",
      "Best optimizer: <class 'torch.optim.adadelta.Adadelta'>. Score: 0.777777777778\n",
      "\n",
      "Cross validation on weight_decay:\n",
      "------ weight_decay = 0 ------\n",
      "Validation scores: [0.734375, 0.7936507936507936, 0.7936507936507936, 0.9047619047619048, 0.746031746031746]\n",
      "------ weight_decay = 0.0024787521766663594 ------\n",
      "Validation scores: [0.8125, 0.7777777777777778, 0.7936507936507936, 0.8571428571428571, 0.7142857142857143]\n",
      "------ weight_decay = 0.006737946999085469 ------\n",
      "Validation scores: [0.703125, 0.746031746031746, 0.746031746031746, 0.8253968253968254, 0.6984126984126984]\n",
      "------ weight_decay = 0.018315638888734186 ------\n",
      "Validation scores: [0.75, 0.7936507936507936, 0.7936507936507936, 0.8253968253968254, 0.7142857142857143]\n",
      "------ weight_decay = 0.04978706836786395 ------\n",
      "Validation scores: [0.8125, 0.7142857142857143, 0.8253968253968254, 0.7777777777777778, 0.7777777777777778]\n",
      "------ weight_decay = 0.1353352832366127 ------\n",
      "Validation scores: [0.78125, 0.8095238095238095, 0.8412698412698413, 0.8571428571428571, 0.8412698412698413]\n",
      "Best weight_decay: 0.1353352832366127. Score: 0.84126984127\n",
      "\n",
      "Cross validation on dropout:\n",
      "------ dropout = 0.0 ------\n",
      "Validation scores: [0.8125, 0.8253968253968254, 0.8253968253968254, 0.8571428571428571, 0.873015873015873]\n",
      "------ dropout = 0.09999999999999999 ------\n",
      "Validation scores: [0.703125, 0.7777777777777778, 0.8571428571428571, 0.873015873015873, 0.8412698412698413]\n",
      "------ dropout = 0.19999999999999998 ------\n",
      "Validation scores: [0.765625, 0.7777777777777778, 0.7619047619047619, 0.873015873015873, 0.7936507936507936]\n",
      "------ dropout = 0.3 ------\n",
      "Validation scores: [0.796875, 0.7777777777777778, 0.49206349206349204, 0.8253968253968254, 0.8571428571428571]\n",
      "Best dropout: 0.09999999999999999. Score: 0.84126984127\n",
      "\n",
      "Cross validation on nb_layers:\n",
      "------ nb_layers = 1 ------\n",
      "Validation scores: [0.671875, 0.746031746031746, 0.873015873015873, 0.8095238095238095, 0.7619047619047619]\n",
      "------ nb_layers = 2 ------\n",
      "Validation scores: [0.609375, 0.7936507936507936, 0.47619047619047616, 0.5079365079365079, 0.47619047619047616]\n",
      "------ nb_layers = 3 ------\n",
      "Validation scores: [0.734375, 0.4126984126984127, 0.7301587301587301, 0.5555555555555556, 0.4444444444444444]\n",
      "------ nb_layers = 4 ------\n",
      "Validation scores: [0.640625, 0.5396825396825397, 0.4444444444444444, 0.4603174603174603, 0.5396825396825397]\n",
      "------ nb_layers = 5 ------\n",
      "Validation scores: [0.421875, 0.49206349206349204, 0.4444444444444444, 0.4444444444444444, 0.47619047619047616]\n",
      "------ nb_layers = 6 ------\n",
      "Validation scores: [0.421875, 0.4444444444444444, 0.5555555555555556, 0.5555555555555556, 0.5238095238095238]\n",
      "Best nb_layers: 1. Score: 0.761904761905\n"
     ]
    }
   ],
   "source": [
    "cross_validate_grid_search(CNN_1D_BatchNorm_Dial, train, epochs=100)"
   ]
  },
  {
   "cell_type": "markdown",
   "metadata": {},
   "source": [
    "- cross validate gird search on `CNN_1D_Residual`"
   ]
  },
  {
   "cell_type": "code",
   "execution_count": 10,
   "metadata": {
    "collapsed": false
   },
   "outputs": [
    {
     "name": "stdout",
     "output_type": "stream",
     "text": [
      "Optimizing in order: ['nb_layers', 'nb_hidden', 'activation', 'optimizer', 'weight_decay', 'dropout', 'nb_layers']\n",
      "\n",
      "Cross validation on nb_layers:\n",
      "------ nb_layers = 1 ------\n"
     ]
    },
    {
     "name": "stderr",
     "output_type": "stream",
     "text": [
      "/cvlabdata1/home/sacchi/others/predict-finger-movement/modelWrapper.py:126: UserWarning: invalid index of a 0-dim tensor. This will be an error in PyTorch 0.5. Use tensor.item() to convert a 0-dim tensor to a Python number\n",
      "  sum_loss_train += loss.data[0].item()\n"
     ]
    },
    {
     "name": "stdout",
     "output_type": "stream",
     "text": [
      "Validation scores: [0.84375, 0.7142857142857143, 0.8571428571428571, 0.7301587301587301, 0.6507936507936508]\n",
      "------ nb_layers = 2 ------\n",
      "Validation scores: [0.78125, 0.746031746031746, 0.6984126984126984, 0.746031746031746, 0.6507936507936508]\n",
      "------ nb_layers = 3 ------\n",
      "Validation scores: [0.78125, 0.6984126984126984, 0.7777777777777778, 0.6984126984126984, 0.6666666666666666]\n",
      "------ nb_layers = 4 ------\n",
      "Validation scores: [0.796875, 0.746031746031746, 0.7619047619047619, 0.6666666666666666, 0.6507936507936508]\n",
      "------ nb_layers = 5 ------\n",
      "Validation scores: [0.78125, 0.746031746031746, 0.7619047619047619, 0.746031746031746, 0.6190476190476191]\n",
      "------ nb_layers = 6 ------\n",
      "Validation scores: [0.734375, 0.6666666666666666, 0.8412698412698413, 0.6984126984126984, 0.6984126984126984]\n",
      "Best nb_layers: 2. Score: 0.746031746032\n",
      "\n",
      "Cross validation on nb_hidden:\n",
      "------ nb_hidden = 40 ------\n",
      "Validation scores: [0.71875, 0.7619047619047619, 0.7619047619047619, 0.6666666666666666, 0.5238095238095238]\n",
      "------ nb_hidden = 80 ------\n",
      "Validation scores: [0.734375, 0.746031746031746, 0.7301587301587301, 0.7619047619047619, 0.6984126984126984]\n",
      "------ nb_hidden = 120 ------\n",
      "Validation scores: [0.75, 0.7142857142857143, 0.7619047619047619, 0.746031746031746, 0.5873015873015873]\n",
      "------ nb_hidden = 160 ------\n",
      "Validation scores: [0.703125, 0.6666666666666666, 0.746031746031746, 0.7142857142857143, 0.6666666666666666]\n",
      "------ nb_hidden = 200 ------\n",
      "Validation scores: [0.75, 0.6984126984126984, 0.7936507936507936, 0.6666666666666666, 0.6507936507936508]\n",
      "Best nb_hidden: 120. Score: 0.746031746032\n",
      "\n",
      "Cross validation on activation:\n",
      "------ activation = <class 'torch.nn.modules.activation.ReLU'> ------\n",
      "Validation scores: [0.71875, 0.6666666666666666, 0.7142857142857143, 0.7142857142857143, 0.746031746031746]\n",
      "------ activation = <class 'torch.nn.modules.activation.Tanh'> ------\n",
      "Validation scores: [0.765625, 0.6190476190476191, 0.7301587301587301, 0.6666666666666666, 0.7619047619047619]\n",
      "------ activation = <class 'torch.nn.modules.activation.ELU'> ------\n",
      "Validation scores: [0.796875, 0.7301587301587301, 0.8412698412698413, 0.6825396825396826, 0.6984126984126984]\n",
      "Best activation: <class 'torch.nn.modules.activation.Tanh'>. Score: 0.730158730159\n",
      "\n",
      "Cross validation on optimizer:\n",
      "------ optimizer = <class 'torch.optim.adam.Adam'> ------\n",
      "Validation scores: [0.734375, 0.6825396825396826, 0.7936507936507936, 0.7301587301587301, 0.6507936507936508]\n",
      "------ optimizer = <class 'torch.optim.adadelta.Adadelta'> ------\n",
      "Validation scores: [0.78125, 0.6825396825396826, 0.7619047619047619, 0.6666666666666666, 0.7142857142857143]\n",
      "------ optimizer = <class 'torch.optim.adamax.Adamax'> ------\n",
      "Validation scores: [0.8125, 0.6984126984126984, 0.7777777777777778, 0.7619047619047619, 0.7142857142857143]\n",
      "Best optimizer: <class 'torch.optim.adamax.Adamax'>. Score: 0.761904761905\n",
      "\n",
      "Cross validation on weight_decay:\n",
      "------ weight_decay = 0 ------\n",
      "Validation scores: [0.65625, 0.6666666666666666, 0.746031746031746, 0.6984126984126984, 0.6507936507936508]\n",
      "------ weight_decay = 0.0024787521766663594 ------\n",
      "Validation scores: [0.796875, 0.746031746031746, 0.6825396825396826, 0.6984126984126984, 0.7142857142857143]\n",
      "------ weight_decay = 0.006737946999085469 ------\n",
      "Validation scores: [0.75, 0.6984126984126984, 0.8095238095238095, 0.7777777777777778, 0.7777777777777778]\n",
      "------ weight_decay = 0.018315638888734186 ------\n",
      "Validation scores: [0.75, 0.7301587301587301, 0.8095238095238095, 0.746031746031746, 0.6984126984126984]\n",
      "------ weight_decay = 0.04978706836786395 ------\n",
      "Validation scores: [0.78125, 0.7301587301587301, 0.8095238095238095, 0.6984126984126984, 0.7142857142857143]\n",
      "------ weight_decay = 0.1353352832366127 ------\n",
      "Validation scores: [0.65625, 0.7777777777777778, 0.7619047619047619, 0.6190476190476191, 0.6984126984126984]\n",
      "Best weight_decay: 0.006737946999085469. Score: 0.777777777778\n",
      "\n",
      "Cross validation on dropout:\n",
      "------ dropout = 0.0 ------\n",
      "Validation scores: [0.765625, 0.6666666666666666, 0.7301587301587301, 0.7142857142857143, 0.7301587301587301]\n",
      "------ dropout = 0.09999999999999999 ------\n",
      "Validation scores: [0.734375, 0.7619047619047619, 0.6825396825396826, 0.7301587301587301, 0.7619047619047619]\n",
      "------ dropout = 0.19999999999999998 ------\n",
      "Validation scores: [0.75, 0.6666666666666666, 0.746031746031746, 0.746031746031746, 0.7777777777777778]\n",
      "------ dropout = 0.3 ------\n",
      "Validation scores: [0.78125, 0.7142857142857143, 0.7936507936507936, 0.6825396825396826, 0.7301587301587301]\n",
      "Best dropout: 0.19999999999999998. Score: 0.746031746032\n",
      "\n",
      "Cross validation on nb_layers:\n",
      "------ nb_layers = 1 ------\n",
      "Validation scores: [0.71875, 0.6666666666666666, 0.8095238095238095, 0.746031746031746, 0.7142857142857143]\n",
      "------ nb_layers = 2 ------\n",
      "Validation scores: [0.796875, 0.6984126984126984, 0.6825396825396826, 0.6666666666666666, 0.7619047619047619]\n",
      "------ nb_layers = 3 ------\n",
      "Validation scores: [0.765625, 0.6666666666666666, 0.8095238095238095, 0.6666666666666666, 0.7619047619047619]\n",
      "------ nb_layers = 4 ------\n",
      "Validation scores: [0.671875, 0.746031746031746, 0.7619047619047619, 0.7619047619047619, 0.7142857142857143]\n",
      "------ nb_layers = 5 ------\n",
      "Validation scores: [0.75, 0.6984126984126984, 0.8412698412698413, 0.7301587301587301, 0.5873015873015873]\n",
      "------ nb_layers = 6 ------\n",
      "Validation scores: [0.8125, 0.6984126984126984, 0.7777777777777778, 0.7936507936507936, 0.6349206349206349]\n",
      "Best nb_layers: 6. Score: 0.777777777778\n"
     ]
    }
   ],
   "source": [
    "cross_validate_grid_search(CNN_1D_Residual, train, epochs=100)"
   ]
  }
 ],
 "metadata": {
  "kernelspec": {
   "display_name": "Python 3",
   "language": "python",
   "name": "python3"
  },
  "language_info": {
   "codemirror_mode": {
    "name": "ipython",
    "version": 3
   },
   "file_extension": ".py",
   "mimetype": "text/x-python",
   "name": "python",
   "nbconvert_exporter": "python",
   "pygments_lexer": "ipython3",
   "version": "3.6.5"
  }
 },
 "nbformat": 4,
 "nbformat_minor": 2
}
