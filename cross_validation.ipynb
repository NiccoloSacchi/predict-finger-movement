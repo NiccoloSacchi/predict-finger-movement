{
 "cells": [
  {
   "cell_type": "code",
   "execution_count": 1,
   "metadata": {
    "collapsed": false
   },
   "outputs": [],
   "source": [
    "import dlc_bci as bci\n",
    "\n",
    "import torch\n",
    "import numpy as np\n",
    "\n",
    "from models import *\n",
    "from callbacks import keep_best_model, store_best_model\n",
    "\n",
    "from types import SimpleNamespace \n",
    "\n",
    "\n",
    "from torch import optim\n",
    "from torch import nn\n",
    "from torch import Tensor\n",
    "from torch.autograd import Variable\n",
    "\n",
    "device = torch.device(\"cuda:1\" if torch.cuda.is_available() else \"cpu\")\n",
    "\n",
    "%matplotlib inline\n",
    "%load_ext autoreload\n",
    "%autoreload 2"
   ]
  },
  {
   "cell_type": "markdown",
   "metadata": {},
   "source": [
    "### Load"
   ]
  },
  {
   "cell_type": "code",
   "execution_count": 2,
   "metadata": {
    "collapsed": false
   },
   "outputs": [
    {
     "name": "stdout",
     "output_type": "stream",
     "text": [
      "<class 'torch.Tensor'> torch.Size([316, 28, 50])\n",
      "<class 'torch.Tensor'> torch.Size([316])\n",
      "<class 'torch.Tensor'> torch.Size([100, 28, 50])\n",
      "<class 'torch.Tensor'> torch.Size([100])\n"
     ]
    }
   ],
   "source": [
    "one_khz=False\n",
    "\n",
    "train = SimpleNamespace()\n",
    "train.X, train.y = bci.load(root='./data_bci', one_khz=one_khz)\n",
    "print(str(type(train.X)), train.X.size())\n",
    "print(str(type(train.y)), train.y.size())\n",
    "\n",
    "test = SimpleNamespace()\n",
    "test.X, test.y = bci.load(root='./data_bci', train=False, one_khz=one_khz)\n",
    "print(str(type(test.X)), test.X.size())\n",
    "print(str(type(test.y)), test.y.size())"
   ]
  },
  {
   "cell_type": "code",
   "execution_count": 3,
   "metadata": {
    "collapsed": false
   },
   "outputs": [],
   "source": [
    "# torch.manual_seed(0) "
   ]
  },
  {
   "cell_type": "code",
   "execution_count": 4,
   "metadata": {
    "collapsed": true
   },
   "outputs": [],
   "source": [
    "from collections import OrderedDict\n",
    "\n",
    "def cross_validate_grid_search(\n",
    "    modelClass, \n",
    "    train, \n",
    "    epochs=100,\n",
    "    n_splits=5,\n",
    "    grid_search_on=OrderedDict([\n",
    "        (\"nb_hidden\", [np.asscalar(n) for n in np.arange(40, 201, 40)]),\n",
    "        (\"activation\", [nn.ReLU, nn.Tanh, nn.ELU]),\n",
    "        (\"optimizer\", [optim.Adam, optim.Adadelta, optim.Adamax]),\n",
    "        (\"weight_decay\", [np.asscalar(wd) for wd in np.logspace(-6, -2, 4)]),\n",
    "        (\"dropout\", [np.asscalar(d) for d in np.linspace(0, 0.30, 4)])\n",
    "    ])\n",
    "):\n",
    "    \"\"\" Apply a simplified grid search on the parameters in \"grid_search_on\" and optimize\n",
    "    one at a time (to keep the complexity linear).    \n",
    "    Finally save the best configuration.\n",
    "    \"\"\"\n",
    "    \n",
    "    X_tr, y_tr = modelClass.prepare_data(train)\n",
    "    X_tr = X_tr.to(device)\n",
    "    y_tr = y_tr.to(device)\n",
    "    \n",
    "    print(\"Optimizing in order:\", grid_search_on.keys())\n",
    "    # here we store the best parameters as we find them (initialized with just the first parameter)\n",
    "    bestParams = {}\n",
    "    for param in grid_search_on.keys():\n",
    "        bestParams[param] = grid_search_on[param][0]\n",
    "    \n",
    "    for param_name in grid_search_on.keys():\n",
    "        modelScores = {\n",
    "            \"tr_scores\": [],\n",
    "            \"va_scores\": []\n",
    "        }\n",
    "        param_values = grid_search_on[param_name]\n",
    "        print(\"\\nCross validation on\", param_name+\":\")\n",
    "        for n in param_values: # scan through the parameter values\n",
    "            print(\"------\", param_name, \"=\", str(n), \"------\")\n",
    "            bestParams[param_name] = n\n",
    "            model = modelClass(**bestParams)\n",
    "            model.to(device)\n",
    "            result = model.cross_validate(X_tr, y_tr, verbose=False, epochs=epochs, n_splits=n_splits)\n",
    "\n",
    "            modelScores[\"tr_scores\"].append(np.asscalar(np.mean(result[\"train_score\"])))\n",
    "            modelScores[\"va_scores\"].append(np.asscalar(np.mean(result[\"test_score\"])))\n",
    "\n",
    "        # save the obtained scores \n",
    "        model.save_data(modelScores, \"cross_validation/scores/\"+param_name, pickle_protocol=0)\n",
    "        # get the best parameter\n",
    "        bestParams[param_name] = param_values[np.argmax(modelScores[\"va_scores\"])]\n",
    "        print(\"Best\", param_name + \":\", str(bestParams[param_name]) + \". Score:\", np.max(modelScores[\"va_scores\"]))\n",
    "    \n",
    "    model.save_data(grid_search_on, \"cross_validation/tried_params\", pickle_protocol=0)\n",
    "    model.save_data(bestParams, \"cross_validation/best_params\", pickle_protocol=0)\n",
    "    # [np.asscalar(wd) for wd in np.logspace(-6, -1, 4)]\n",
    "    # best_n = n_hidden_values[np.argmax(modelScores[\"va_scores\"])]\n",
    "    # print('Best #hidden units:', best_n)\n",
    "    # print('Test score:',\n",
    "    #       CNN2D(n)\n",
    "    #       .fit(X_tr, y_tr, epochs=50)\n",
    "    #       .score(X_te, y_te))"
   ]
  },
  {
   "cell_type": "markdown",
   "metadata": {},
   "source": [
    "- cross validate gird search on `CNN2D_MaxPool`"
   ]
  },
  {
   "cell_type": "code",
   "execution_count": 11,
   "metadata": {
    "collapsed": false,
    "scrolled": false
   },
   "outputs": [
    {
     "name": "stdout",
     "output_type": "stream",
     "text": [
      "Optimizing in order: odict_keys(['nb_hidden', 'activation', 'optimizer', 'weight_decay', 'dropout'])\n",
      "\n",
      "Cross validation on nb_hidden:\n",
      "------ nb_hidden = 40 ------\n"
     ]
    },
    {
     "name": "stderr",
     "output_type": "stream",
     "text": [
      "/cvlabdata1/home/sacchi/others/predict-finger-movement/modelWrapper.py:116: UserWarning: invalid index of a 0-dim tensor. This will be an error in PyTorch 0.5. Use tensor.item() to convert a 0-dim tensor to a Python number\n",
      "  sum_loss_train += loss.data[0].item()\n",
      "/cvlabdata1/home/sacchi/others/predict-finger-movement/modelWrapper.py:123: UserWarning: invalid index of a 0-dim tensor. This will be an error in PyTorch 0.5. Use tensor.item() to convert a 0-dim tensor to a Python number\n",
      "  test_loss = self.criterion(self(X_test), y_test).data[0] if compute_test_err else None\n"
     ]
    },
    {
     "name": "stdout",
     "output_type": "stream",
     "text": [
      "------ nb_hidden = 80 ------\n",
      "------ nb_hidden = 120 ------\n",
      "------ nb_hidden = 160 ------\n",
      "------ nb_hidden = 200 ------\n",
      "\n",
      "Cross validation on activation:\n",
      "------ activation = <class 'torch.nn.modules.activation.ReLU'> ------\n",
      "------ activation = <class 'torch.nn.modules.activation.Tanh'> ------\n",
      "------ activation = <class 'torch.nn.modules.activation.ELU'> ------\n",
      "\n",
      "Cross validation on optimizer:\n",
      "------ optimizer = <class 'torch.optim.adam.Adam'> ------\n",
      "------ optimizer = <class 'torch.optim.adadelta.Adadelta'> ------\n",
      "------ optimizer = <class 'torch.optim.adamax.Adamax'> ------\n",
      "\n",
      "Cross validation on weight_decay:\n",
      "------ weight_decay = 1e-06 ------\n",
      "------ weight_decay = 2.1544346900318823e-05 ------\n",
      "------ weight_decay = 0.00046415888336127773 ------\n",
      "------ weight_decay = 0.01 ------\n",
      "\n",
      "Cross validation on dropout:\n",
      "------ dropout = 0.0 ------\n",
      "------ dropout = 0.09999999999999999 ------\n",
      "------ dropout = 0.19999999999999998 ------\n",
      "------ dropout = 0.3 ------\n"
     ]
    }
   ],
   "source": [
    "cross_validate_grid_search(CNN2D_MaxPool, train, epochs=100)"
   ]
  },
  {
   "cell_type": "markdown",
   "metadata": {},
   "source": [
    "- cross validate gird search on `CNN_1D_MaxPool`"
   ]
  },
  {
   "cell_type": "code",
   "execution_count": 6,
   "metadata": {
    "collapsed": false
   },
   "outputs": [
    {
     "name": "stdout",
     "output_type": "stream",
     "text": [
      "Optimizing in order: odict_keys(['nb_hidden', 'activation', 'optimizer', 'weight_decay', 'dropout'])\n",
      "\n",
      "Cross validation on nb_hidden:\n",
      "------ nb_hidden = 40 ------\n"
     ]
    },
    {
     "name": "stderr",
     "output_type": "stream",
     "text": [
      "/cvlabdata1/home/sacchi/others/predict-finger-movement/modelWrapper.py:116: UserWarning: invalid index of a 0-dim tensor. This will be an error in PyTorch 0.5. Use tensor.item() to convert a 0-dim tensor to a Python number\n",
      "  sum_loss_train += loss.data[0].item()\n",
      "/cvlabdata1/home/sacchi/others/predict-finger-movement/modelWrapper.py:123: UserWarning: invalid index of a 0-dim tensor. This will be an error in PyTorch 0.5. Use tensor.item() to convert a 0-dim tensor to a Python number\n",
      "  test_loss = self.criterion(self(X_test), y_test).data[0] if compute_test_err else None\n"
     ]
    },
    {
     "name": "stdout",
     "output_type": "stream",
     "text": [
      "------ nb_hidden = 80 ------\n",
      "------ nb_hidden = 120 ------\n",
      "------ nb_hidden = 160 ------\n",
      "------ nb_hidden = 200 ------\n",
      "Best nb_hidden: 40. Score: 0.765773809524\n",
      "\n",
      "Cross validation on activation:\n",
      "------ activation = <class 'torch.nn.modules.activation.ReLU'> ------\n",
      "------ activation = <class 'torch.nn.modules.activation.Tanh'> ------\n",
      "------ activation = <class 'torch.nn.modules.activation.ELU'> ------\n",
      "Best activation: <class 'torch.nn.modules.activation.ReLU'>. Score: 0.740376984127\n",
      "\n",
      "Cross validation on optimizer:\n",
      "------ optimizer = <class 'torch.optim.adam.Adam'> ------\n",
      "------ optimizer = <class 'torch.optim.adadelta.Adadelta'> ------\n",
      "------ optimizer = <class 'torch.optim.adamax.Adamax'> ------\n",
      "Best optimizer: <class 'torch.optim.adamax.Adamax'>. Score: 0.753174603175\n",
      "\n",
      "Cross validation on weight_decay:\n",
      "------ weight_decay = 1e-06 ------\n",
      "------ weight_decay = 2.1544346900318823e-05 ------\n",
      "------ weight_decay = 0.00046415888336127773 ------\n",
      "------ weight_decay = 0.01 ------\n",
      "Best weight_decay: 2.1544346900318823e-05. Score: 0.781547619048\n",
      "\n",
      "Cross validation on dropout:\n",
      "------ dropout = 0.0 ------\n",
      "------ dropout = 0.09999999999999999 ------\n",
      "------ dropout = 0.19999999999999998 ------\n",
      "------ dropout = 0.3 ------\n",
      "Best dropout: 0.19999999999999998. Score: 0.781597222222\n"
     ]
    }
   ],
   "source": [
    "cross_validate_grid_search(CNN_1D_MaxPool, train, epochs=100)"
   ]
  },
  {
   "cell_type": "markdown",
   "metadata": {},
   "source": [
    "- cross validate gird search on `CNN_1D_BatchNorm`"
   ]
  },
  {
   "cell_type": "code",
   "execution_count": 7,
   "metadata": {
    "collapsed": false
   },
   "outputs": [
    {
     "name": "stdout",
     "output_type": "stream",
     "text": [
      "Optimizing in order: odict_keys(['nb_hidden', 'activation', 'optimizer', 'weight_decay', 'dropout'])\n",
      "\n",
      "Cross validation on nb_hidden:\n",
      "------ nb_hidden = 40 ------\n"
     ]
    },
    {
     "name": "stderr",
     "output_type": "stream",
     "text": [
      "/cvlabdata1/home/sacchi/others/predict-finger-movement/modelWrapper.py:116: UserWarning: invalid index of a 0-dim tensor. This will be an error in PyTorch 0.5. Use tensor.item() to convert a 0-dim tensor to a Python number\n",
      "  sum_loss_train += loss.data[0].item()\n",
      "/cvlabdata1/home/sacchi/others/predict-finger-movement/modelWrapper.py:123: UserWarning: invalid index of a 0-dim tensor. This will be an error in PyTorch 0.5. Use tensor.item() to convert a 0-dim tensor to a Python number\n",
      "  test_loss = self.criterion(self(X_test), y_test).data[0] if compute_test_err else None\n"
     ]
    },
    {
     "name": "stdout",
     "output_type": "stream",
     "text": [
      "------ nb_hidden = 80 ------\n",
      "------ nb_hidden = 120 ------\n",
      "------ nb_hidden = 160 ------\n",
      "------ nb_hidden = 200 ------\n",
      "Best nb_hidden: 120. Score: 0.677380952381\n",
      "\n",
      "Cross validation on activation:\n",
      "------ activation = <class 'torch.nn.modules.activation.ReLU'> ------\n",
      "------ activation = <class 'torch.nn.modules.activation.Tanh'> ------\n",
      "------ activation = <class 'torch.nn.modules.activation.ELU'> ------\n",
      "Best activation: <class 'torch.nn.modules.activation.Tanh'>. Score: 0.78814484127\n",
      "\n",
      "Cross validation on optimizer:\n",
      "------ optimizer = <class 'torch.optim.adam.Adam'> ------\n",
      "------ optimizer = <class 'torch.optim.adadelta.Adadelta'> ------\n",
      "------ optimizer = <class 'torch.optim.adamax.Adamax'> ------\n",
      "Best optimizer: <class 'torch.optim.adam.Adam'>. Score: 0.787996031746\n",
      "\n",
      "Cross validation on weight_decay:\n",
      "------ weight_decay = 1e-06 ------\n",
      "------ weight_decay = 2.1544346900318823e-05 ------\n",
      "------ weight_decay = 0.00046415888336127773 ------\n",
      "------ weight_decay = 0.01 ------\n",
      "Best weight_decay: 0.00046415888336127773. Score: 0.803670634921\n",
      "\n",
      "Cross validation on dropout:\n",
      "------ dropout = 0.0 ------\n",
      "------ dropout = 0.09999999999999999 ------\n",
      "------ dropout = 0.19999999999999998 ------\n",
      "------ dropout = 0.3 ------\n",
      "Best dropout: 0.0. Score: 0.832291666667\n"
     ]
    }
   ],
   "source": [
    "cross_validate_grid_search(CNN_1D_BatchNorm, train, epochs=100)"
   ]
  },
  {
   "cell_type": "markdown",
   "metadata": {},
   "source": [
    "- cross validate gird search on `CNN_1D_BatchNorm_Dial`"
   ]
  },
  {
   "cell_type": "code",
   "execution_count": 15,
   "metadata": {
    "collapsed": false
   },
   "outputs": [
    {
     "name": "stdout",
     "output_type": "stream",
     "text": [
      "Optimizing in order: odict_keys(['nb_hidden', 'activation', 'optimizer', 'weight_decay', 'dropout'])\n",
      "\n",
      "Cross validation on nb_hidden:\n",
      "------ nb_hidden = 40 ------\n"
     ]
    },
    {
     "name": "stderr",
     "output_type": "stream",
     "text": [
      "/cvlabdata1/home/sacchi/others/predict-finger-movement/modelWrapper.py:116: UserWarning: invalid index of a 0-dim tensor. This will be an error in PyTorch 0.5. Use tensor.item() to convert a 0-dim tensor to a Python number\n",
      "  sum_loss_train += loss.data[0].item()\n",
      "/cvlabdata1/home/sacchi/others/predict-finger-movement/modelWrapper.py:123: UserWarning: invalid index of a 0-dim tensor. This will be an error in PyTorch 0.5. Use tensor.item() to convert a 0-dim tensor to a Python number\n",
      "  test_loss = self.criterion(self(X_test), y_test).data[0] if compute_test_err else None\n"
     ]
    },
    {
     "name": "stdout",
     "output_type": "stream",
     "text": [
      "------ nb_hidden = 80 ------\n",
      "------ nb_hidden = 120 ------\n",
      "------ nb_hidden = 160 ------\n",
      "------ nb_hidden = 200 ------\n",
      "Best nb_hidden: 120. Score: 0.683829365079\n",
      "\n",
      "Cross validation on activation:\n",
      "------ activation = <class 'torch.nn.modules.activation.ReLU'> ------\n",
      "------ activation = <class 'torch.nn.modules.activation.Tanh'> ------\n",
      "------ activation = <class 'torch.nn.modules.activation.ELU'> ------\n",
      "Best activation: <class 'torch.nn.modules.activation.Tanh'>. Score: 0.775446428571\n",
      "\n",
      "Cross validation on optimizer:\n",
      "------ optimizer = <class 'torch.optim.adam.Adam'> ------\n",
      "------ optimizer = <class 'torch.optim.adadelta.Adadelta'> ------\n",
      "------ optimizer = <class 'torch.optim.adamax.Adamax'> ------\n",
      "Best optimizer: <class 'torch.optim.adamax.Adamax'>. Score: 0.787996031746\n",
      "\n",
      "Cross validation on weight_decay:\n",
      "------ weight_decay = 1e-06 ------\n",
      "------ weight_decay = 2.1544346900318823e-05 ------\n",
      "------ weight_decay = 0.00046415888336127773 ------\n",
      "------ weight_decay = 0.01 ------\n",
      "Best weight_decay: 0.01. Score: 0.800446428571\n",
      "\n",
      "Cross validation on dropout:\n",
      "------ dropout = 0.0 ------\n",
      "------ dropout = 0.09999999999999999 ------\n",
      "------ dropout = 0.19999999999999998 ------\n",
      "------ dropout = 0.3 ------\n",
      "Best dropout: 0.0. Score: 0.791170634921\n"
     ]
    }
   ],
   "source": [
    "cross_validate_grid_search(CNN_1D_BatchNorm_Dial, train, epochs=100)"
   ]
  },
  {
   "cell_type": "markdown",
   "metadata": {},
   "source": [
    "- cross validate gird search on `CNN_1D_Residual`"
   ]
  },
  {
   "cell_type": "code",
   "execution_count": 5,
   "metadata": {
    "collapsed": false
   },
   "outputs": [
    {
     "name": "stdout",
     "output_type": "stream",
     "text": [
      "Optimizing in order: odict_keys(['nb_hidden', 'activation', 'optimizer', 'weight_decay', 'dropout'])\n",
      "\n",
      "Cross validation on nb_hidden:\n",
      "------ nb_hidden = 40 ------\n"
     ]
    },
    {
     "name": "stderr",
     "output_type": "stream",
     "text": [
      "/cvlabdata1/home/sacchi/others/predict-finger-movement/modelWrapper.py:116: UserWarning: invalid index of a 0-dim tensor. This will be an error in PyTorch 0.5. Use tensor.item() to convert a 0-dim tensor to a Python number\n",
      "  sum_loss_train += loss.data[0].item()\n",
      "/cvlabdata1/home/sacchi/others/predict-finger-movement/modelWrapper.py:123: UserWarning: invalid index of a 0-dim tensor. This will be an error in PyTorch 0.5. Use tensor.item() to convert a 0-dim tensor to a Python number\n",
      "  test_loss = self.criterion(self(X_test), y_test).data[0] if compute_test_err else None\n"
     ]
    },
    {
     "name": "stdout",
     "output_type": "stream",
     "text": [
      "------ nb_hidden = 80 ------\n",
      "------ nb_hidden = 120 ------\n",
      "------ nb_hidden = 160 ------\n",
      "------ nb_hidden = 200 ------\n",
      "Best nb_hidden: 40. Score: 0.731001984127\n",
      "\n",
      "Cross validation on activation:\n",
      "------ activation = <class 'torch.nn.modules.activation.ReLU'> ------\n",
      "------ activation = <class 'torch.nn.modules.activation.Tanh'> ------\n",
      "------ activation = <class 'torch.nn.modules.activation.ELU'> ------\n",
      "Best activation: <class 'torch.nn.modules.activation.Tanh'>. Score: 0.721329365079\n",
      "\n",
      "Cross validation on optimizer:\n",
      "------ optimizer = <class 'torch.optim.adam.Adam'> ------\n",
      "------ optimizer = <class 'torch.optim.adadelta.Adadelta'> ------\n",
      "------ optimizer = <class 'torch.optim.adamax.Adamax'> ------\n",
      "Best optimizer: <class 'torch.optim.adadelta.Adadelta'>. Score: 0.731051587302\n",
      "\n",
      "Cross validation on weight_decay:\n",
      "------ weight_decay = 1e-06 ------\n",
      "------ weight_decay = 2.1544346900318823e-05 ------\n",
      "------ weight_decay = 0.00046415888336127773 ------\n",
      "------ weight_decay = 0.01 ------\n",
      "Best weight_decay: 0.01. Score: 0.746775793651\n",
      "\n",
      "Cross validation on dropout:\n",
      "------ dropout = 0.0 ------\n",
      "------ dropout = 0.09999999999999999 ------\n",
      "------ dropout = 0.19999999999999998 ------\n",
      "------ dropout = 0.3 ------\n",
      "Best dropout: 0.3. Score: 0.71810515873\n"
     ]
    }
   ],
   "source": [
    "cross_validate_grid_search(CNN_1D_Residual, train, epochs=100)"
   ]
  },
  {
   "cell_type": "markdown",
   "metadata": {},
   "source": [
    "### random stuff"
   ]
  },
  {
   "cell_type": "code",
   "execution_count": 6,
   "metadata": {
    "collapsed": false
   },
   "outputs": [],
   "source": [
    "\n",
    "# [a.device for a in model.parameters()]"
   ]
  },
  {
   "cell_type": "code",
   "execution_count": 6,
   "metadata": {
    "collapsed": false
   },
   "outputs": [
    {
     "name": "stderr",
     "output_type": "stream",
     "text": [
      "/cvlabdata1/home/sacchi/others/predict-finger-movement/modelWrapper.py:115: UserWarning: invalid index of a 0-dim tensor. This will be an error in PyTorch 0.5. Use tensor.item() to convert a 0-dim tensor to a Python number\n",
      "  sum_loss_train += loss.data[0]\n"
     ]
    },
    {
     "name": "stdout",
     "output_type": "stream",
     "text": [
      "Epoch 0: Train loss: tensor(16.1970, device='cuda:1'). Train accuracy 52.22%. \n",
      "Epoch 1: Train loss: tensor(11.6109, device='cuda:1'). Train accuracy 60.44%. \n",
      "Epoch 2: Train loss: tensor(11.1342, device='cuda:1'). Train accuracy 50.95%. \n",
      "Epoch 3: Train loss: tensor(11.0515, device='cuda:1'). Train accuracy 63.29%. \n",
      "Epoch 4: Train loss: tensor(11.0026, device='cuda:1'). Train accuracy 63.61%. \n",
      "Epoch 5: Train loss: tensor(11.0281, device='cuda:1'). Train accuracy 64.87%. \n",
      "Epoch 6: Train loss: tensor(10.8853, device='cuda:1'). Train accuracy 66.46%. \n",
      "Epoch 7: Train loss: tensor(10.7349, device='cuda:1'). Train accuracy 68.35%. \n",
      "Epoch 8: Train loss: tensor(10.6229, device='cuda:1'). Train accuracy 68.35%. \n",
      "Epoch 9: Train loss: tensor(10.6490, device='cuda:1'). Train accuracy 66.77%. \n",
      "Epoch 10: Train loss: tensor(10.7949, device='cuda:1'). Train accuracy 67.09%. \n",
      "Epoch 11: Train loss: tensor(10.1920, device='cuda:1'). Train accuracy 71.20%. \n",
      "Epoch 12: Train loss: tensor(10.2017, device='cuda:1'). Train accuracy 65.82%. \n",
      "Epoch 13: Train loss: tensor(10.3924, device='cuda:1'). Train accuracy 71.52%. \n",
      "Epoch 14: Train loss: tensor(10.0840, device='cuda:1'). Train accuracy 76.27%. \n",
      "Epoch 15: Train loss: tensor(9.5070, device='cuda:1'). Train accuracy 76.58%. \n",
      "Epoch 16: Train loss: tensor(8.6179, device='cuda:1'). Train accuracy 75.00%. \n",
      "Epoch 17: Train loss: tensor(8.1994, device='cuda:1'). Train accuracy 75.95%. \n",
      "Epoch 18: Train loss: tensor(7.6444, device='cuda:1'). Train accuracy 78.80%. \n",
      "Epoch 19: Train loss: tensor(8.2035, device='cuda:1'). Train accuracy 83.86%. \n",
      "Epoch 20: Train loss: tensor(8.1137, device='cuda:1'). Train accuracy 81.96%. \n",
      "Epoch 21: Train loss: tensor(7.6672, device='cuda:1'). Train accuracy 81.33%. \n",
      "Epoch 22: Train loss: tensor(6.8840, device='cuda:1'). Train accuracy 82.59%. \n",
      "Epoch 23: Train loss: tensor(6.8325, device='cuda:1'). Train accuracy 83.23%. \n",
      "Epoch 24: Train loss: tensor(6.5651, device='cuda:1'). Train accuracy 88.61%. \n"
     ]
    },
    {
     "data": {
      "text/plain": [
       "CNN2D_MaxPool(\n",
       "  (features): Sequential(\n",
       "    (0): Conv2d(1, 32, kernel_size=(3, 7), stride=(1, 1), padding=(1, 3))\n",
       "    (1): MaxPool2d(kernel_size=2, stride=2, padding=0, dilation=1, ceil_mode=False)\n",
       "    (2): ReLU()\n",
       "    (3): Dropout(p=0.1)\n",
       "    (4): Conv2d(32, 64, kernel_size=(3, 3), stride=(1, 1), padding=(1, 1))\n",
       "    (5): MaxPool2d(kernel_size=(2, 5), stride=(2, 5), padding=0, dilation=1, ceil_mode=False)\n",
       "    (6): ReLU()\n",
       "    (7): Dropout(p=0.1)\n",
       "    (8): Conv2d(64, 32, kernel_size=(5, 5), stride=(1, 1), padding=(2, 2))\n",
       "    (9): MaxPool2d(kernel_size=2, stride=2, padding=(1, 1), dilation=1, ceil_mode=False)\n",
       "    (10): ReLU()\n",
       "    (11): Dropout(p=0.1)\n",
       "  )\n",
       "  (classifier): Sequential(\n",
       "    (0): Linear(in_features=384, out_features=50, bias=True)\n",
       "    (1): ReLU()\n",
       "    (2): Linear(in_features=50, out_features=2, bias=True)\n",
       "  )\n",
       "  (criterion): CrossEntropyLoss()\n",
       ")"
      ]
     },
     "execution_count": 6,
     "metadata": {},
     "output_type": "execute_result"
    }
   ],
   "source": [
    "grid_search_on=OrderedDict([\n",
    "    (\"nb_hidden\", [np.asscalar(n) for n in np.arange(40, 201, 40)]),\n",
    "    (\"activation\", [nn.ReLU, nn.Tanh, nn.ELU]),\n",
    "    (\"optimizer\", [optim.Adam, optim.Adadelta, optim.Adamax]),\n",
    "    (\"weight_decay\", [np.asscalar(wd) for wd in np.logspace(-6, -1, 4)])\n",
    "])\n",
    "bestParams = {}\n",
    "for param in grid_search_on.keys():\n",
    "    bestParams[param] = grid_search_on[param][0]\n",
    "    \n",
    "X_tr, y_tr = CNN2D_MaxPool.prepare_data(train)\n",
    "X_tr = X_tr.to(device)\n",
    "y_tr = y_tr.to(device)\n",
    "\n",
    "model = CNN2D_MaxPool().to(device)\n",
    "model.fit(X_tr, y_tr)"
   ]
  },
  {
   "cell_type": "code",
   "execution_count": 10,
   "metadata": {
    "collapsed": false
   },
   "outputs": [
    {
     "data": {
      "text/plain": [
       "tensor([ 0,  1,  0,  1,  0,  1,  0,  1,  0,  0,  1,  1,  0,  0,\n",
       "         1,  1,  1,  0,  0,  1,  0,  0,  1,  0,  1,  0,  0,  0,\n",
       "         0,  0,  0,  0,  1,  1,  1,  1,  1,  1,  0,  1,  0,  1,\n",
       "         0,  0,  1,  0,  1,  1,  0,  1,  1,  0,  0,  1,  0,  0,\n",
       "         1,  0,  1,  0,  1,  0,  0,  1,  0,  0,  0,  0,  0,  1,\n",
       "         0,  1,  0,  0,  0,  0,  0,  1,  1,  1,  0,  1,  0,  1,\n",
       "         1,  1,  1,  1,  1,  1,  1,  1,  0,  0,  0,  0,  1,  1,\n",
       "         1,  0,  1,  1,  1,  0,  1,  0,  1,  1,  1,  0,  1,  0,\n",
       "         1,  0,  0,  0,  1,  0,  0,  1,  1,  1,  1,  0,  1,  1,\n",
       "         0,  0,  1,  1,  1,  1,  1,  0,  0,  0,  0,  1,  1,  0,\n",
       "         1,  1,  1,  1,  1,  1,  1,  0,  0,  0,  1,  1,  0,  0,\n",
       "         1,  1,  0,  0,  0,  0,  0,  1,  1,  1,  1,  1,  1,  0,\n",
       "         1,  0,  1,  1,  0,  1,  0,  0,  1,  1,  1,  0,  0,  1,\n",
       "         0,  0,  0,  0,  0,  1,  1,  0,  0,  0,  0,  1,  0,  0,\n",
       "         0,  1,  0,  0,  1,  0,  0,  0,  1,  1,  1,  0,  0,  0,\n",
       "         1,  1,  1,  0,  0,  0,  1,  0,  1,  1,  1,  1,  1,  1,\n",
       "         1,  0,  1,  0,  0,  0,  1,  0,  1,  1,  1,  0,  1,  1,\n",
       "         0,  0,  0,  1,  1,  0,  1,  1,  0,  1,  1,  1,  1,  1,\n",
       "         0,  1,  0,  1,  0,  0,  0,  0,  0,  0,  1,  1,  1,  0,\n",
       "         1,  1,  1,  0,  1,  0,  0,  1,  1,  0,  0,  1,  0,  0,\n",
       "         1,  0,  0,  0,  1,  0,  0,  1,  1,  0,  0,  1,  1,  1,\n",
       "         0,  1,  0,  1,  1,  1,  0,  1,  1,  0,  1,  0,  0,  0,\n",
       "         0,  0,  0,  0,  0,  0,  0,  0], device='cuda:1')"
      ]
     },
     "execution_count": 10,
     "metadata": {},
     "output_type": "execute_result"
    }
   ],
   "source": [
    "y = y_tr\n",
    "true = y.data.max(1)[1] if y.dim() == 2 else y.data\n",
    "true"
   ]
  },
  {
   "cell_type": "code",
   "execution_count": 37,
   "metadata": {
    "collapsed": false
   },
   "outputs": [],
   "source": [
    "a = torch.tensor(Tensor(3000, 3000).uniform_(-10, 10))\n",
    "b = torch.tensor(Tensor(3000, 3000).uniform_(-10, 10))"
   ]
  },
  {
   "cell_type": "code",
   "execution_count": 38,
   "metadata": {
    "collapsed": false
   },
   "outputs": [
    {
     "name": "stdout",
     "output_type": "stream",
     "text": [
      "1 loop, best of 3: 221 ms per loop\n",
      "1000 loops, best of 3: 5.33 ms per loop\n"
     ]
    }
   ],
   "source": [
    "%timeit a@b\n",
    "a_gpu = a.to(device)\n",
    "b_gpu = b.to(device)\n",
    "%timeit a_gpu@b_gpu"
   ]
  },
  {
   "cell_type": "code",
   "execution_count": 33,
   "metadata": {
    "collapsed": false
   },
   "outputs": [
    {
     "data": {
      "text/plain": [
       "(False, True)"
      ]
     },
     "execution_count": 33,
     "metadata": {},
     "output_type": "execute_result"
    }
   ],
   "source": [
    "a.is_cuda, a_gpu.is_cuda"
   ]
  },
  {
   "cell_type": "code",
   "execution_count": null,
   "metadata": {
    "collapsed": true
   },
   "outputs": [],
   "source": []
  },
  {
   "cell_type": "code",
   "execution_count": 6,
   "metadata": {
    "collapsed": false
   },
   "outputs": [
    {
     "data": {
      "text/plain": [
       "tensor([ 0])"
      ]
     },
     "execution_count": 6,
     "metadata": {},
     "output_type": "execute_result"
    }
   ],
   "source": [
    "torch.tensor([1, 1])/10"
   ]
  },
  {
   "cell_type": "code",
   "execution_count": null,
   "metadata": {
    "collapsed": true
   },
   "outputs": [],
   "source": [
    "import torch\n",
    "from torch import nn\n",
    "\n",
    "device = torch.device(\"cuda:0\")\n",
    "# device = torch.device(\"cpu\")\n",
    "\n",
    "x = torch.Tensor(10, 2).to(device)\n",
    "linear = nn.Linear(2, 4)\n",
    "o = optim.Adagrad(linear.parameters())\n",
    "# o = optim.Adam(linear.parameters())\n",
    "\n",
    "linear.to(device)\n",
    "\n",
    "linear(x).mean().backward()\n",
    "o.step()"
   ]
  }
 ],
 "metadata": {
  "kernelspec": {
   "display_name": "Python 3",
   "language": "python",
   "name": "python3"
  },
  "language_info": {
   "codemirror_mode": {
    "name": "ipython",
    "version": 3
   },
   "file_extension": ".py",
   "mimetype": "text/x-python",
   "name": "python",
   "nbconvert_exporter": "python",
   "pygments_lexer": "ipython3",
   "version": "3.6.5"
  }
 },
 "nbformat": 4,
 "nbformat_minor": 2
}
